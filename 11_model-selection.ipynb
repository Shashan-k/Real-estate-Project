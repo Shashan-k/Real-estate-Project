{
 "cells": [
  {
   "cell_type": "code",
   "execution_count": 1,
   "id": "d37ff281",
   "metadata": {},
   "outputs": [],
   "source": [
    "import numpy as np\n",
    "import pandas as pd\n",
    "\n",
    "from sklearn.model_selection import KFold, cross_val_score\n",
    "from sklearn.linear_model import LinearRegression,Ridge,Lasso\n",
    "from sklearn.pipeline import Pipeline\n",
    "from sklearn.preprocessing import OneHotEncoder, StandardScaler, OrdinalEncoder\n",
    "from sklearn.compose import ColumnTransformer\n",
    "from sklearn.svm import SVR\n",
    "from sklearn.tree import DecisionTreeRegressor\n",
    "from sklearn.ensemble import ExtraTreesRegressor\n",
    "from sklearn.ensemble import RandomForestRegressor,GradientBoostingRegressor,AdaBoostRegressor\n",
    "from sklearn.neural_network import MLPRegressor\n",
    "from xgboost import XGBRegressor\n",
    "\n",
    "from sklearn.model_selection import train_test_split\n",
    "from sklearn.metrics import mean_absolute_error\n",
    "\n",
    "from sklearn.decomposition import PCA"
   ]
  },
  {
   "cell_type": "code",
   "execution_count": 2,
   "id": "80eb1b6e",
   "metadata": {},
   "outputs": [],
   "source": [
    "df = pd.read_csv('gurgaon_properties_post_feature_selection_v2.csv')"
   ]
  },
  {
   "cell_type": "code",
   "execution_count": 3,
   "id": "a07f9fb5",
   "metadata": {},
   "outputs": [
    {
     "data": {
      "text/html": [
       "<div>\n",
       "<style scoped>\n",
       "    .dataframe tbody tr th:only-of-type {\n",
       "        vertical-align: middle;\n",
       "    }\n",
       "\n",
       "    .dataframe tbody tr th {\n",
       "        vertical-align: top;\n",
       "    }\n",
       "\n",
       "    .dataframe thead th {\n",
       "        text-align: right;\n",
       "    }\n",
       "</style>\n",
       "<table border=\"1\" class=\"dataframe\">\n",
       "  <thead>\n",
       "    <tr style=\"text-align: right;\">\n",
       "      <th></th>\n",
       "      <th>property_type</th>\n",
       "      <th>sector</th>\n",
       "      <th>price</th>\n",
       "      <th>bedRoom</th>\n",
       "      <th>bathroom</th>\n",
       "      <th>balcony</th>\n",
       "      <th>agePossession</th>\n",
       "      <th>built_up_area</th>\n",
       "      <th>servant room</th>\n",
       "      <th>store room</th>\n",
       "      <th>furnishing_type</th>\n",
       "      <th>luxury_category</th>\n",
       "      <th>floor_category</th>\n",
       "    </tr>\n",
       "  </thead>\n",
       "  <tbody>\n",
       "    <tr>\n",
       "      <th>0</th>\n",
       "      <td>flat</td>\n",
       "      <td>sector 36</td>\n",
       "      <td>0.82</td>\n",
       "      <td>3.0</td>\n",
       "      <td>2.0</td>\n",
       "      <td>2</td>\n",
       "      <td>New Property</td>\n",
       "      <td>850.0</td>\n",
       "      <td>0.0</td>\n",
       "      <td>0.0</td>\n",
       "      <td>0.0</td>\n",
       "      <td>Low</td>\n",
       "      <td>Low Floor</td>\n",
       "    </tr>\n",
       "    <tr>\n",
       "      <th>1</th>\n",
       "      <td>flat</td>\n",
       "      <td>sector 89</td>\n",
       "      <td>0.95</td>\n",
       "      <td>2.0</td>\n",
       "      <td>2.0</td>\n",
       "      <td>2</td>\n",
       "      <td>New Property</td>\n",
       "      <td>1226.0</td>\n",
       "      <td>1.0</td>\n",
       "      <td>0.0</td>\n",
       "      <td>0.0</td>\n",
       "      <td>Low</td>\n",
       "      <td>Mid Floor</td>\n",
       "    </tr>\n",
       "    <tr>\n",
       "      <th>2</th>\n",
       "      <td>flat</td>\n",
       "      <td>sohna road</td>\n",
       "      <td>0.32</td>\n",
       "      <td>2.0</td>\n",
       "      <td>2.0</td>\n",
       "      <td>1</td>\n",
       "      <td>New Property</td>\n",
       "      <td>1000.0</td>\n",
       "      <td>0.0</td>\n",
       "      <td>0.0</td>\n",
       "      <td>0.0</td>\n",
       "      <td>Low</td>\n",
       "      <td>High Floor</td>\n",
       "    </tr>\n",
       "    <tr>\n",
       "      <th>3</th>\n",
       "      <td>flat</td>\n",
       "      <td>sector 92</td>\n",
       "      <td>1.60</td>\n",
       "      <td>3.0</td>\n",
       "      <td>4.0</td>\n",
       "      <td>3+</td>\n",
       "      <td>Relatively New</td>\n",
       "      <td>1615.0</td>\n",
       "      <td>1.0</td>\n",
       "      <td>0.0</td>\n",
       "      <td>1.0</td>\n",
       "      <td>High</td>\n",
       "      <td>Mid Floor</td>\n",
       "    </tr>\n",
       "    <tr>\n",
       "      <th>4</th>\n",
       "      <td>flat</td>\n",
       "      <td>sector 102</td>\n",
       "      <td>0.48</td>\n",
       "      <td>2.0</td>\n",
       "      <td>2.0</td>\n",
       "      <td>1</td>\n",
       "      <td>Relatively New</td>\n",
       "      <td>582.0</td>\n",
       "      <td>0.0</td>\n",
       "      <td>1.0</td>\n",
       "      <td>0.0</td>\n",
       "      <td>High</td>\n",
       "      <td>Mid Floor</td>\n",
       "    </tr>\n",
       "  </tbody>\n",
       "</table>\n",
       "</div>"
      ],
      "text/plain": [
       "  property_type      sector  price  bedRoom  bathroom balcony   agePossession  \\\n",
       "0          flat   sector 36   0.82      3.0       2.0       2    New Property   \n",
       "1          flat   sector 89   0.95      2.0       2.0       2    New Property   \n",
       "2          flat  sohna road   0.32      2.0       2.0       1    New Property   \n",
       "3          flat   sector 92   1.60      3.0       4.0      3+  Relatively New   \n",
       "4          flat  sector 102   0.48      2.0       2.0       1  Relatively New   \n",
       "\n",
       "   built_up_area  servant room  store room  furnishing_type luxury_category  \\\n",
       "0          850.0           0.0         0.0              0.0             Low   \n",
       "1         1226.0           1.0         0.0              0.0             Low   \n",
       "2         1000.0           0.0         0.0              0.0             Low   \n",
       "3         1615.0           1.0         0.0              1.0            High   \n",
       "4          582.0           0.0         1.0              0.0            High   \n",
       "\n",
       "  floor_category  \n",
       "0      Low Floor  \n",
       "1      Mid Floor  \n",
       "2     High Floor  \n",
       "3      Mid Floor  \n",
       "4      Mid Floor  "
      ]
     },
     "execution_count": 3,
     "metadata": {},
     "output_type": "execute_result"
    }
   ],
   "source": [
    "df.head()"
   ]
  },
  {
   "cell_type": "code",
   "execution_count": 4,
   "id": "0399fef1",
   "metadata": {},
   "outputs": [
    {
     "data": {
      "text/plain": [
       "furnishing_type\n",
       "0.0    2349\n",
       "1.0    1018\n",
       "2.0     187\n",
       "Name: count, dtype: int64"
      ]
     },
     "execution_count": 4,
     "metadata": {},
     "output_type": "execute_result"
    }
   ],
   "source": [
    "df['furnishing_type'].value_counts()"
   ]
  },
  {
   "cell_type": "code",
   "execution_count": 5,
   "id": "d91ed92e",
   "metadata": {},
   "outputs": [],
   "source": [
    "# 0 -> unfurnished\n",
    "# 1 -> semifurnished\n",
    "# 2 -> furnished\n",
    "df['furnishing_type'] = df['furnishing_type'].replace({0.0:'unfurnished',1.0:'semifurnished',2.0:'furnished'})\n",
    "\n",
    "# Will do these conversion again inside pipeline"
   ]
  },
  {
   "cell_type": "code",
   "execution_count": 6,
   "id": "705dba8f",
   "metadata": {},
   "outputs": [
    {
     "data": {
      "text/html": [
       "<div>\n",
       "<style scoped>\n",
       "    .dataframe tbody tr th:only-of-type {\n",
       "        vertical-align: middle;\n",
       "    }\n",
       "\n",
       "    .dataframe tbody tr th {\n",
       "        vertical-align: top;\n",
       "    }\n",
       "\n",
       "    .dataframe thead th {\n",
       "        text-align: right;\n",
       "    }\n",
       "</style>\n",
       "<table border=\"1\" class=\"dataframe\">\n",
       "  <thead>\n",
       "    <tr style=\"text-align: right;\">\n",
       "      <th></th>\n",
       "      <th>property_type</th>\n",
       "      <th>sector</th>\n",
       "      <th>price</th>\n",
       "      <th>bedRoom</th>\n",
       "      <th>bathroom</th>\n",
       "      <th>balcony</th>\n",
       "      <th>agePossession</th>\n",
       "      <th>built_up_area</th>\n",
       "      <th>servant room</th>\n",
       "      <th>store room</th>\n",
       "      <th>furnishing_type</th>\n",
       "      <th>luxury_category</th>\n",
       "      <th>floor_category</th>\n",
       "    </tr>\n",
       "  </thead>\n",
       "  <tbody>\n",
       "    <tr>\n",
       "      <th>0</th>\n",
       "      <td>flat</td>\n",
       "      <td>sector 36</td>\n",
       "      <td>0.82</td>\n",
       "      <td>3.0</td>\n",
       "      <td>2.0</td>\n",
       "      <td>2</td>\n",
       "      <td>New Property</td>\n",
       "      <td>850.0</td>\n",
       "      <td>0.0</td>\n",
       "      <td>0.0</td>\n",
       "      <td>unfurnished</td>\n",
       "      <td>Low</td>\n",
       "      <td>Low Floor</td>\n",
       "    </tr>\n",
       "    <tr>\n",
       "      <th>1</th>\n",
       "      <td>flat</td>\n",
       "      <td>sector 89</td>\n",
       "      <td>0.95</td>\n",
       "      <td>2.0</td>\n",
       "      <td>2.0</td>\n",
       "      <td>2</td>\n",
       "      <td>New Property</td>\n",
       "      <td>1226.0</td>\n",
       "      <td>1.0</td>\n",
       "      <td>0.0</td>\n",
       "      <td>unfurnished</td>\n",
       "      <td>Low</td>\n",
       "      <td>Mid Floor</td>\n",
       "    </tr>\n",
       "    <tr>\n",
       "      <th>2</th>\n",
       "      <td>flat</td>\n",
       "      <td>sohna road</td>\n",
       "      <td>0.32</td>\n",
       "      <td>2.0</td>\n",
       "      <td>2.0</td>\n",
       "      <td>1</td>\n",
       "      <td>New Property</td>\n",
       "      <td>1000.0</td>\n",
       "      <td>0.0</td>\n",
       "      <td>0.0</td>\n",
       "      <td>unfurnished</td>\n",
       "      <td>Low</td>\n",
       "      <td>High Floor</td>\n",
       "    </tr>\n",
       "    <tr>\n",
       "      <th>3</th>\n",
       "      <td>flat</td>\n",
       "      <td>sector 92</td>\n",
       "      <td>1.60</td>\n",
       "      <td>3.0</td>\n",
       "      <td>4.0</td>\n",
       "      <td>3+</td>\n",
       "      <td>Relatively New</td>\n",
       "      <td>1615.0</td>\n",
       "      <td>1.0</td>\n",
       "      <td>0.0</td>\n",
       "      <td>semifurnished</td>\n",
       "      <td>High</td>\n",
       "      <td>Mid Floor</td>\n",
       "    </tr>\n",
       "    <tr>\n",
       "      <th>4</th>\n",
       "      <td>flat</td>\n",
       "      <td>sector 102</td>\n",
       "      <td>0.48</td>\n",
       "      <td>2.0</td>\n",
       "      <td>2.0</td>\n",
       "      <td>1</td>\n",
       "      <td>Relatively New</td>\n",
       "      <td>582.0</td>\n",
       "      <td>0.0</td>\n",
       "      <td>1.0</td>\n",
       "      <td>unfurnished</td>\n",
       "      <td>High</td>\n",
       "      <td>Mid Floor</td>\n",
       "    </tr>\n",
       "  </tbody>\n",
       "</table>\n",
       "</div>"
      ],
      "text/plain": [
       "  property_type      sector  price  bedRoom  bathroom balcony   agePossession  \\\n",
       "0          flat   sector 36   0.82      3.0       2.0       2    New Property   \n",
       "1          flat   sector 89   0.95      2.0       2.0       2    New Property   \n",
       "2          flat  sohna road   0.32      2.0       2.0       1    New Property   \n",
       "3          flat   sector 92   1.60      3.0       4.0      3+  Relatively New   \n",
       "4          flat  sector 102   0.48      2.0       2.0       1  Relatively New   \n",
       "\n",
       "   built_up_area  servant room  store room furnishing_type luxury_category  \\\n",
       "0          850.0           0.0         0.0     unfurnished             Low   \n",
       "1         1226.0           1.0         0.0     unfurnished             Low   \n",
       "2         1000.0           0.0         0.0     unfurnished             Low   \n",
       "3         1615.0           1.0         0.0   semifurnished            High   \n",
       "4          582.0           0.0         1.0     unfurnished            High   \n",
       "\n",
       "  floor_category  \n",
       "0      Low Floor  \n",
       "1      Mid Floor  \n",
       "2     High Floor  \n",
       "3      Mid Floor  \n",
       "4      Mid Floor  "
      ]
     },
     "execution_count": 6,
     "metadata": {},
     "output_type": "execute_result"
    }
   ],
   "source": [
    "df.head()"
   ]
  },
  {
   "cell_type": "code",
   "execution_count": 7,
   "id": "b2da31ad",
   "metadata": {},
   "outputs": [],
   "source": [
    "X = df.drop(columns=['price'])\n",
    "y = df['price']"
   ]
  },
  {
   "cell_type": "code",
   "execution_count": 8,
   "id": "15996e23",
   "metadata": {},
   "outputs": [],
   "source": [
    "# Applying the log1p transformation to the target variable (since price column is right skewed)\n",
    "y_transformed = np.log1p(y)"
   ]
  },
  {
   "cell_type": "markdown",
   "id": "a517f036",
   "metadata": {},
   "source": [
    "### Ordinal Encoding\n",
    "    - Ordinal Encoding\n",
    "    - One hot encoding\n",
    "    - target encoding\n",
    "\n",
    "- will train on 3 methods and find the r2 score to find the best encoding"
   ]
  },
  {
   "cell_type": "code",
   "execution_count": 9,
   "id": "4eeb02e8",
   "metadata": {},
   "outputs": [],
   "source": [
    "columns_to_encode = ['property_type','sector', 'balcony', 'agePossession', 'furnishing_type', 'luxury_category', 'floor_category']"
   ]
  },
  {
   "cell_type": "code",
   "execution_count": 10,
   "id": "05b6dfb3",
   "metadata": {},
   "outputs": [],
   "source": [
    "# Creating a column transformer for preprocessing\n",
    "preprocessor = ColumnTransformer(\n",
    "    transformers=[\n",
    "        ('num', StandardScaler(), ['bedRoom', 'bathroom', 'built_up_area', 'servant room', 'store room']),\n",
    "        ('cat', OrdinalEncoder(), columns_to_encode)\n",
    "    ], \n",
    "    remainder='passthrough'\n",
    ")\n",
    "## StandardScalar for making all of these column in same scale"
   ]
  },
  {
   "cell_type": "code",
   "execution_count": 11,
   "id": "7d54aa51",
   "metadata": {},
   "outputs": [],
   "source": [
    "# Creating a pipeline\n",
    "pipeline = Pipeline([\n",
    "    ('preprocessor', preprocessor),\n",
    "    ('regressor', LinearRegression())\n",
    "])"
   ]
  },
  {
   "cell_type": "markdown",
   "id": "e7fd43e8",
   "metadata": {},
   "source": [
    "    - Ordinal encoding induce order  in categorical features which misguides the algorithm like linear regression (which means feature encoded as 2 will be given more weigthage than  feature encoded as 1)\n",
    "    - That's why ordinal encoding is mostly used with treee based models."
   ]
  },
  {
   "cell_type": "code",
   "execution_count": 12,
   "id": "d1964a83",
   "metadata": {},
   "outputs": [],
   "source": [
    "# K-fold cross-validation\n",
    "\n",
    "kfold = KFold(n_splits=10, shuffle=True, random_state=42)\n",
    "scores = cross_val_score(pipeline, X, y_transformed, cv=kfold, scoring='r2')"
   ]
  },
  {
   "cell_type": "code",
   "execution_count": 13,
   "id": "e56f149e",
   "metadata": {},
   "outputs": [
    {
     "data": {
      "text/plain": [
       "(0.7363096633436828, 0.03238005754429932)"
      ]
     },
     "execution_count": 13,
     "metadata": {},
     "output_type": "execute_result"
    }
   ],
   "source": [
    "scores.mean(),scores.std()"
   ]
  },
  {
   "cell_type": "code",
   "execution_count": 14,
   "id": "5d2e1b72",
   "metadata": {},
   "outputs": [],
   "source": [
    "X_train, X_test, y_train, y_test = train_test_split(X,y_transformed,test_size=0.2,random_state=42)"
   ]
  },
  {
   "cell_type": "code",
   "execution_count": 15,
   "id": "c1cc86ee",
   "metadata": {},
   "outputs": [
    {
     "data": {
      "text/html": [
       "<style>#sk-container-id-1 {color: black;}#sk-container-id-1 pre{padding: 0;}#sk-container-id-1 div.sk-toggleable {background-color: white;}#sk-container-id-1 label.sk-toggleable__label {cursor: pointer;display: block;width: 100%;margin-bottom: 0;padding: 0.3em;box-sizing: border-box;text-align: center;}#sk-container-id-1 label.sk-toggleable__label-arrow:before {content: \"▸\";float: left;margin-right: 0.25em;color: #696969;}#sk-container-id-1 label.sk-toggleable__label-arrow:hover:before {color: black;}#sk-container-id-1 div.sk-estimator:hover label.sk-toggleable__label-arrow:before {color: black;}#sk-container-id-1 div.sk-toggleable__content {max-height: 0;max-width: 0;overflow: hidden;text-align: left;background-color: #f0f8ff;}#sk-container-id-1 div.sk-toggleable__content pre {margin: 0.2em;color: black;border-radius: 0.25em;background-color: #f0f8ff;}#sk-container-id-1 input.sk-toggleable__control:checked~div.sk-toggleable__content {max-height: 200px;max-width: 100%;overflow: auto;}#sk-container-id-1 input.sk-toggleable__control:checked~label.sk-toggleable__label-arrow:before {content: \"▾\";}#sk-container-id-1 div.sk-estimator input.sk-toggleable__control:checked~label.sk-toggleable__label {background-color: #d4ebff;}#sk-container-id-1 div.sk-label input.sk-toggleable__control:checked~label.sk-toggleable__label {background-color: #d4ebff;}#sk-container-id-1 input.sk-hidden--visually {border: 0;clip: rect(1px 1px 1px 1px);clip: rect(1px, 1px, 1px, 1px);height: 1px;margin: -1px;overflow: hidden;padding: 0;position: absolute;width: 1px;}#sk-container-id-1 div.sk-estimator {font-family: monospace;background-color: #f0f8ff;border: 1px dotted black;border-radius: 0.25em;box-sizing: border-box;margin-bottom: 0.5em;}#sk-container-id-1 div.sk-estimator:hover {background-color: #d4ebff;}#sk-container-id-1 div.sk-parallel-item::after {content: \"\";width: 100%;border-bottom: 1px solid gray;flex-grow: 1;}#sk-container-id-1 div.sk-label:hover label.sk-toggleable__label {background-color: #d4ebff;}#sk-container-id-1 div.sk-serial::before {content: \"\";position: absolute;border-left: 1px solid gray;box-sizing: border-box;top: 0;bottom: 0;left: 50%;z-index: 0;}#sk-container-id-1 div.sk-serial {display: flex;flex-direction: column;align-items: center;background-color: white;padding-right: 0.2em;padding-left: 0.2em;position: relative;}#sk-container-id-1 div.sk-item {position: relative;z-index: 1;}#sk-container-id-1 div.sk-parallel {display: flex;align-items: stretch;justify-content: center;background-color: white;position: relative;}#sk-container-id-1 div.sk-item::before, #sk-container-id-1 div.sk-parallel-item::before {content: \"\";position: absolute;border-left: 1px solid gray;box-sizing: border-box;top: 0;bottom: 0;left: 50%;z-index: -1;}#sk-container-id-1 div.sk-parallel-item {display: flex;flex-direction: column;z-index: 1;position: relative;background-color: white;}#sk-container-id-1 div.sk-parallel-item:first-child::after {align-self: flex-end;width: 50%;}#sk-container-id-1 div.sk-parallel-item:last-child::after {align-self: flex-start;width: 50%;}#sk-container-id-1 div.sk-parallel-item:only-child::after {width: 0;}#sk-container-id-1 div.sk-dashed-wrapped {border: 1px dashed gray;margin: 0 0.4em 0.5em 0.4em;box-sizing: border-box;padding-bottom: 0.4em;background-color: white;}#sk-container-id-1 div.sk-label label {font-family: monospace;font-weight: bold;display: inline-block;line-height: 1.2em;}#sk-container-id-1 div.sk-label-container {text-align: center;}#sk-container-id-1 div.sk-container {/* jupyter's `normalize.less` sets `[hidden] { display: none; }` but bootstrap.min.css set `[hidden] { display: none !important; }` so we also need the `!important` here to be able to override the default hidden behavior on the sphinx rendered scikit-learn.org. See: https://github.com/scikit-learn/scikit-learn/issues/21755 */display: inline-block !important;position: relative;}#sk-container-id-1 div.sk-text-repr-fallback {display: none;}</style><div id=\"sk-container-id-1\" class=\"sk-top-container\"><div class=\"sk-text-repr-fallback\"><pre>Pipeline(steps=[(&#x27;preprocessor&#x27;,\n",
       "                 ColumnTransformer(remainder=&#x27;passthrough&#x27;,\n",
       "                                   transformers=[(&#x27;num&#x27;, StandardScaler(),\n",
       "                                                  [&#x27;bedRoom&#x27;, &#x27;bathroom&#x27;,\n",
       "                                                   &#x27;built_up_area&#x27;,\n",
       "                                                   &#x27;servant room&#x27;,\n",
       "                                                   &#x27;store room&#x27;]),\n",
       "                                                 (&#x27;cat&#x27;, OrdinalEncoder(),\n",
       "                                                  [&#x27;property_type&#x27;, &#x27;sector&#x27;,\n",
       "                                                   &#x27;balcony&#x27;, &#x27;agePossession&#x27;,\n",
       "                                                   &#x27;furnishing_type&#x27;,\n",
       "                                                   &#x27;luxury_category&#x27;,\n",
       "                                                   &#x27;floor_category&#x27;])])),\n",
       "                (&#x27;regressor&#x27;, LinearRegression())])</pre><b>In a Jupyter environment, please rerun this cell to show the HTML representation or trust the notebook. <br />On GitHub, the HTML representation is unable to render, please try loading this page with nbviewer.org.</b></div><div class=\"sk-container\" hidden><div class=\"sk-item sk-dashed-wrapped\"><div class=\"sk-label-container\"><div class=\"sk-label sk-toggleable\"><input class=\"sk-toggleable__control sk-hidden--visually\" id=\"sk-estimator-id-1\" type=\"checkbox\" ><label for=\"sk-estimator-id-1\" class=\"sk-toggleable__label sk-toggleable__label-arrow\">Pipeline</label><div class=\"sk-toggleable__content\"><pre>Pipeline(steps=[(&#x27;preprocessor&#x27;,\n",
       "                 ColumnTransformer(remainder=&#x27;passthrough&#x27;,\n",
       "                                   transformers=[(&#x27;num&#x27;, StandardScaler(),\n",
       "                                                  [&#x27;bedRoom&#x27;, &#x27;bathroom&#x27;,\n",
       "                                                   &#x27;built_up_area&#x27;,\n",
       "                                                   &#x27;servant room&#x27;,\n",
       "                                                   &#x27;store room&#x27;]),\n",
       "                                                 (&#x27;cat&#x27;, OrdinalEncoder(),\n",
       "                                                  [&#x27;property_type&#x27;, &#x27;sector&#x27;,\n",
       "                                                   &#x27;balcony&#x27;, &#x27;agePossession&#x27;,\n",
       "                                                   &#x27;furnishing_type&#x27;,\n",
       "                                                   &#x27;luxury_category&#x27;,\n",
       "                                                   &#x27;floor_category&#x27;])])),\n",
       "                (&#x27;regressor&#x27;, LinearRegression())])</pre></div></div></div><div class=\"sk-serial\"><div class=\"sk-item sk-dashed-wrapped\"><div class=\"sk-label-container\"><div class=\"sk-label sk-toggleable\"><input class=\"sk-toggleable__control sk-hidden--visually\" id=\"sk-estimator-id-2\" type=\"checkbox\" ><label for=\"sk-estimator-id-2\" class=\"sk-toggleable__label sk-toggleable__label-arrow\">preprocessor: ColumnTransformer</label><div class=\"sk-toggleable__content\"><pre>ColumnTransformer(remainder=&#x27;passthrough&#x27;,\n",
       "                  transformers=[(&#x27;num&#x27;, StandardScaler(),\n",
       "                                 [&#x27;bedRoom&#x27;, &#x27;bathroom&#x27;, &#x27;built_up_area&#x27;,\n",
       "                                  &#x27;servant room&#x27;, &#x27;store room&#x27;]),\n",
       "                                (&#x27;cat&#x27;, OrdinalEncoder(),\n",
       "                                 [&#x27;property_type&#x27;, &#x27;sector&#x27;, &#x27;balcony&#x27;,\n",
       "                                  &#x27;agePossession&#x27;, &#x27;furnishing_type&#x27;,\n",
       "                                  &#x27;luxury_category&#x27;, &#x27;floor_category&#x27;])])</pre></div></div></div><div class=\"sk-parallel\"><div class=\"sk-parallel-item\"><div class=\"sk-item\"><div class=\"sk-label-container\"><div class=\"sk-label sk-toggleable\"><input class=\"sk-toggleable__control sk-hidden--visually\" id=\"sk-estimator-id-3\" type=\"checkbox\" ><label for=\"sk-estimator-id-3\" class=\"sk-toggleable__label sk-toggleable__label-arrow\">num</label><div class=\"sk-toggleable__content\"><pre>[&#x27;bedRoom&#x27;, &#x27;bathroom&#x27;, &#x27;built_up_area&#x27;, &#x27;servant room&#x27;, &#x27;store room&#x27;]</pre></div></div></div><div class=\"sk-serial\"><div class=\"sk-item\"><div class=\"sk-estimator sk-toggleable\"><input class=\"sk-toggleable__control sk-hidden--visually\" id=\"sk-estimator-id-4\" type=\"checkbox\" ><label for=\"sk-estimator-id-4\" class=\"sk-toggleable__label sk-toggleable__label-arrow\">StandardScaler</label><div class=\"sk-toggleable__content\"><pre>StandardScaler()</pre></div></div></div></div></div></div><div class=\"sk-parallel-item\"><div class=\"sk-item\"><div class=\"sk-label-container\"><div class=\"sk-label sk-toggleable\"><input class=\"sk-toggleable__control sk-hidden--visually\" id=\"sk-estimator-id-5\" type=\"checkbox\" ><label for=\"sk-estimator-id-5\" class=\"sk-toggleable__label sk-toggleable__label-arrow\">cat</label><div class=\"sk-toggleable__content\"><pre>[&#x27;property_type&#x27;, &#x27;sector&#x27;, &#x27;balcony&#x27;, &#x27;agePossession&#x27;, &#x27;furnishing_type&#x27;, &#x27;luxury_category&#x27;, &#x27;floor_category&#x27;]</pre></div></div></div><div class=\"sk-serial\"><div class=\"sk-item\"><div class=\"sk-estimator sk-toggleable\"><input class=\"sk-toggleable__control sk-hidden--visually\" id=\"sk-estimator-id-6\" type=\"checkbox\" ><label for=\"sk-estimator-id-6\" class=\"sk-toggleable__label sk-toggleable__label-arrow\">OrdinalEncoder</label><div class=\"sk-toggleable__content\"><pre>OrdinalEncoder()</pre></div></div></div></div></div></div><div class=\"sk-parallel-item\"><div class=\"sk-item\"><div class=\"sk-label-container\"><div class=\"sk-label sk-toggleable\"><input class=\"sk-toggleable__control sk-hidden--visually\" id=\"sk-estimator-id-7\" type=\"checkbox\" ><label for=\"sk-estimator-id-7\" class=\"sk-toggleable__label sk-toggleable__label-arrow\">remainder</label><div class=\"sk-toggleable__content\"><pre>[]</pre></div></div></div><div class=\"sk-serial\"><div class=\"sk-item\"><div class=\"sk-estimator sk-toggleable\"><input class=\"sk-toggleable__control sk-hidden--visually\" id=\"sk-estimator-id-8\" type=\"checkbox\" ><label for=\"sk-estimator-id-8\" class=\"sk-toggleable__label sk-toggleable__label-arrow\">passthrough</label><div class=\"sk-toggleable__content\"><pre>passthrough</pre></div></div></div></div></div></div></div></div><div class=\"sk-item\"><div class=\"sk-estimator sk-toggleable\"><input class=\"sk-toggleable__control sk-hidden--visually\" id=\"sk-estimator-id-9\" type=\"checkbox\" ><label for=\"sk-estimator-id-9\" class=\"sk-toggleable__label sk-toggleable__label-arrow\">LinearRegression</label><div class=\"sk-toggleable__content\"><pre>LinearRegression()</pre></div></div></div></div></div></div></div>"
      ],
      "text/plain": [
       "Pipeline(steps=[('preprocessor',\n",
       "                 ColumnTransformer(remainder='passthrough',\n",
       "                                   transformers=[('num', StandardScaler(),\n",
       "                                                  ['bedRoom', 'bathroom',\n",
       "                                                   'built_up_area',\n",
       "                                                   'servant room',\n",
       "                                                   'store room']),\n",
       "                                                 ('cat', OrdinalEncoder(),\n",
       "                                                  ['property_type', 'sector',\n",
       "                                                   'balcony', 'agePossession',\n",
       "                                                   'furnishing_type',\n",
       "                                                   'luxury_category',\n",
       "                                                   'floor_category'])])),\n",
       "                ('regressor', LinearRegression())])"
      ]
     },
     "execution_count": 15,
     "metadata": {},
     "output_type": "execute_result"
    }
   ],
   "source": [
    "pipeline.fit(X_train,y_train)"
   ]
  },
  {
   "cell_type": "code",
   "execution_count": 16,
   "id": "1fbcc89d",
   "metadata": {},
   "outputs": [],
   "source": [
    "y_pred = pipeline.predict(X_test)"
   ]
  },
  {
   "cell_type": "code",
   "execution_count": 17,
   "id": "1aae4a7c",
   "metadata": {},
   "outputs": [],
   "source": [
    "y_pred = np.expm1(y_pred)"
   ]
  },
  {
   "cell_type": "code",
   "execution_count": 18,
   "id": "fcc15b04",
   "metadata": {},
   "outputs": [
    {
     "data": {
      "text/plain": [
       "0.946382216008936"
      ]
     },
     "execution_count": 18,
     "metadata": {},
     "output_type": "execute_result"
    }
   ],
   "source": [
    "mean_absolute_error(np.expm1(y_test),y_pred)\n",
    "# making an error of .94 lakhs which means a flat of 2cr is predicted as 2.94 cr or 1.06 cr"
   ]
  },
  {
   "cell_type": "code",
   "execution_count": 19,
   "id": "9583ca16",
   "metadata": {},
   "outputs": [
    {
     "data": {
      "text/html": [
       "<div>\n",
       "<style scoped>\n",
       "    .dataframe tbody tr th:only-of-type {\n",
       "        vertical-align: middle;\n",
       "    }\n",
       "\n",
       "    .dataframe tbody tr th {\n",
       "        vertical-align: top;\n",
       "    }\n",
       "\n",
       "    .dataframe thead th {\n",
       "        text-align: right;\n",
       "    }\n",
       "</style>\n",
       "<table border=\"1\" class=\"dataframe\">\n",
       "  <thead>\n",
       "    <tr style=\"text-align: right;\">\n",
       "      <th></th>\n",
       "      <th>property_type</th>\n",
       "      <th>sector</th>\n",
       "      <th>price</th>\n",
       "      <th>bedRoom</th>\n",
       "      <th>bathroom</th>\n",
       "      <th>balcony</th>\n",
       "      <th>agePossession</th>\n",
       "      <th>built_up_area</th>\n",
       "      <th>servant room</th>\n",
       "      <th>store room</th>\n",
       "      <th>furnishing_type</th>\n",
       "      <th>luxury_category</th>\n",
       "      <th>floor_category</th>\n",
       "    </tr>\n",
       "  </thead>\n",
       "  <tbody>\n",
       "    <tr>\n",
       "      <th>0</th>\n",
       "      <td>flat</td>\n",
       "      <td>sector 36</td>\n",
       "      <td>0.82</td>\n",
       "      <td>3.0</td>\n",
       "      <td>2.0</td>\n",
       "      <td>2</td>\n",
       "      <td>New Property</td>\n",
       "      <td>850.0</td>\n",
       "      <td>0.0</td>\n",
       "      <td>0.0</td>\n",
       "      <td>unfurnished</td>\n",
       "      <td>Low</td>\n",
       "      <td>Low Floor</td>\n",
       "    </tr>\n",
       "    <tr>\n",
       "      <th>1</th>\n",
       "      <td>flat</td>\n",
       "      <td>sector 89</td>\n",
       "      <td>0.95</td>\n",
       "      <td>2.0</td>\n",
       "      <td>2.0</td>\n",
       "      <td>2</td>\n",
       "      <td>New Property</td>\n",
       "      <td>1226.0</td>\n",
       "      <td>1.0</td>\n",
       "      <td>0.0</td>\n",
       "      <td>unfurnished</td>\n",
       "      <td>Low</td>\n",
       "      <td>Mid Floor</td>\n",
       "    </tr>\n",
       "    <tr>\n",
       "      <th>2</th>\n",
       "      <td>flat</td>\n",
       "      <td>sohna road</td>\n",
       "      <td>0.32</td>\n",
       "      <td>2.0</td>\n",
       "      <td>2.0</td>\n",
       "      <td>1</td>\n",
       "      <td>New Property</td>\n",
       "      <td>1000.0</td>\n",
       "      <td>0.0</td>\n",
       "      <td>0.0</td>\n",
       "      <td>unfurnished</td>\n",
       "      <td>Low</td>\n",
       "      <td>High Floor</td>\n",
       "    </tr>\n",
       "    <tr>\n",
       "      <th>3</th>\n",
       "      <td>flat</td>\n",
       "      <td>sector 92</td>\n",
       "      <td>1.60</td>\n",
       "      <td>3.0</td>\n",
       "      <td>4.0</td>\n",
       "      <td>3+</td>\n",
       "      <td>Relatively New</td>\n",
       "      <td>1615.0</td>\n",
       "      <td>1.0</td>\n",
       "      <td>0.0</td>\n",
       "      <td>semifurnished</td>\n",
       "      <td>High</td>\n",
       "      <td>Mid Floor</td>\n",
       "    </tr>\n",
       "    <tr>\n",
       "      <th>4</th>\n",
       "      <td>flat</td>\n",
       "      <td>sector 102</td>\n",
       "      <td>0.48</td>\n",
       "      <td>2.0</td>\n",
       "      <td>2.0</td>\n",
       "      <td>1</td>\n",
       "      <td>Relatively New</td>\n",
       "      <td>582.0</td>\n",
       "      <td>0.0</td>\n",
       "      <td>1.0</td>\n",
       "      <td>unfurnished</td>\n",
       "      <td>High</td>\n",
       "      <td>Mid Floor</td>\n",
       "    </tr>\n",
       "  </tbody>\n",
       "</table>\n",
       "</div>"
      ],
      "text/plain": [
       "  property_type      sector  price  bedRoom  bathroom balcony   agePossession  \\\n",
       "0          flat   sector 36   0.82      3.0       2.0       2    New Property   \n",
       "1          flat   sector 89   0.95      2.0       2.0       2    New Property   \n",
       "2          flat  sohna road   0.32      2.0       2.0       1    New Property   \n",
       "3          flat   sector 92   1.60      3.0       4.0      3+  Relatively New   \n",
       "4          flat  sector 102   0.48      2.0       2.0       1  Relatively New   \n",
       "\n",
       "   built_up_area  servant room  store room furnishing_type luxury_category  \\\n",
       "0          850.0           0.0         0.0     unfurnished             Low   \n",
       "1         1226.0           1.0         0.0     unfurnished             Low   \n",
       "2         1000.0           0.0         0.0     unfurnished             Low   \n",
       "3         1615.0           1.0         0.0   semifurnished            High   \n",
       "4          582.0           0.0         1.0     unfurnished            High   \n",
       "\n",
       "  floor_category  \n",
       "0      Low Floor  \n",
       "1      Mid Floor  \n",
       "2     High Floor  \n",
       "3      Mid Floor  \n",
       "4      Mid Floor  "
      ]
     },
     "execution_count": 19,
     "metadata": {},
     "output_type": "execute_result"
    }
   ],
   "source": [
    "df.head()"
   ]
  },
  {
   "cell_type": "markdown",
   "id": "e8052b64",
   "metadata": {},
   "source": [
    "### Converting the above flow in a function and just change the ML Algorithm"
   ]
  },
  {
   "cell_type": "code",
   "execution_count": 20,
   "id": "2051ad70",
   "metadata": {},
   "outputs": [],
   "source": [
    "def scorer(model_name, model):\n",
    "    \n",
    "    output = []\n",
    "    \n",
    "    output.append(model_name)\n",
    "    \n",
    "    pipeline = Pipeline([\n",
    "        ('preprocessor', preprocessor),\n",
    "        ('regressor', model)\n",
    "    ])\n",
    "    \n",
    "    # K-fold cross-validation\n",
    "    kfold = KFold(n_splits=10, shuffle=True, random_state=42)\n",
    "    scores = cross_val_score(pipeline, X, y_transformed, cv=kfold, scoring='r2')\n",
    "    \n",
    "    output.append(scores.mean())\n",
    "    \n",
    "    X_train, X_test, y_train, y_test = train_test_split(X,y_transformed,test_size=0.2,random_state=42)\n",
    "    \n",
    "    pipeline.fit(X_train,y_train)\n",
    "    \n",
    "    y_pred = pipeline.predict(X_test)\n",
    "    \n",
    "    y_pred = np.expm1(y_pred)\n",
    "    \n",
    "    output.append(mean_absolute_error(np.expm1(y_test),y_pred))\n",
    "    \n",
    "    return output\n",
    "    "
   ]
  },
  {
   "cell_type": "code",
   "execution_count": 21,
   "id": "dca9553e",
   "metadata": {},
   "outputs": [],
   "source": [
    "\n",
    "model_dict = {\n",
    "    'linear_reg':LinearRegression(),\n",
    "    'svr':SVR(),\n",
    "    'ridge':Ridge(),\n",
    "    'LASSO':Lasso(),\n",
    "    'decision tree': DecisionTreeRegressor(),\n",
    "    'random forest':RandomForestRegressor(),\n",
    "    'extra trees': ExtraTreesRegressor(),\n",
    "    'gradient boosting': GradientBoostingRegressor(),\n",
    "    'adaboost': AdaBoostRegressor(),\n",
    "    'mlp': MLPRegressor(),\n",
    "    'xgboost':XGBRegressor()\n",
    "}"
   ]
  },
  {
   "cell_type": "code",
   "execution_count": 22,
   "id": "b8a9d1d4",
   "metadata": {},
   "outputs": [],
   "source": [
    "model_output = []\n",
    "for model_name,model in model_dict.items():\n",
    "    model_output.append(scorer(model_name, model))"
   ]
  },
  {
   "cell_type": "code",
   "execution_count": 23,
   "id": "fab0a513",
   "metadata": {},
   "outputs": [
    {
     "data": {
      "text/plain": [
       "[['linear_reg', 0.7363096633436828, 0.946382216008936],\n",
       " ['svr', 0.7642012011196353, 0.847263647348393],\n",
       " ['ridge', 0.7363125343993554, 0.9463387741853369],\n",
       " ['LASSO', 0.05943378064493573, 1.528905986892753],\n",
       " ['decision tree', 0.7709584358471832, 0.7343296700869627],\n",
       " ['random forest', 0.8814849293552192, 0.5277598436479822],\n",
       " ['extra trees', 0.8687561054434431, 0.5470130603164932],\n",
       " ['gradient boosting', 0.8726116342089171, 0.5755780221059349],\n",
       " ['adaboost', 0.750427439176127, 0.8288423159646937],\n",
       " ['mlp', 0.8100938278571098, 0.7040067729155146],\n",
       " ['xgboost', 0.8894876835260124, 0.5040475141482346]]"
      ]
     },
     "execution_count": 23,
     "metadata": {},
     "output_type": "execute_result"
    }
   ],
   "source": [
    "model_output"
   ]
  },
  {
   "cell_type": "code",
   "execution_count": 24,
   "id": "ac628d76",
   "metadata": {},
   "outputs": [],
   "source": [
    "model_df = pd.DataFrame(model_output, columns=['name','r2','mae'])"
   ]
  },
  {
   "cell_type": "code",
   "execution_count": 25,
   "id": "143ff7b2",
   "metadata": {},
   "outputs": [
    {
     "data": {
      "text/html": [
       "<div>\n",
       "<style scoped>\n",
       "    .dataframe tbody tr th:only-of-type {\n",
       "        vertical-align: middle;\n",
       "    }\n",
       "\n",
       "    .dataframe tbody tr th {\n",
       "        vertical-align: top;\n",
       "    }\n",
       "\n",
       "    .dataframe thead th {\n",
       "        text-align: right;\n",
       "    }\n",
       "</style>\n",
       "<table border=\"1\" class=\"dataframe\">\n",
       "  <thead>\n",
       "    <tr style=\"text-align: right;\">\n",
       "      <th></th>\n",
       "      <th>name</th>\n",
       "      <th>r2</th>\n",
       "      <th>mae</th>\n",
       "    </tr>\n",
       "  </thead>\n",
       "  <tbody>\n",
       "    <tr>\n",
       "      <th>10</th>\n",
       "      <td>xgboost</td>\n",
       "      <td>0.889488</td>\n",
       "      <td>0.504048</td>\n",
       "    </tr>\n",
       "    <tr>\n",
       "      <th>5</th>\n",
       "      <td>random forest</td>\n",
       "      <td>0.881485</td>\n",
       "      <td>0.527760</td>\n",
       "    </tr>\n",
       "    <tr>\n",
       "      <th>6</th>\n",
       "      <td>extra trees</td>\n",
       "      <td>0.868756</td>\n",
       "      <td>0.547013</td>\n",
       "    </tr>\n",
       "    <tr>\n",
       "      <th>7</th>\n",
       "      <td>gradient boosting</td>\n",
       "      <td>0.872612</td>\n",
       "      <td>0.575578</td>\n",
       "    </tr>\n",
       "    <tr>\n",
       "      <th>9</th>\n",
       "      <td>mlp</td>\n",
       "      <td>0.810094</td>\n",
       "      <td>0.704007</td>\n",
       "    </tr>\n",
       "    <tr>\n",
       "      <th>4</th>\n",
       "      <td>decision tree</td>\n",
       "      <td>0.770958</td>\n",
       "      <td>0.734330</td>\n",
       "    </tr>\n",
       "    <tr>\n",
       "      <th>8</th>\n",
       "      <td>adaboost</td>\n",
       "      <td>0.750427</td>\n",
       "      <td>0.828842</td>\n",
       "    </tr>\n",
       "    <tr>\n",
       "      <th>1</th>\n",
       "      <td>svr</td>\n",
       "      <td>0.764201</td>\n",
       "      <td>0.847264</td>\n",
       "    </tr>\n",
       "    <tr>\n",
       "      <th>2</th>\n",
       "      <td>ridge</td>\n",
       "      <td>0.736313</td>\n",
       "      <td>0.946339</td>\n",
       "    </tr>\n",
       "    <tr>\n",
       "      <th>0</th>\n",
       "      <td>linear_reg</td>\n",
       "      <td>0.736310</td>\n",
       "      <td>0.946382</td>\n",
       "    </tr>\n",
       "    <tr>\n",
       "      <th>3</th>\n",
       "      <td>LASSO</td>\n",
       "      <td>0.059434</td>\n",
       "      <td>1.528906</td>\n",
       "    </tr>\n",
       "  </tbody>\n",
       "</table>\n",
       "</div>"
      ],
      "text/plain": [
       "                 name        r2       mae\n",
       "10            xgboost  0.889488  0.504048\n",
       "5       random forest  0.881485  0.527760\n",
       "6         extra trees  0.868756  0.547013\n",
       "7   gradient boosting  0.872612  0.575578\n",
       "9                 mlp  0.810094  0.704007\n",
       "4       decision tree  0.770958  0.734330\n",
       "8            adaboost  0.750427  0.828842\n",
       "1                 svr  0.764201  0.847264\n",
       "2               ridge  0.736313  0.946339\n",
       "0          linear_reg  0.736310  0.946382\n",
       "3               LASSO  0.059434  1.528906"
      ]
     },
     "execution_count": 25,
     "metadata": {},
     "output_type": "execute_result"
    }
   ],
   "source": [
    "model_df.sort_values(['mae'])"
   ]
  },
  {
   "cell_type": "markdown",
   "id": "84d79f73",
   "metadata": {},
   "source": [
    "     - The top models are tree based models and it doesn't get affected by ordinal encoding\n",
    "     - These results are without any hyperparam tuning\n",
    "      "
   ]
  },
  {
   "cell_type": "markdown",
   "id": "60ca5697",
   "metadata": {},
   "source": [
    "### OneHotEncoding\n",
    "    - No order is induced\n",
    "    - Flat || house || plot\n",
    "    -  1        0       0\n",
    "    -  0        1       0\n",
    "    -  0        0       1 \n",
    "    - Whereever there is no order, we will aplly one hot encoding\n",
    "    - The only flaw with this is -> when there is a lot of category in a  column. It can make the data very sparse and dimentinality of the data increases -> training - could be slow / overfitting -> but our data is small\n",
    "    - Theoritically linear model should be improved"
   ]
  },
  {
   "cell_type": "code",
   "execution_count": 26,
   "id": "50130423",
   "metadata": {},
   "outputs": [],
   "source": [
    "# Creating a column transformer for preprocessing\n",
    "preprocessor = ColumnTransformer(\n",
    "    transformers=[\n",
    "        ('num', StandardScaler(), ['bedRoom', 'bathroom', 'built_up_area', 'servant room', 'store room']),\n",
    "        ('cat', OrdinalEncoder(), columns_to_encode),\n",
    "        ('cat1',OneHotEncoder(drop='first'),['sector','agePossession','furnishing_type']) # implementing  one hot encoding\n",
    "    ], \n",
    "    remainder='passthrough'\n",
    ")"
   ]
  },
  {
   "cell_type": "code",
   "execution_count": 27,
   "id": "861b508b",
   "metadata": {},
   "outputs": [],
   "source": [
    "# Creating a pipeline\n",
    "pipeline = Pipeline([\n",
    "    ('preprocessor', preprocessor),\n",
    "    ('regressor', LinearRegression())\n",
    "])"
   ]
  },
  {
   "cell_type": "code",
   "execution_count": 28,
   "id": "d9455a15",
   "metadata": {},
   "outputs": [],
   "source": [
    "# K-fold cross-validation\n",
    "kfold = KFold(n_splits=10, shuffle=True, random_state=42)\n",
    "scores = cross_val_score(pipeline, X, y_transformed, cv=kfold, scoring='r2')"
   ]
  },
  {
   "cell_type": "code",
   "execution_count": 29,
   "id": "5d8dc0df",
   "metadata": {},
   "outputs": [
    {
     "data": {
      "text/plain": [
       "0.8546094810971422"
      ]
     },
     "execution_count": 29,
     "metadata": {},
     "output_type": "execute_result"
    }
   ],
   "source": [
    "scores.mean()"
   ]
  },
  {
   "cell_type": "code",
   "execution_count": 30,
   "id": "6ff52ada",
   "metadata": {},
   "outputs": [
    {
     "data": {
      "text/plain": [
       "0.015997422908695623"
      ]
     },
     "execution_count": 30,
     "metadata": {},
     "output_type": "execute_result"
    }
   ],
   "source": [
    "scores.std()"
   ]
  },
  {
   "cell_type": "code",
   "execution_count": 31,
   "id": "594d17c7",
   "metadata": {},
   "outputs": [],
   "source": [
    "X_train, X_test, y_train, y_test = train_test_split(X,y_transformed,test_size=0.2,random_state=42)"
   ]
  },
  {
   "cell_type": "code",
   "execution_count": 32,
   "id": "6c182b60",
   "metadata": {},
   "outputs": [
    {
     "data": {
      "text/html": [
       "<style>#sk-container-id-2 {color: black;}#sk-container-id-2 pre{padding: 0;}#sk-container-id-2 div.sk-toggleable {background-color: white;}#sk-container-id-2 label.sk-toggleable__label {cursor: pointer;display: block;width: 100%;margin-bottom: 0;padding: 0.3em;box-sizing: border-box;text-align: center;}#sk-container-id-2 label.sk-toggleable__label-arrow:before {content: \"▸\";float: left;margin-right: 0.25em;color: #696969;}#sk-container-id-2 label.sk-toggleable__label-arrow:hover:before {color: black;}#sk-container-id-2 div.sk-estimator:hover label.sk-toggleable__label-arrow:before {color: black;}#sk-container-id-2 div.sk-toggleable__content {max-height: 0;max-width: 0;overflow: hidden;text-align: left;background-color: #f0f8ff;}#sk-container-id-2 div.sk-toggleable__content pre {margin: 0.2em;color: black;border-radius: 0.25em;background-color: #f0f8ff;}#sk-container-id-2 input.sk-toggleable__control:checked~div.sk-toggleable__content {max-height: 200px;max-width: 100%;overflow: auto;}#sk-container-id-2 input.sk-toggleable__control:checked~label.sk-toggleable__label-arrow:before {content: \"▾\";}#sk-container-id-2 div.sk-estimator input.sk-toggleable__control:checked~label.sk-toggleable__label {background-color: #d4ebff;}#sk-container-id-2 div.sk-label input.sk-toggleable__control:checked~label.sk-toggleable__label {background-color: #d4ebff;}#sk-container-id-2 input.sk-hidden--visually {border: 0;clip: rect(1px 1px 1px 1px);clip: rect(1px, 1px, 1px, 1px);height: 1px;margin: -1px;overflow: hidden;padding: 0;position: absolute;width: 1px;}#sk-container-id-2 div.sk-estimator {font-family: monospace;background-color: #f0f8ff;border: 1px dotted black;border-radius: 0.25em;box-sizing: border-box;margin-bottom: 0.5em;}#sk-container-id-2 div.sk-estimator:hover {background-color: #d4ebff;}#sk-container-id-2 div.sk-parallel-item::after {content: \"\";width: 100%;border-bottom: 1px solid gray;flex-grow: 1;}#sk-container-id-2 div.sk-label:hover label.sk-toggleable__label {background-color: #d4ebff;}#sk-container-id-2 div.sk-serial::before {content: \"\";position: absolute;border-left: 1px solid gray;box-sizing: border-box;top: 0;bottom: 0;left: 50%;z-index: 0;}#sk-container-id-2 div.sk-serial {display: flex;flex-direction: column;align-items: center;background-color: white;padding-right: 0.2em;padding-left: 0.2em;position: relative;}#sk-container-id-2 div.sk-item {position: relative;z-index: 1;}#sk-container-id-2 div.sk-parallel {display: flex;align-items: stretch;justify-content: center;background-color: white;position: relative;}#sk-container-id-2 div.sk-item::before, #sk-container-id-2 div.sk-parallel-item::before {content: \"\";position: absolute;border-left: 1px solid gray;box-sizing: border-box;top: 0;bottom: 0;left: 50%;z-index: -1;}#sk-container-id-2 div.sk-parallel-item {display: flex;flex-direction: column;z-index: 1;position: relative;background-color: white;}#sk-container-id-2 div.sk-parallel-item:first-child::after {align-self: flex-end;width: 50%;}#sk-container-id-2 div.sk-parallel-item:last-child::after {align-self: flex-start;width: 50%;}#sk-container-id-2 div.sk-parallel-item:only-child::after {width: 0;}#sk-container-id-2 div.sk-dashed-wrapped {border: 1px dashed gray;margin: 0 0.4em 0.5em 0.4em;box-sizing: border-box;padding-bottom: 0.4em;background-color: white;}#sk-container-id-2 div.sk-label label {font-family: monospace;font-weight: bold;display: inline-block;line-height: 1.2em;}#sk-container-id-2 div.sk-label-container {text-align: center;}#sk-container-id-2 div.sk-container {/* jupyter's `normalize.less` sets `[hidden] { display: none; }` but bootstrap.min.css set `[hidden] { display: none !important; }` so we also need the `!important` here to be able to override the default hidden behavior on the sphinx rendered scikit-learn.org. See: https://github.com/scikit-learn/scikit-learn/issues/21755 */display: inline-block !important;position: relative;}#sk-container-id-2 div.sk-text-repr-fallback {display: none;}</style><div id=\"sk-container-id-2\" class=\"sk-top-container\"><div class=\"sk-text-repr-fallback\"><pre>Pipeline(steps=[(&#x27;preprocessor&#x27;,\n",
       "                 ColumnTransformer(remainder=&#x27;passthrough&#x27;,\n",
       "                                   transformers=[(&#x27;num&#x27;, StandardScaler(),\n",
       "                                                  [&#x27;bedRoom&#x27;, &#x27;bathroom&#x27;,\n",
       "                                                   &#x27;built_up_area&#x27;,\n",
       "                                                   &#x27;servant room&#x27;,\n",
       "                                                   &#x27;store room&#x27;]),\n",
       "                                                 (&#x27;cat&#x27;, OrdinalEncoder(),\n",
       "                                                  [&#x27;property_type&#x27;, &#x27;sector&#x27;,\n",
       "                                                   &#x27;balcony&#x27;, &#x27;agePossession&#x27;,\n",
       "                                                   &#x27;furnishing_type&#x27;,\n",
       "                                                   &#x27;luxury_category&#x27;,\n",
       "                                                   &#x27;floor_category&#x27;]),\n",
       "                                                 (&#x27;cat1&#x27;,\n",
       "                                                  OneHotEncoder(drop=&#x27;first&#x27;),\n",
       "                                                  [&#x27;sector&#x27;, &#x27;agePossession&#x27;,\n",
       "                                                   &#x27;furnishing_type&#x27;])])),\n",
       "                (&#x27;regressor&#x27;, LinearRegression())])</pre><b>In a Jupyter environment, please rerun this cell to show the HTML representation or trust the notebook. <br />On GitHub, the HTML representation is unable to render, please try loading this page with nbviewer.org.</b></div><div class=\"sk-container\" hidden><div class=\"sk-item sk-dashed-wrapped\"><div class=\"sk-label-container\"><div class=\"sk-label sk-toggleable\"><input class=\"sk-toggleable__control sk-hidden--visually\" id=\"sk-estimator-id-10\" type=\"checkbox\" ><label for=\"sk-estimator-id-10\" class=\"sk-toggleable__label sk-toggleable__label-arrow\">Pipeline</label><div class=\"sk-toggleable__content\"><pre>Pipeline(steps=[(&#x27;preprocessor&#x27;,\n",
       "                 ColumnTransformer(remainder=&#x27;passthrough&#x27;,\n",
       "                                   transformers=[(&#x27;num&#x27;, StandardScaler(),\n",
       "                                                  [&#x27;bedRoom&#x27;, &#x27;bathroom&#x27;,\n",
       "                                                   &#x27;built_up_area&#x27;,\n",
       "                                                   &#x27;servant room&#x27;,\n",
       "                                                   &#x27;store room&#x27;]),\n",
       "                                                 (&#x27;cat&#x27;, OrdinalEncoder(),\n",
       "                                                  [&#x27;property_type&#x27;, &#x27;sector&#x27;,\n",
       "                                                   &#x27;balcony&#x27;, &#x27;agePossession&#x27;,\n",
       "                                                   &#x27;furnishing_type&#x27;,\n",
       "                                                   &#x27;luxury_category&#x27;,\n",
       "                                                   &#x27;floor_category&#x27;]),\n",
       "                                                 (&#x27;cat1&#x27;,\n",
       "                                                  OneHotEncoder(drop=&#x27;first&#x27;),\n",
       "                                                  [&#x27;sector&#x27;, &#x27;agePossession&#x27;,\n",
       "                                                   &#x27;furnishing_type&#x27;])])),\n",
       "                (&#x27;regressor&#x27;, LinearRegression())])</pre></div></div></div><div class=\"sk-serial\"><div class=\"sk-item sk-dashed-wrapped\"><div class=\"sk-label-container\"><div class=\"sk-label sk-toggleable\"><input class=\"sk-toggleable__control sk-hidden--visually\" id=\"sk-estimator-id-11\" type=\"checkbox\" ><label for=\"sk-estimator-id-11\" class=\"sk-toggleable__label sk-toggleable__label-arrow\">preprocessor: ColumnTransformer</label><div class=\"sk-toggleable__content\"><pre>ColumnTransformer(remainder=&#x27;passthrough&#x27;,\n",
       "                  transformers=[(&#x27;num&#x27;, StandardScaler(),\n",
       "                                 [&#x27;bedRoom&#x27;, &#x27;bathroom&#x27;, &#x27;built_up_area&#x27;,\n",
       "                                  &#x27;servant room&#x27;, &#x27;store room&#x27;]),\n",
       "                                (&#x27;cat&#x27;, OrdinalEncoder(),\n",
       "                                 [&#x27;property_type&#x27;, &#x27;sector&#x27;, &#x27;balcony&#x27;,\n",
       "                                  &#x27;agePossession&#x27;, &#x27;furnishing_type&#x27;,\n",
       "                                  &#x27;luxury_category&#x27;, &#x27;floor_category&#x27;]),\n",
       "                                (&#x27;cat1&#x27;, OneHotEncoder(drop=&#x27;first&#x27;),\n",
       "                                 [&#x27;sector&#x27;, &#x27;agePossession&#x27;,\n",
       "                                  &#x27;furnishing_type&#x27;])])</pre></div></div></div><div class=\"sk-parallel\"><div class=\"sk-parallel-item\"><div class=\"sk-item\"><div class=\"sk-label-container\"><div class=\"sk-label sk-toggleable\"><input class=\"sk-toggleable__control sk-hidden--visually\" id=\"sk-estimator-id-12\" type=\"checkbox\" ><label for=\"sk-estimator-id-12\" class=\"sk-toggleable__label sk-toggleable__label-arrow\">num</label><div class=\"sk-toggleable__content\"><pre>[&#x27;bedRoom&#x27;, &#x27;bathroom&#x27;, &#x27;built_up_area&#x27;, &#x27;servant room&#x27;, &#x27;store room&#x27;]</pre></div></div></div><div class=\"sk-serial\"><div class=\"sk-item\"><div class=\"sk-estimator sk-toggleable\"><input class=\"sk-toggleable__control sk-hidden--visually\" id=\"sk-estimator-id-13\" type=\"checkbox\" ><label for=\"sk-estimator-id-13\" class=\"sk-toggleable__label sk-toggleable__label-arrow\">StandardScaler</label><div class=\"sk-toggleable__content\"><pre>StandardScaler()</pre></div></div></div></div></div></div><div class=\"sk-parallel-item\"><div class=\"sk-item\"><div class=\"sk-label-container\"><div class=\"sk-label sk-toggleable\"><input class=\"sk-toggleable__control sk-hidden--visually\" id=\"sk-estimator-id-14\" type=\"checkbox\" ><label for=\"sk-estimator-id-14\" class=\"sk-toggleable__label sk-toggleable__label-arrow\">cat</label><div class=\"sk-toggleable__content\"><pre>[&#x27;property_type&#x27;, &#x27;sector&#x27;, &#x27;balcony&#x27;, &#x27;agePossession&#x27;, &#x27;furnishing_type&#x27;, &#x27;luxury_category&#x27;, &#x27;floor_category&#x27;]</pre></div></div></div><div class=\"sk-serial\"><div class=\"sk-item\"><div class=\"sk-estimator sk-toggleable\"><input class=\"sk-toggleable__control sk-hidden--visually\" id=\"sk-estimator-id-15\" type=\"checkbox\" ><label for=\"sk-estimator-id-15\" class=\"sk-toggleable__label sk-toggleable__label-arrow\">OrdinalEncoder</label><div class=\"sk-toggleable__content\"><pre>OrdinalEncoder()</pre></div></div></div></div></div></div><div class=\"sk-parallel-item\"><div class=\"sk-item\"><div class=\"sk-label-container\"><div class=\"sk-label sk-toggleable\"><input class=\"sk-toggleable__control sk-hidden--visually\" id=\"sk-estimator-id-16\" type=\"checkbox\" ><label for=\"sk-estimator-id-16\" class=\"sk-toggleable__label sk-toggleable__label-arrow\">cat1</label><div class=\"sk-toggleable__content\"><pre>[&#x27;sector&#x27;, &#x27;agePossession&#x27;, &#x27;furnishing_type&#x27;]</pre></div></div></div><div class=\"sk-serial\"><div class=\"sk-item\"><div class=\"sk-estimator sk-toggleable\"><input class=\"sk-toggleable__control sk-hidden--visually\" id=\"sk-estimator-id-17\" type=\"checkbox\" ><label for=\"sk-estimator-id-17\" class=\"sk-toggleable__label sk-toggleable__label-arrow\">OneHotEncoder</label><div class=\"sk-toggleable__content\"><pre>OneHotEncoder(drop=&#x27;first&#x27;)</pre></div></div></div></div></div></div><div class=\"sk-parallel-item\"><div class=\"sk-item\"><div class=\"sk-label-container\"><div class=\"sk-label sk-toggleable\"><input class=\"sk-toggleable__control sk-hidden--visually\" id=\"sk-estimator-id-18\" type=\"checkbox\" ><label for=\"sk-estimator-id-18\" class=\"sk-toggleable__label sk-toggleable__label-arrow\">remainder</label><div class=\"sk-toggleable__content\"><pre>[]</pre></div></div></div><div class=\"sk-serial\"><div class=\"sk-item\"><div class=\"sk-estimator sk-toggleable\"><input class=\"sk-toggleable__control sk-hidden--visually\" id=\"sk-estimator-id-19\" type=\"checkbox\" ><label for=\"sk-estimator-id-19\" class=\"sk-toggleable__label sk-toggleable__label-arrow\">passthrough</label><div class=\"sk-toggleable__content\"><pre>passthrough</pre></div></div></div></div></div></div></div></div><div class=\"sk-item\"><div class=\"sk-estimator sk-toggleable\"><input class=\"sk-toggleable__control sk-hidden--visually\" id=\"sk-estimator-id-20\" type=\"checkbox\" ><label for=\"sk-estimator-id-20\" class=\"sk-toggleable__label sk-toggleable__label-arrow\">LinearRegression</label><div class=\"sk-toggleable__content\"><pre>LinearRegression()</pre></div></div></div></div></div></div></div>"
      ],
      "text/plain": [
       "Pipeline(steps=[('preprocessor',\n",
       "                 ColumnTransformer(remainder='passthrough',\n",
       "                                   transformers=[('num', StandardScaler(),\n",
       "                                                  ['bedRoom', 'bathroom',\n",
       "                                                   'built_up_area',\n",
       "                                                   'servant room',\n",
       "                                                   'store room']),\n",
       "                                                 ('cat', OrdinalEncoder(),\n",
       "                                                  ['property_type', 'sector',\n",
       "                                                   'balcony', 'agePossession',\n",
       "                                                   'furnishing_type',\n",
       "                                                   'luxury_category',\n",
       "                                                   'floor_category']),\n",
       "                                                 ('cat1',\n",
       "                                                  OneHotEncoder(drop='first'),\n",
       "                                                  ['sector', 'agePossession',\n",
       "                                                   'furnishing_type'])])),\n",
       "                ('regressor', LinearRegression())])"
      ]
     },
     "execution_count": 32,
     "metadata": {},
     "output_type": "execute_result"
    }
   ],
   "source": [
    "pipeline.fit(X_train,y_train)"
   ]
  },
  {
   "cell_type": "code",
   "execution_count": 33,
   "id": "f50b7f8f",
   "metadata": {},
   "outputs": [],
   "source": [
    "y_pred = pipeline.predict(X_test)"
   ]
  },
  {
   "cell_type": "code",
   "execution_count": 34,
   "id": "56328d6a",
   "metadata": {},
   "outputs": [],
   "source": [
    "y_pred = np.expm1(y_pred)"
   ]
  },
  {
   "cell_type": "code",
   "execution_count": 35,
   "id": "47cb17aa",
   "metadata": {},
   "outputs": [
    {
     "data": {
      "text/plain": [
       "0.6497514315131458"
      ]
     },
     "execution_count": 35,
     "metadata": {},
     "output_type": "execute_result"
    }
   ],
   "source": [
    "mean_absolute_error(np.expm1(y_test),y_pred)"
   ]
  },
  {
   "cell_type": "markdown",
   "id": "9c5da0a4",
   "metadata": {},
   "source": [
    "    - the mae is reduce from 90 lakhs to 64 lakhs"
   ]
  },
  {
   "cell_type": "code",
   "execution_count": 36,
   "id": "16b2d377",
   "metadata": {},
   "outputs": [],
   "source": [
    "def scorer(model_name, model):\n",
    "    \n",
    "    output = []\n",
    "    \n",
    "    output.append(model_name)\n",
    "    \n",
    "    pipeline = Pipeline([\n",
    "        ('preprocessor', preprocessor),\n",
    "        ('regressor', model)\n",
    "    ])\n",
    "    \n",
    "    # K-fold cross-validation\n",
    "    kfold = KFold(n_splits=10, shuffle=True, random_state=42)\n",
    "    scores = cross_val_score(pipeline, X, y_transformed, cv=kfold, scoring='r2')\n",
    "    \n",
    "    output.append(scores.mean())\n",
    "    \n",
    "    X_train, X_test, y_train, y_test = train_test_split(X,y_transformed,test_size=0.2,random_state=42)\n",
    "    \n",
    "    pipeline.fit(X_train,y_train)\n",
    "    \n",
    "    y_pred = pipeline.predict(X_test)\n",
    "    \n",
    "    y_pred = np.expm1(y_pred)\n",
    "    \n",
    "    output.append(mean_absolute_error(np.expm1(y_test),y_pred))\n",
    "    \n",
    "    return output\n",
    "    "
   ]
  },
  {
   "cell_type": "code",
   "execution_count": 37,
   "id": "3fdef9c9",
   "metadata": {},
   "outputs": [],
   "source": [
    "model_dict = {\n",
    "    'linear_reg':LinearRegression(),\n",
    "    'svr':SVR(),\n",
    "    'ridge':Ridge(),\n",
    "    'LASSO':Lasso(),\n",
    "    'decision tree': DecisionTreeRegressor(),\n",
    "    'random forest':RandomForestRegressor(),\n",
    "    'extra trees': ExtraTreesRegressor(),\n",
    "    'gradient boosting': GradientBoostingRegressor(),\n",
    "    'adaboost': AdaBoostRegressor(),\n",
    "    'mlp': MLPRegressor(),\n",
    "    'xgboost':XGBRegressor()\n",
    "}"
   ]
  },
  {
   "cell_type": "code",
   "execution_count": 38,
   "id": "bd43a9ac",
   "metadata": {},
   "outputs": [],
   "source": [
    "model_output = []\n",
    "for model_name,model in model_dict.items():\n",
    "    model_output.append(scorer(model_name, model))"
   ]
  },
  {
   "cell_type": "code",
   "execution_count": 39,
   "id": "99f87bf1",
   "metadata": {},
   "outputs": [],
   "source": [
    "model_df = pd.DataFrame(model_output, columns=['name','r2','mae'])"
   ]
  },
  {
   "cell_type": "code",
   "execution_count": 40,
   "id": "077430c8",
   "metadata": {},
   "outputs": [
    {
     "data": {
      "text/html": [
       "<div>\n",
       "<style scoped>\n",
       "    .dataframe tbody tr th:only-of-type {\n",
       "        vertical-align: middle;\n",
       "    }\n",
       "\n",
       "    .dataframe tbody tr th {\n",
       "        vertical-align: top;\n",
       "    }\n",
       "\n",
       "    .dataframe thead th {\n",
       "        text-align: right;\n",
       "    }\n",
       "</style>\n",
       "<table border=\"1\" class=\"dataframe\">\n",
       "  <thead>\n",
       "    <tr style=\"text-align: right;\">\n",
       "      <th></th>\n",
       "      <th>name</th>\n",
       "      <th>r2</th>\n",
       "      <th>mae</th>\n",
       "    </tr>\n",
       "  </thead>\n",
       "  <tbody>\n",
       "    <tr>\n",
       "      <th>6</th>\n",
       "      <td>extra trees</td>\n",
       "      <td>0.895597</td>\n",
       "      <td>0.471071</td>\n",
       "    </tr>\n",
       "    <tr>\n",
       "      <th>5</th>\n",
       "      <td>random forest</td>\n",
       "      <td>0.891049</td>\n",
       "      <td>0.492102</td>\n",
       "    </tr>\n",
       "    <tr>\n",
       "      <th>10</th>\n",
       "      <td>xgboost</td>\n",
       "      <td>0.895850</td>\n",
       "      <td>0.493456</td>\n",
       "    </tr>\n",
       "    <tr>\n",
       "      <th>9</th>\n",
       "      <td>mlp</td>\n",
       "      <td>0.872598</td>\n",
       "      <td>0.526757</td>\n",
       "    </tr>\n",
       "    <tr>\n",
       "      <th>7</th>\n",
       "      <td>gradient boosting</td>\n",
       "      <td>0.876732</td>\n",
       "      <td>0.569903</td>\n",
       "    </tr>\n",
       "    <tr>\n",
       "      <th>0</th>\n",
       "      <td>linear_reg</td>\n",
       "      <td>0.854609</td>\n",
       "      <td>0.649751</td>\n",
       "    </tr>\n",
       "    <tr>\n",
       "      <th>2</th>\n",
       "      <td>ridge</td>\n",
       "      <td>0.854671</td>\n",
       "      <td>0.652986</td>\n",
       "    </tr>\n",
       "    <tr>\n",
       "      <th>4</th>\n",
       "      <td>decision tree</td>\n",
       "      <td>0.804809</td>\n",
       "      <td>0.712319</td>\n",
       "    </tr>\n",
       "    <tr>\n",
       "      <th>8</th>\n",
       "      <td>adaboost</td>\n",
       "      <td>0.756832</td>\n",
       "      <td>0.823035</td>\n",
       "    </tr>\n",
       "    <tr>\n",
       "      <th>1</th>\n",
       "      <td>svr</td>\n",
       "      <td>0.769741</td>\n",
       "      <td>0.834124</td>\n",
       "    </tr>\n",
       "    <tr>\n",
       "      <th>3</th>\n",
       "      <td>LASSO</td>\n",
       "      <td>0.059434</td>\n",
       "      <td>1.528906</td>\n",
       "    </tr>\n",
       "  </tbody>\n",
       "</table>\n",
       "</div>"
      ],
      "text/plain": [
       "                 name        r2       mae\n",
       "6         extra trees  0.895597  0.471071\n",
       "5       random forest  0.891049  0.492102\n",
       "10            xgboost  0.895850  0.493456\n",
       "9                 mlp  0.872598  0.526757\n",
       "7   gradient boosting  0.876732  0.569903\n",
       "0          linear_reg  0.854609  0.649751\n",
       "2               ridge  0.854671  0.652986\n",
       "4       decision tree  0.804809  0.712319\n",
       "8            adaboost  0.756832  0.823035\n",
       "1                 svr  0.769741  0.834124\n",
       "3               LASSO  0.059434  1.528906"
      ]
     },
     "execution_count": 40,
     "metadata": {},
     "output_type": "execute_result"
    }
   ],
   "source": [
    "model_df.sort_values(['mae'])"
   ]
  },
  {
   "cell_type": "markdown",
   "id": "999525b7",
   "metadata": {},
   "source": [
    "    - still tree based models are performaing better\n",
    "    - applying OHE increases the dimentionality of the data, which can lead to overfitting. But to avoid this we can use dimentionality reduction \n",
    "    - one of them is PCA"
   ]
  },
  {
   "cell_type": "markdown",
   "id": "407728e2",
   "metadata": {},
   "source": [
    "### OneHotEncoding With PCA\n",
    "    "
   ]
  },
  {
   "cell_type": "code",
   "execution_count": 41,
   "id": "b29b48c6",
   "metadata": {},
   "outputs": [],
   "source": [
    "# Creating a column transformer for preprocessing\n",
    "preprocessor = ColumnTransformer(\n",
    "    transformers=[\n",
    "        ('num', StandardScaler(), ['bedRoom', 'bathroom', 'built_up_area', 'servant room', 'store room']),\n",
    "        ('cat', OrdinalEncoder(), columns_to_encode),\n",
    "        ('cat1',OneHotEncoder(drop='first',sparse_output=False),['sector','agePossession'])\n",
    "    ], \n",
    "    remainder='passthrough'\n",
    ")"
   ]
  },
  {
   "cell_type": "code",
   "execution_count": 42,
   "id": "f1d0099e",
   "metadata": {},
   "outputs": [],
   "source": [
    "# Creating a pipeline\n",
    "pipeline = Pipeline([\n",
    "    ('preprocessor', preprocessor),\n",
    "    ('pca', PCA(n_components=0.95)), \n",
    "    ('regressor', LinearRegression())\n",
    "])"
   ]
  },
  {
   "cell_type": "code",
   "execution_count": 43,
   "id": "3024633c",
   "metadata": {},
   "outputs": [],
   "source": [
    "# K-fold cross-validation\n",
    "kfold = KFold(n_splits=10, shuffle=True, random_state=42)\n",
    "scores = cross_val_score(pipeline, X, y_transformed, cv=kfold, scoring='r2')"
   ]
  },
  {
   "cell_type": "code",
   "execution_count": 44,
   "id": "7df1dbeb",
   "metadata": {},
   "outputs": [
    {
     "data": {
      "text/plain": [
       "0.06225201431451136"
      ]
     },
     "execution_count": 44,
     "metadata": {},
     "output_type": "execute_result"
    }
   ],
   "source": [
    "scores.mean()"
   ]
  },
  {
   "cell_type": "code",
   "execution_count": 45,
   "id": "134c3769",
   "metadata": {},
   "outputs": [
    {
     "data": {
      "text/plain": [
       "0.019860594071640144"
      ]
     },
     "execution_count": 45,
     "metadata": {},
     "output_type": "execute_result"
    }
   ],
   "source": [
    "scores.std()"
   ]
  },
  {
   "cell_type": "code",
   "execution_count": 46,
   "id": "704ba719",
   "metadata": {},
   "outputs": [],
   "source": [
    "def scorer(model_name, model):\n",
    "    \n",
    "    output = []\n",
    "    \n",
    "    output.append(model_name)\n",
    "    \n",
    "    pipeline = Pipeline([\n",
    "        ('preprocessor', preprocessor),\n",
    "        ('pca', PCA(n_components=0.95)),\n",
    "        ('regressor', model)\n",
    "    ])\n",
    "    \n",
    "    # K-fold cross-validation\n",
    "    kfold = KFold(n_splits=10, shuffle=True, random_state=42)\n",
    "    scores = cross_val_score(pipeline, X, y_transformed, cv=kfold, scoring='r2')\n",
    "    \n",
    "    output.append(scores.mean())\n",
    "    \n",
    "    X_train, X_test, y_train, y_test = train_test_split(X,y_transformed,test_size=0.2,random_state=42)\n",
    "    \n",
    "    pipeline.fit(X_train,y_train)\n",
    "    \n",
    "    y_pred = pipeline.predict(X_test)\n",
    "    \n",
    "    y_pred = np.expm1(y_pred)\n",
    "    \n",
    "    output.append(mean_absolute_error(np.expm1(y_test),y_pred))\n",
    "    \n",
    "    return output\n",
    "    "
   ]
  },
  {
   "cell_type": "code",
   "execution_count": 47,
   "id": "ad4ffc60",
   "metadata": {},
   "outputs": [],
   "source": [
    "model_dict = {\n",
    "    'linear_reg':LinearRegression(),\n",
    "    'svr':SVR(),\n",
    "    'ridge':Ridge(),\n",
    "    'LASSO':Lasso(),\n",
    "    'decision tree': DecisionTreeRegressor(),\n",
    "    'random forest':RandomForestRegressor(),\n",
    "    'extra trees': ExtraTreesRegressor(),\n",
    "    'gradient boosting': GradientBoostingRegressor(),\n",
    "    'adaboost': AdaBoostRegressor(),\n",
    "    'mlp': MLPRegressor(),\n",
    "    'xgboost':XGBRegressor()\n",
    "}"
   ]
  },
  {
   "cell_type": "code",
   "execution_count": 48,
   "id": "ea3ac5ea",
   "metadata": {},
   "outputs": [],
   "source": [
    "model_output = []\n",
    "for model_name,model in model_dict.items():\n",
    "    model_output.append(scorer(model_name, model))"
   ]
  },
  {
   "cell_type": "code",
   "execution_count": 49,
   "id": "edc7a23d",
   "metadata": {},
   "outputs": [],
   "source": [
    "model_df = pd.DataFrame(model_output, columns=['name','r2','mae'])"
   ]
  },
  {
   "cell_type": "code",
   "execution_count": 50,
   "id": "a757b875",
   "metadata": {},
   "outputs": [
    {
     "data": {
      "text/html": [
       "<div>\n",
       "<style scoped>\n",
       "    .dataframe tbody tr th:only-of-type {\n",
       "        vertical-align: middle;\n",
       "    }\n",
       "\n",
       "    .dataframe tbody tr th {\n",
       "        vertical-align: top;\n",
       "    }\n",
       "\n",
       "    .dataframe thead th {\n",
       "        text-align: right;\n",
       "    }\n",
       "</style>\n",
       "<table border=\"1\" class=\"dataframe\">\n",
       "  <thead>\n",
       "    <tr style=\"text-align: right;\">\n",
       "      <th></th>\n",
       "      <th>name</th>\n",
       "      <th>r2</th>\n",
       "      <th>mae</th>\n",
       "    </tr>\n",
       "  </thead>\n",
       "  <tbody>\n",
       "    <tr>\n",
       "      <th>5</th>\n",
       "      <td>random forest</td>\n",
       "      <td>0.762749</td>\n",
       "      <td>0.653782</td>\n",
       "    </tr>\n",
       "    <tr>\n",
       "      <th>6</th>\n",
       "      <td>extra trees</td>\n",
       "      <td>0.740114</td>\n",
       "      <td>0.699238</td>\n",
       "    </tr>\n",
       "    <tr>\n",
       "      <th>4</th>\n",
       "      <td>decision tree</td>\n",
       "      <td>0.696182</td>\n",
       "      <td>0.757290</td>\n",
       "    </tr>\n",
       "    <tr>\n",
       "      <th>10</th>\n",
       "      <td>xgboost</td>\n",
       "      <td>0.620664</td>\n",
       "      <td>0.948597</td>\n",
       "    </tr>\n",
       "    <tr>\n",
       "      <th>7</th>\n",
       "      <td>gradient boosting</td>\n",
       "      <td>0.610604</td>\n",
       "      <td>0.987906</td>\n",
       "    </tr>\n",
       "    <tr>\n",
       "      <th>1</th>\n",
       "      <td>svr</td>\n",
       "      <td>0.218073</td>\n",
       "      <td>1.361163</td>\n",
       "    </tr>\n",
       "    <tr>\n",
       "      <th>9</th>\n",
       "      <td>mlp</td>\n",
       "      <td>0.200299</td>\n",
       "      <td>1.417554</td>\n",
       "    </tr>\n",
       "    <tr>\n",
       "      <th>8</th>\n",
       "      <td>adaboost</td>\n",
       "      <td>0.299887</td>\n",
       "      <td>1.483560</td>\n",
       "    </tr>\n",
       "    <tr>\n",
       "      <th>2</th>\n",
       "      <td>ridge</td>\n",
       "      <td>0.062252</td>\n",
       "      <td>1.526707</td>\n",
       "    </tr>\n",
       "    <tr>\n",
       "      <th>0</th>\n",
       "      <td>linear_reg</td>\n",
       "      <td>0.062252</td>\n",
       "      <td>1.526707</td>\n",
       "    </tr>\n",
       "    <tr>\n",
       "      <th>3</th>\n",
       "      <td>LASSO</td>\n",
       "      <td>0.059676</td>\n",
       "      <td>1.528739</td>\n",
       "    </tr>\n",
       "  </tbody>\n",
       "</table>\n",
       "</div>"
      ],
      "text/plain": [
       "                 name        r2       mae\n",
       "5       random forest  0.762749  0.653782\n",
       "6         extra trees  0.740114  0.699238\n",
       "4       decision tree  0.696182  0.757290\n",
       "10            xgboost  0.620664  0.948597\n",
       "7   gradient boosting  0.610604  0.987906\n",
       "1                 svr  0.218073  1.361163\n",
       "9                 mlp  0.200299  1.417554\n",
       "8            adaboost  0.299887  1.483560\n",
       "2               ridge  0.062252  1.526707\n",
       "0          linear_reg  0.062252  1.526707\n",
       "3               LASSO  0.059676  1.528739"
      ]
     },
     "execution_count": 50,
     "metadata": {},
     "output_type": "execute_result"
    }
   ],
   "source": [
    "model_df.sort_values(['mae'])"
   ]
  },
  {
   "cell_type": "markdown",
   "id": "eae3fcc8",
   "metadata": {},
   "source": [
    "    - Overall results got worse -> need to analyse WHY???\n",
    "    - So not continuing with PCA"
   ]
  },
  {
   "cell_type": "markdown",
   "id": "4c447af1",
   "metadata": {},
   "source": [
    "### Target Encoder\n",
    "    - let sector have 100 categories\n",
    "    - for every category, we are giving a value to that category based on the target variable and then calculating its mean and putting it ia a newly created sector column\n",
    "    - have to be careful with target encoding, since data likage could occur. \n",
    "    - To avoid this, we first do train-test split and then do target encoding. So that the mean is calculated on the training data and not on the testing data."
   ]
  },
  {
   "cell_type": "code",
   "execution_count": 53,
   "id": "579e9512",
   "metadata": {},
   "outputs": [],
   "source": [
    "import category_encoders as ce\n",
    "\n",
    "columns_to_encode = ['property_type','sector', 'balcony', 'agePossession', 'furnishing_type', 'luxury_category', 'floor_category']\n",
    "\n",
    "# Creating a column transformer for preprocessing\n",
    "preprocessor = ColumnTransformer(\n",
    "    transformers=[\n",
    "        ('num', StandardScaler(), ['bedRoom', 'bathroom', 'built_up_area', 'servant room', 'store room']),\n",
    "        ('cat', OrdinalEncoder(), columns_to_encode),\n",
    "        ('cat1',OneHotEncoder(drop='first',sparse_output=False),['agePossession']),\n",
    "        ('target_enc', ce.TargetEncoder(), ['sector'])\n",
    "    ], \n",
    "    remainder='passthrough'\n",
    ")"
   ]
  },
  {
   "cell_type": "code",
   "execution_count": 52,
   "id": "3b45ab99",
   "metadata": {},
   "outputs": [
    {
     "name": "stdout",
     "output_type": "stream",
     "text": [
      "Collecting category_encoders\n",
      "  Obtaining dependency information for category_encoders from https://files.pythonhosted.org/packages/7f/e5/79a62e5c9c9ddbfa9ff5222240d408c1eeea4e38741a0dc8343edc7ef1ec/category_encoders-2.6.3-py2.py3-none-any.whl.metadata\n",
      "  Downloading category_encoders-2.6.3-py2.py3-none-any.whl.metadata (8.0 kB)\n",
      "Requirement already satisfied: numpy>=1.14.0 in c:\\users\\user\\anaconda3\\envs\\research_env\\lib\\site-packages (from category_encoders) (1.26.2)\n",
      "Requirement already satisfied: scikit-learn>=0.20.0 in c:\\users\\user\\anaconda3\\envs\\research_env\\lib\\site-packages (from category_encoders) (1.3.2)\n",
      "Requirement already satisfied: scipy>=1.0.0 in c:\\users\\user\\anaconda3\\envs\\research_env\\lib\\site-packages (from category_encoders) (1.11.1)\n",
      "Requirement already satisfied: statsmodels>=0.9.0 in c:\\users\\user\\anaconda3\\envs\\research_env\\lib\\site-packages (from category_encoders) (0.14.1)\n",
      "Requirement already satisfied: pandas>=1.0.5 in c:\\users\\user\\anaconda3\\envs\\research_env\\lib\\site-packages (from category_encoders) (2.2.1)\n",
      "Requirement already satisfied: patsy>=0.5.1 in c:\\users\\user\\anaconda3\\envs\\research_env\\lib\\site-packages (from category_encoders) (0.5.6)\n",
      "Requirement already satisfied: python-dateutil>=2.8.2 in c:\\users\\user\\appdata\\roaming\\python\\python39\\site-packages (from pandas>=1.0.5->category_encoders) (2.8.2)\n",
      "Requirement already satisfied: pytz>=2020.1 in c:\\users\\user\\appdata\\roaming\\python\\python39\\site-packages (from pandas>=1.0.5->category_encoders) (2021.1)\n",
      "Requirement already satisfied: tzdata>=2022.7 in c:\\users\\user\\anaconda3\\envs\\research_env\\lib\\site-packages (from pandas>=1.0.5->category_encoders) (2024.1)\n",
      "Requirement already satisfied: six in c:\\users\\user\\appdata\\roaming\\python\\python39\\site-packages (from patsy>=0.5.1->category_encoders) (1.15.0)\n",
      "Requirement already satisfied: joblib>=1.1.1 in c:\\users\\user\\anaconda3\\envs\\research_env\\lib\\site-packages (from scikit-learn>=0.20.0->category_encoders) (1.3.2)\n",
      "Requirement already satisfied: threadpoolctl>=2.0.0 in c:\\users\\user\\anaconda3\\envs\\research_env\\lib\\site-packages (from scikit-learn>=0.20.0->category_encoders) (3.2.0)\n",
      "Requirement already satisfied: packaging>=21.3 in c:\\users\\user\\appdata\\roaming\\python\\python39\\site-packages (from statsmodels>=0.9.0->category_encoders) (21.3)\n",
      "Requirement already satisfied: pyparsing!=3.0.5,>=2.0.2 in c:\\users\\user\\appdata\\roaming\\python\\python39\\site-packages (from packaging>=21.3->statsmodels>=0.9.0->category_encoders) (2.4.7)\n",
      "Downloading category_encoders-2.6.3-py2.py3-none-any.whl (81 kB)\n",
      "   ---------------------------------------- 81.9/81.9 kB 4.8 MB/s eta 0:00:00\n",
      "Installing collected packages: category_encoders\n",
      "Successfully installed category_encoders-2.6.3\n"
     ]
    },
    {
     "name": "stderr",
     "output_type": "stream",
     "text": [
      "WARNING: Ignoring invalid distribution -illow (c:\\users\\user\\appdata\\roaming\\python\\python39\\site-packages)\n",
      "WARNING: Ignoring invalid distribution -illow (c:\\users\\user\\appdata\\roaming\\python\\python39\\site-packages)\n",
      "WARNING: Ignoring invalid distribution -orch (c:\\users\\user\\anaconda3\\envs\\research_env\\lib\\site-packages)\n",
      "WARNING: Ignoring invalid distribution -illow (c:\\users\\user\\appdata\\roaming\\python\\python39\\site-packages)\n",
      "WARNING: Ignoring invalid distribution -orch (c:\\users\\user\\anaconda3\\envs\\research_env\\lib\\site-packages)\n",
      "WARNING: Ignoring invalid distribution -illow (c:\\users\\user\\appdata\\roaming\\python\\python39\\site-packages)\n",
      "WARNING: Ignoring invalid distribution -illow (c:\\users\\user\\appdata\\roaming\\python\\python39\\site-packages)\n",
      "WARNING: Ignoring invalid distribution -illow (c:\\users\\user\\appdata\\roaming\\python\\python39\\site-packages)\n",
      "\n",
      "[notice] A new release of pip is available: 23.1.2 -> 24.0\n",
      "[notice] To update, run: python.exe -m pip install --upgrade pip\n"
     ]
    }
   ],
   "source": [
    "#!pip install category_encoders"
   ]
  },
  {
   "cell_type": "code",
   "execution_count": 54,
   "id": "6bfed857",
   "metadata": {},
   "outputs": [],
   "source": [
    "# Creating a pipeline\n",
    "pipeline = Pipeline([\n",
    "    ('preprocessor', preprocessor),\n",
    "    ('regressor', LinearRegression())\n",
    "])"
   ]
  },
  {
   "cell_type": "code",
   "execution_count": 55,
   "id": "cab63e93",
   "metadata": {},
   "outputs": [],
   "source": [
    "# K-fold cross-validation\n",
    "kfold = KFold(n_splits=10, shuffle=True, random_state=42)\n",
    "scores = cross_val_score(pipeline, X, y_transformed, cv=kfold, scoring='r2')"
   ]
  },
  {
   "cell_type": "code",
   "execution_count": 56,
   "id": "2cc65244",
   "metadata": {},
   "outputs": [
    {
     "data": {
      "text/plain": [
       "(0.829521918225536, 0.01838446337912288)"
      ]
     },
     "execution_count": 56,
     "metadata": {},
     "output_type": "execute_result"
    }
   ],
   "source": [
    "scores.mean(),scores.std()"
   ]
  },
  {
   "cell_type": "code",
   "execution_count": 57,
   "id": "4719d291",
   "metadata": {},
   "outputs": [],
   "source": [
    "def scorer(model_name, model):\n",
    "    \n",
    "    output = []\n",
    "    \n",
    "    output.append(model_name)\n",
    "    \n",
    "    pipeline = Pipeline([\n",
    "        ('preprocessor', preprocessor),\n",
    "        ('regressor', model)\n",
    "    ])\n",
    "    \n",
    "    # K-fold cross-validation\n",
    "    kfold = KFold(n_splits=10, shuffle=True, random_state=42)\n",
    "    scores = cross_val_score(pipeline, X, y_transformed, cv=kfold, scoring='r2')\n",
    "    \n",
    "    output.append(scores.mean())\n",
    "    \n",
    "    X_train, X_test, y_train, y_test = train_test_split(X,y_transformed,test_size=0.2,random_state=42)\n",
    "    \n",
    "    pipeline.fit(X_train,y_train)\n",
    "    \n",
    "    y_pred = pipeline.predict(X_test)\n",
    "    \n",
    "    y_pred = np.expm1(y_pred)\n",
    "    \n",
    "    output.append(mean_absolute_error(np.expm1(y_test),y_pred))\n",
    "    \n",
    "    return output\n",
    "    "
   ]
  },
  {
   "cell_type": "code",
   "execution_count": 58,
   "id": "f6d6d178",
   "metadata": {},
   "outputs": [],
   "source": [
    "model_dict = {\n",
    "    'linear_reg':LinearRegression(),\n",
    "    'svr':SVR(),\n",
    "    'ridge':Ridge(),\n",
    "    'LASSO':Lasso(),\n",
    "    'decision tree': DecisionTreeRegressor(),\n",
    "    'random forest':RandomForestRegressor(),\n",
    "    'extra trees': ExtraTreesRegressor(),\n",
    "    'gradient boosting': GradientBoostingRegressor(),\n",
    "    'adaboost': AdaBoostRegressor(),\n",
    "    'mlp': MLPRegressor(),\n",
    "    'xgboost':XGBRegressor()\n",
    "}"
   ]
  },
  {
   "cell_type": "code",
   "execution_count": 59,
   "id": "a67db403",
   "metadata": {},
   "outputs": [],
   "source": [
    "model_output = []\n",
    "for model_name,model in model_dict.items():\n",
    "    model_output.append(scorer(model_name, model))"
   ]
  },
  {
   "cell_type": "code",
   "execution_count": 60,
   "id": "7bfdc20f",
   "metadata": {},
   "outputs": [],
   "source": [
    "model_df = pd.DataFrame(model_output, columns=['name','r2','mae'])"
   ]
  },
  {
   "cell_type": "code",
   "execution_count": 61,
   "id": "87e5b032",
   "metadata": {},
   "outputs": [
    {
     "data": {
      "text/html": [
       "<div>\n",
       "<style scoped>\n",
       "    .dataframe tbody tr th:only-of-type {\n",
       "        vertical-align: middle;\n",
       "    }\n",
       "\n",
       "    .dataframe tbody tr th {\n",
       "        vertical-align: top;\n",
       "    }\n",
       "\n",
       "    .dataframe thead th {\n",
       "        text-align: right;\n",
       "    }\n",
       "</style>\n",
       "<table border=\"1\" class=\"dataframe\">\n",
       "  <thead>\n",
       "    <tr style=\"text-align: right;\">\n",
       "      <th></th>\n",
       "      <th>name</th>\n",
       "      <th>r2</th>\n",
       "      <th>mae</th>\n",
       "    </tr>\n",
       "  </thead>\n",
       "  <tbody>\n",
       "    <tr>\n",
       "      <th>10</th>\n",
       "      <td>xgboost</td>\n",
       "      <td>0.904798</td>\n",
       "      <td>0.447518</td>\n",
       "    </tr>\n",
       "    <tr>\n",
       "      <th>5</th>\n",
       "      <td>random forest</td>\n",
       "      <td>0.901372</td>\n",
       "      <td>0.454207</td>\n",
       "    </tr>\n",
       "    <tr>\n",
       "      <th>6</th>\n",
       "      <td>extra trees</td>\n",
       "      <td>0.900742</td>\n",
       "      <td>0.462210</td>\n",
       "    </tr>\n",
       "    <tr>\n",
       "      <th>7</th>\n",
       "      <td>gradient boosting</td>\n",
       "      <td>0.888999</td>\n",
       "      <td>0.510409</td>\n",
       "    </tr>\n",
       "    <tr>\n",
       "      <th>4</th>\n",
       "      <td>decision tree</td>\n",
       "      <td>0.831600</td>\n",
       "      <td>0.575583</td>\n",
       "    </tr>\n",
       "    <tr>\n",
       "      <th>9</th>\n",
       "      <td>mlp</td>\n",
       "      <td>0.857509</td>\n",
       "      <td>0.594955</td>\n",
       "    </tr>\n",
       "    <tr>\n",
       "      <th>8</th>\n",
       "      <td>adaboost</td>\n",
       "      <td>0.819841</td>\n",
       "      <td>0.702803</td>\n",
       "    </tr>\n",
       "    <tr>\n",
       "      <th>0</th>\n",
       "      <td>linear_reg</td>\n",
       "      <td>0.829522</td>\n",
       "      <td>0.713011</td>\n",
       "    </tr>\n",
       "    <tr>\n",
       "      <th>2</th>\n",
       "      <td>ridge</td>\n",
       "      <td>0.829536</td>\n",
       "      <td>0.713523</td>\n",
       "    </tr>\n",
       "    <tr>\n",
       "      <th>1</th>\n",
       "      <td>svr</td>\n",
       "      <td>0.782917</td>\n",
       "      <td>0.818851</td>\n",
       "    </tr>\n",
       "    <tr>\n",
       "      <th>3</th>\n",
       "      <td>LASSO</td>\n",
       "      <td>0.059434</td>\n",
       "      <td>1.528906</td>\n",
       "    </tr>\n",
       "  </tbody>\n",
       "</table>\n",
       "</div>"
      ],
      "text/plain": [
       "                 name        r2       mae\n",
       "10            xgboost  0.904798  0.447518\n",
       "5       random forest  0.901372  0.454207\n",
       "6         extra trees  0.900742  0.462210\n",
       "7   gradient boosting  0.888999  0.510409\n",
       "4       decision tree  0.831600  0.575583\n",
       "9                 mlp  0.857509  0.594955\n",
       "8            adaboost  0.819841  0.702803\n",
       "0          linear_reg  0.829522  0.713011\n",
       "2               ridge  0.829536  0.713523\n",
       "1                 svr  0.782917  0.818851\n",
       "3               LASSO  0.059434  1.528906"
      ]
     },
     "execution_count": 61,
     "metadata": {},
     "output_type": "execute_result"
    }
   ],
   "source": [
    "model_df.sort_values(['mae'])"
   ]
  },
  {
   "cell_type": "markdown",
   "id": "8ca4bf36",
   "metadata": {},
   "source": [
    "    - Tagret encoding will generally give better results with tree based algorithms\n",
    "    - marginal improvement\n",
    "    - Random forest and XGBoost giving the best result, So we will use these 2 algo and tune its hyperparameters"
   ]
  },
  {
   "cell_type": "markdown",
   "id": "31c671e7",
   "metadata": {},
   "source": [
    "### Hyperparameter Tuning"
   ]
  },
  {
   "cell_type": "code",
   "execution_count": 62,
   "id": "84d0573f",
   "metadata": {},
   "outputs": [],
   "source": [
    "from sklearn.model_selection import GridSearchCV"
   ]
  },
  {
   "cell_type": "code",
   "execution_count": 63,
   "id": "a81b8e78",
   "metadata": {},
   "outputs": [],
   "source": [
    "param_grid = {\n",
    "    'regressor__n_estimators': [50, 100, 200, 300],\n",
    "    'regressor__max_depth': [None, 10, 20, 30],\n",
    "    'regressor__max_samples':[0.1, 0.25, 0.5, 1.0],\n",
    "    'regressor__max_features': ['auto', 'sqrt']\n",
    "}"
   ]
  },
  {
   "cell_type": "code",
   "execution_count": 64,
   "id": "e7397c82",
   "metadata": {},
   "outputs": [],
   "source": [
    "columns_to_encode = ['property_type','sector', 'balcony', 'agePossession', 'furnishing_type', 'luxury_category', 'floor_category']\n",
    "\n",
    "# Creating a column transformer for preprocessing\n",
    "preprocessor = ColumnTransformer(\n",
    "    transformers=[\n",
    "        ('num', StandardScaler(), ['bedRoom', 'bathroom', 'built_up_area', 'servant room', 'store room']),\n",
    "        ('cat', OrdinalEncoder(), columns_to_encode),\n",
    "        ('cat1',OneHotEncoder(drop='first',sparse_output=False),['agePossession']),\n",
    "        ('target_enc', ce.TargetEncoder(), ['sector'])\n",
    "    ], \n",
    "    remainder='passthrough'\n",
    ")"
   ]
  },
  {
   "cell_type": "code",
   "execution_count": 65,
   "id": "45807e15",
   "metadata": {},
   "outputs": [],
   "source": [
    "pipeline = Pipeline([\n",
    "    ('preprocessor', preprocessor),\n",
    "    ('regressor', RandomForestRegressor())\n",
    "])"
   ]
  },
  {
   "cell_type": "code",
   "execution_count": 66,
   "id": "3287204e",
   "metadata": {},
   "outputs": [],
   "source": [
    "kfold = KFold(n_splits=10, shuffle=True, random_state=42)"
   ]
  },
  {
   "cell_type": "code",
   "execution_count": 67,
   "id": "8a26e17a",
   "metadata": {},
   "outputs": [],
   "source": [
    "search = GridSearchCV(pipeline, param_grid, cv=kfold, scoring='r2', n_jobs=-1, verbose=4)"
   ]
  },
  {
   "cell_type": "code",
   "execution_count": 68,
   "id": "6a468e2b",
   "metadata": {},
   "outputs": [
    {
     "name": "stdout",
     "output_type": "stream",
     "text": [
      "Fitting 10 folds for each of 128 candidates, totalling 1280 fits\n"
     ]
    },
    {
     "name": "stderr",
     "output_type": "stream",
     "text": [
      "c:\\Users\\User\\anaconda3\\envs\\Research_env\\lib\\site-packages\\sklearn\\model_selection\\_validation.py:425: FitFailedWarning: \n",
      "640 fits failed out of a total of 1280.\n",
      "The score on these train-test partitions for these parameters will be set to nan.\n",
      "If these failures are not expected, you can try to debug them by setting error_score='raise'.\n",
      "\n",
      "Below are more details about the failures:\n",
      "--------------------------------------------------------------------------------\n",
      "422 fits failed with the following error:\n",
      "Traceback (most recent call last):\n",
      "  File \"c:\\Users\\User\\anaconda3\\envs\\Research_env\\lib\\site-packages\\sklearn\\model_selection\\_validation.py\", line 729, in _fit_and_score\n",
      "    estimator.fit(X_train, y_train, **fit_params)\n",
      "  File \"c:\\Users\\User\\anaconda3\\envs\\Research_env\\lib\\site-packages\\sklearn\\base.py\", line 1152, in wrapper\n",
      "    return fit_method(estimator, *args, **kwargs)\n",
      "  File \"c:\\Users\\User\\anaconda3\\envs\\Research_env\\lib\\site-packages\\sklearn\\pipeline.py\", line 427, in fit\n",
      "    self._final_estimator.fit(Xt, y, **fit_params_last_step)\n",
      "  File \"c:\\Users\\User\\anaconda3\\envs\\Research_env\\lib\\site-packages\\sklearn\\base.py\", line 1145, in wrapper\n",
      "    estimator._validate_params()\n",
      "  File \"c:\\Users\\User\\anaconda3\\envs\\Research_env\\lib\\site-packages\\sklearn\\base.py\", line 638, in _validate_params\n",
      "    validate_parameter_constraints(\n",
      "  File \"c:\\Users\\User\\anaconda3\\envs\\Research_env\\lib\\site-packages\\sklearn\\utils\\_param_validation.py\", line 96, in validate_parameter_constraints\n",
      "    raise InvalidParameterError(\n",
      "sklearn.utils._param_validation.InvalidParameterError: The 'max_features' parameter of RandomForestRegressor must be an int in the range [1, inf), a float in the range (0.0, 1.0], a str among {'log2', 'sqrt'} or None. Got 'auto' instead.\n",
      "\n",
      "--------------------------------------------------------------------------------\n",
      "218 fits failed with the following error:\n",
      "Traceback (most recent call last):\n",
      "  File \"c:\\Users\\User\\anaconda3\\envs\\Research_env\\lib\\site-packages\\sklearn\\model_selection\\_validation.py\", line 729, in _fit_and_score\n",
      "    estimator.fit(X_train, y_train, **fit_params)\n",
      "  File \"c:\\Users\\User\\anaconda3\\envs\\Research_env\\lib\\site-packages\\sklearn\\base.py\", line 1152, in wrapper\n",
      "    return fit_method(estimator, *args, **kwargs)\n",
      "  File \"c:\\Users\\User\\anaconda3\\envs\\Research_env\\lib\\site-packages\\sklearn\\pipeline.py\", line 427, in fit\n",
      "    self._final_estimator.fit(Xt, y, **fit_params_last_step)\n",
      "  File \"c:\\Users\\User\\anaconda3\\envs\\Research_env\\lib\\site-packages\\sklearn\\base.py\", line 1145, in wrapper\n",
      "    estimator._validate_params()\n",
      "  File \"c:\\Users\\User\\anaconda3\\envs\\Research_env\\lib\\site-packages\\sklearn\\base.py\", line 638, in _validate_params\n",
      "    validate_parameter_constraints(\n",
      "  File \"c:\\Users\\User\\anaconda3\\envs\\Research_env\\lib\\site-packages\\sklearn\\utils\\_param_validation.py\", line 96, in validate_parameter_constraints\n",
      "    raise InvalidParameterError(\n",
      "sklearn.utils._param_validation.InvalidParameterError: The 'max_features' parameter of RandomForestRegressor must be an int in the range [1, inf), a float in the range (0.0, 1.0], a str among {'sqrt', 'log2'} or None. Got 'auto' instead.\n",
      "\n",
      "  warnings.warn(some_fits_failed_message, FitFailedWarning)\n",
      "c:\\Users\\User\\anaconda3\\envs\\Research_env\\lib\\site-packages\\sklearn\\model_selection\\_search.py:979: UserWarning: One or more of the test scores are non-finite: [       nan        nan        nan        nan        nan        nan\n",
      "        nan        nan        nan        nan        nan        nan\n",
      "        nan        nan        nan        nan 0.86748589 0.87038251\n",
      " 0.87310081 0.87339328 0.8836535  0.88799858 0.88735476 0.8884752\n",
      " 0.89412762 0.89600387 0.89625419 0.8963665  0.90010666 0.89978731\n",
      " 0.90222185 0.90227713        nan        nan        nan        nan\n",
      "        nan        nan        nan        nan        nan        nan\n",
      "        nan        nan        nan        nan        nan        nan\n",
      " 0.86572811 0.86988852 0.87099656 0.87162465 0.87929552 0.88324583\n",
      " 0.88428365 0.88368529 0.88859942 0.88914138 0.88875039 0.88987361\n",
      " 0.89190892 0.89240802 0.89266279 0.89418188        nan        nan\n",
      "        nan        nan        nan        nan        nan        nan\n",
      "        nan        nan        nan        nan        nan        nan\n",
      "        nan        nan 0.8710556  0.86898291 0.87286925 0.87293765\n",
      " 0.88405908 0.88785474 0.8881509  0.88860757 0.89389467 0.8950171\n",
      " 0.89625893 0.89670803 0.89934631 0.90179909 0.90205689 0.9022522\n",
      "        nan        nan        nan        nan        nan        nan\n",
      "        nan        nan        nan        nan        nan        nan\n",
      "        nan        nan        nan        nan 0.86946386 0.87298515\n",
      " 0.87204605 0.87250648 0.88469283 0.88711686 0.88726589 0.88802311\n",
      " 0.89494829 0.89669488 0.89652361 0.89592836 0.89992104 0.90068291\n",
      " 0.90220854 0.90260245]\n",
      "  warnings.warn(\n"
     ]
    },
    {
     "data": {
      "text/html": [
       "<style>#sk-container-id-3 {color: black;}#sk-container-id-3 pre{padding: 0;}#sk-container-id-3 div.sk-toggleable {background-color: white;}#sk-container-id-3 label.sk-toggleable__label {cursor: pointer;display: block;width: 100%;margin-bottom: 0;padding: 0.3em;box-sizing: border-box;text-align: center;}#sk-container-id-3 label.sk-toggleable__label-arrow:before {content: \"▸\";float: left;margin-right: 0.25em;color: #696969;}#sk-container-id-3 label.sk-toggleable__label-arrow:hover:before {color: black;}#sk-container-id-3 div.sk-estimator:hover label.sk-toggleable__label-arrow:before {color: black;}#sk-container-id-3 div.sk-toggleable__content {max-height: 0;max-width: 0;overflow: hidden;text-align: left;background-color: #f0f8ff;}#sk-container-id-3 div.sk-toggleable__content pre {margin: 0.2em;color: black;border-radius: 0.25em;background-color: #f0f8ff;}#sk-container-id-3 input.sk-toggleable__control:checked~div.sk-toggleable__content {max-height: 200px;max-width: 100%;overflow: auto;}#sk-container-id-3 input.sk-toggleable__control:checked~label.sk-toggleable__label-arrow:before {content: \"▾\";}#sk-container-id-3 div.sk-estimator input.sk-toggleable__control:checked~label.sk-toggleable__label {background-color: #d4ebff;}#sk-container-id-3 div.sk-label input.sk-toggleable__control:checked~label.sk-toggleable__label {background-color: #d4ebff;}#sk-container-id-3 input.sk-hidden--visually {border: 0;clip: rect(1px 1px 1px 1px);clip: rect(1px, 1px, 1px, 1px);height: 1px;margin: -1px;overflow: hidden;padding: 0;position: absolute;width: 1px;}#sk-container-id-3 div.sk-estimator {font-family: monospace;background-color: #f0f8ff;border: 1px dotted black;border-radius: 0.25em;box-sizing: border-box;margin-bottom: 0.5em;}#sk-container-id-3 div.sk-estimator:hover {background-color: #d4ebff;}#sk-container-id-3 div.sk-parallel-item::after {content: \"\";width: 100%;border-bottom: 1px solid gray;flex-grow: 1;}#sk-container-id-3 div.sk-label:hover label.sk-toggleable__label {background-color: #d4ebff;}#sk-container-id-3 div.sk-serial::before {content: \"\";position: absolute;border-left: 1px solid gray;box-sizing: border-box;top: 0;bottom: 0;left: 50%;z-index: 0;}#sk-container-id-3 div.sk-serial {display: flex;flex-direction: column;align-items: center;background-color: white;padding-right: 0.2em;padding-left: 0.2em;position: relative;}#sk-container-id-3 div.sk-item {position: relative;z-index: 1;}#sk-container-id-3 div.sk-parallel {display: flex;align-items: stretch;justify-content: center;background-color: white;position: relative;}#sk-container-id-3 div.sk-item::before, #sk-container-id-3 div.sk-parallel-item::before {content: \"\";position: absolute;border-left: 1px solid gray;box-sizing: border-box;top: 0;bottom: 0;left: 50%;z-index: -1;}#sk-container-id-3 div.sk-parallel-item {display: flex;flex-direction: column;z-index: 1;position: relative;background-color: white;}#sk-container-id-3 div.sk-parallel-item:first-child::after {align-self: flex-end;width: 50%;}#sk-container-id-3 div.sk-parallel-item:last-child::after {align-self: flex-start;width: 50%;}#sk-container-id-3 div.sk-parallel-item:only-child::after {width: 0;}#sk-container-id-3 div.sk-dashed-wrapped {border: 1px dashed gray;margin: 0 0.4em 0.5em 0.4em;box-sizing: border-box;padding-bottom: 0.4em;background-color: white;}#sk-container-id-3 div.sk-label label {font-family: monospace;font-weight: bold;display: inline-block;line-height: 1.2em;}#sk-container-id-3 div.sk-label-container {text-align: center;}#sk-container-id-3 div.sk-container {/* jupyter's `normalize.less` sets `[hidden] { display: none; }` but bootstrap.min.css set `[hidden] { display: none !important; }` so we also need the `!important` here to be able to override the default hidden behavior on the sphinx rendered scikit-learn.org. See: https://github.com/scikit-learn/scikit-learn/issues/21755 */display: inline-block !important;position: relative;}#sk-container-id-3 div.sk-text-repr-fallback {display: none;}</style><div id=\"sk-container-id-3\" class=\"sk-top-container\"><div class=\"sk-text-repr-fallback\"><pre>GridSearchCV(cv=KFold(n_splits=10, random_state=42, shuffle=True),\n",
       "             estimator=Pipeline(steps=[(&#x27;preprocessor&#x27;,\n",
       "                                        ColumnTransformer(remainder=&#x27;passthrough&#x27;,\n",
       "                                                          transformers=[(&#x27;num&#x27;,\n",
       "                                                                         StandardScaler(),\n",
       "                                                                         [&#x27;bedRoom&#x27;,\n",
       "                                                                          &#x27;bathroom&#x27;,\n",
       "                                                                          &#x27;built_up_area&#x27;,\n",
       "                                                                          &#x27;servant &#x27;\n",
       "                                                                          &#x27;room&#x27;,\n",
       "                                                                          &#x27;store &#x27;\n",
       "                                                                          &#x27;room&#x27;]),\n",
       "                                                                        (&#x27;cat&#x27;,\n",
       "                                                                         OrdinalEncoder(),\n",
       "                                                                         [&#x27;property_type&#x27;,\n",
       "                                                                          &#x27;sector&#x27;,\n",
       "                                                                          &#x27;balcony&#x27;,\n",
       "                                                                          &#x27;agePossession&#x27;,\n",
       "                                                                          &#x27;furnishing_type&#x27;,...\n",
       "                                                                         OneHotEncoder(drop=&#x27;first&#x27;,\n",
       "                                                                                       sparse_output=False),\n",
       "                                                                         [&#x27;agePossession&#x27;]),\n",
       "                                                                        (&#x27;target_enc&#x27;,\n",
       "                                                                         TargetEncoder(),\n",
       "                                                                         [&#x27;sector&#x27;])])),\n",
       "                                       (&#x27;regressor&#x27;, RandomForestRegressor())]),\n",
       "             n_jobs=-1,\n",
       "             param_grid={&#x27;regressor__max_depth&#x27;: [None, 10, 20, 30],\n",
       "                         &#x27;regressor__max_features&#x27;: [&#x27;auto&#x27;, &#x27;sqrt&#x27;],\n",
       "                         &#x27;regressor__max_samples&#x27;: [0.1, 0.25, 0.5, 1.0],\n",
       "                         &#x27;regressor__n_estimators&#x27;: [50, 100, 200, 300]},\n",
       "             scoring=&#x27;r2&#x27;, verbose=4)</pre><b>In a Jupyter environment, please rerun this cell to show the HTML representation or trust the notebook. <br />On GitHub, the HTML representation is unable to render, please try loading this page with nbviewer.org.</b></div><div class=\"sk-container\" hidden><div class=\"sk-item sk-dashed-wrapped\"><div class=\"sk-label-container\"><div class=\"sk-label sk-toggleable\"><input class=\"sk-toggleable__control sk-hidden--visually\" id=\"sk-estimator-id-21\" type=\"checkbox\" ><label for=\"sk-estimator-id-21\" class=\"sk-toggleable__label sk-toggleable__label-arrow\">GridSearchCV</label><div class=\"sk-toggleable__content\"><pre>GridSearchCV(cv=KFold(n_splits=10, random_state=42, shuffle=True),\n",
       "             estimator=Pipeline(steps=[(&#x27;preprocessor&#x27;,\n",
       "                                        ColumnTransformer(remainder=&#x27;passthrough&#x27;,\n",
       "                                                          transformers=[(&#x27;num&#x27;,\n",
       "                                                                         StandardScaler(),\n",
       "                                                                         [&#x27;bedRoom&#x27;,\n",
       "                                                                          &#x27;bathroom&#x27;,\n",
       "                                                                          &#x27;built_up_area&#x27;,\n",
       "                                                                          &#x27;servant &#x27;\n",
       "                                                                          &#x27;room&#x27;,\n",
       "                                                                          &#x27;store &#x27;\n",
       "                                                                          &#x27;room&#x27;]),\n",
       "                                                                        (&#x27;cat&#x27;,\n",
       "                                                                         OrdinalEncoder(),\n",
       "                                                                         [&#x27;property_type&#x27;,\n",
       "                                                                          &#x27;sector&#x27;,\n",
       "                                                                          &#x27;balcony&#x27;,\n",
       "                                                                          &#x27;agePossession&#x27;,\n",
       "                                                                          &#x27;furnishing_type&#x27;,...\n",
       "                                                                         OneHotEncoder(drop=&#x27;first&#x27;,\n",
       "                                                                                       sparse_output=False),\n",
       "                                                                         [&#x27;agePossession&#x27;]),\n",
       "                                                                        (&#x27;target_enc&#x27;,\n",
       "                                                                         TargetEncoder(),\n",
       "                                                                         [&#x27;sector&#x27;])])),\n",
       "                                       (&#x27;regressor&#x27;, RandomForestRegressor())]),\n",
       "             n_jobs=-1,\n",
       "             param_grid={&#x27;regressor__max_depth&#x27;: [None, 10, 20, 30],\n",
       "                         &#x27;regressor__max_features&#x27;: [&#x27;auto&#x27;, &#x27;sqrt&#x27;],\n",
       "                         &#x27;regressor__max_samples&#x27;: [0.1, 0.25, 0.5, 1.0],\n",
       "                         &#x27;regressor__n_estimators&#x27;: [50, 100, 200, 300]},\n",
       "             scoring=&#x27;r2&#x27;, verbose=4)</pre></div></div></div><div class=\"sk-parallel\"><div class=\"sk-parallel-item\"><div class=\"sk-item\"><div class=\"sk-label-container\"><div class=\"sk-label sk-toggleable\"><input class=\"sk-toggleable__control sk-hidden--visually\" id=\"sk-estimator-id-22\" type=\"checkbox\" ><label for=\"sk-estimator-id-22\" class=\"sk-toggleable__label sk-toggleable__label-arrow\">estimator: Pipeline</label><div class=\"sk-toggleable__content\"><pre>Pipeline(steps=[(&#x27;preprocessor&#x27;,\n",
       "                 ColumnTransformer(remainder=&#x27;passthrough&#x27;,\n",
       "                                   transformers=[(&#x27;num&#x27;, StandardScaler(),\n",
       "                                                  [&#x27;bedRoom&#x27;, &#x27;bathroom&#x27;,\n",
       "                                                   &#x27;built_up_area&#x27;,\n",
       "                                                   &#x27;servant room&#x27;,\n",
       "                                                   &#x27;store room&#x27;]),\n",
       "                                                 (&#x27;cat&#x27;, OrdinalEncoder(),\n",
       "                                                  [&#x27;property_type&#x27;, &#x27;sector&#x27;,\n",
       "                                                   &#x27;balcony&#x27;, &#x27;agePossession&#x27;,\n",
       "                                                   &#x27;furnishing_type&#x27;,\n",
       "                                                   &#x27;luxury_category&#x27;,\n",
       "                                                   &#x27;floor_category&#x27;]),\n",
       "                                                 (&#x27;cat1&#x27;,\n",
       "                                                  OneHotEncoder(drop=&#x27;first&#x27;,\n",
       "                                                                sparse_output=False),\n",
       "                                                  [&#x27;agePossession&#x27;]),\n",
       "                                                 (&#x27;target_enc&#x27;, TargetEncoder(),\n",
       "                                                  [&#x27;sector&#x27;])])),\n",
       "                (&#x27;regressor&#x27;, RandomForestRegressor())])</pre></div></div></div><div class=\"sk-serial\"><div class=\"sk-item\"><div class=\"sk-serial\"><div class=\"sk-item sk-dashed-wrapped\"><div class=\"sk-label-container\"><div class=\"sk-label sk-toggleable\"><input class=\"sk-toggleable__control sk-hidden--visually\" id=\"sk-estimator-id-23\" type=\"checkbox\" ><label for=\"sk-estimator-id-23\" class=\"sk-toggleable__label sk-toggleable__label-arrow\">preprocessor: ColumnTransformer</label><div class=\"sk-toggleable__content\"><pre>ColumnTransformer(remainder=&#x27;passthrough&#x27;,\n",
       "                  transformers=[(&#x27;num&#x27;, StandardScaler(),\n",
       "                                 [&#x27;bedRoom&#x27;, &#x27;bathroom&#x27;, &#x27;built_up_area&#x27;,\n",
       "                                  &#x27;servant room&#x27;, &#x27;store room&#x27;]),\n",
       "                                (&#x27;cat&#x27;, OrdinalEncoder(),\n",
       "                                 [&#x27;property_type&#x27;, &#x27;sector&#x27;, &#x27;balcony&#x27;,\n",
       "                                  &#x27;agePossession&#x27;, &#x27;furnishing_type&#x27;,\n",
       "                                  &#x27;luxury_category&#x27;, &#x27;floor_category&#x27;]),\n",
       "                                (&#x27;cat1&#x27;,\n",
       "                                 OneHotEncoder(drop=&#x27;first&#x27;,\n",
       "                                               sparse_output=False),\n",
       "                                 [&#x27;agePossession&#x27;]),\n",
       "                                (&#x27;target_enc&#x27;, TargetEncoder(), [&#x27;sector&#x27;])])</pre></div></div></div><div class=\"sk-parallel\"><div class=\"sk-parallel-item\"><div class=\"sk-item\"><div class=\"sk-label-container\"><div class=\"sk-label sk-toggleable\"><input class=\"sk-toggleable__control sk-hidden--visually\" id=\"sk-estimator-id-24\" type=\"checkbox\" ><label for=\"sk-estimator-id-24\" class=\"sk-toggleable__label sk-toggleable__label-arrow\">num</label><div class=\"sk-toggleable__content\"><pre>[&#x27;bedRoom&#x27;, &#x27;bathroom&#x27;, &#x27;built_up_area&#x27;, &#x27;servant room&#x27;, &#x27;store room&#x27;]</pre></div></div></div><div class=\"sk-serial\"><div class=\"sk-item\"><div class=\"sk-estimator sk-toggleable\"><input class=\"sk-toggleable__control sk-hidden--visually\" id=\"sk-estimator-id-25\" type=\"checkbox\" ><label for=\"sk-estimator-id-25\" class=\"sk-toggleable__label sk-toggleable__label-arrow\">StandardScaler</label><div class=\"sk-toggleable__content\"><pre>StandardScaler()</pre></div></div></div></div></div></div><div class=\"sk-parallel-item\"><div class=\"sk-item\"><div class=\"sk-label-container\"><div class=\"sk-label sk-toggleable\"><input class=\"sk-toggleable__control sk-hidden--visually\" id=\"sk-estimator-id-26\" type=\"checkbox\" ><label for=\"sk-estimator-id-26\" class=\"sk-toggleable__label sk-toggleable__label-arrow\">cat</label><div class=\"sk-toggleable__content\"><pre>[&#x27;property_type&#x27;, &#x27;sector&#x27;, &#x27;balcony&#x27;, &#x27;agePossession&#x27;, &#x27;furnishing_type&#x27;, &#x27;luxury_category&#x27;, &#x27;floor_category&#x27;]</pre></div></div></div><div class=\"sk-serial\"><div class=\"sk-item\"><div class=\"sk-estimator sk-toggleable\"><input class=\"sk-toggleable__control sk-hidden--visually\" id=\"sk-estimator-id-27\" type=\"checkbox\" ><label for=\"sk-estimator-id-27\" class=\"sk-toggleable__label sk-toggleable__label-arrow\">OrdinalEncoder</label><div class=\"sk-toggleable__content\"><pre>OrdinalEncoder()</pre></div></div></div></div></div></div><div class=\"sk-parallel-item\"><div class=\"sk-item\"><div class=\"sk-label-container\"><div class=\"sk-label sk-toggleable\"><input class=\"sk-toggleable__control sk-hidden--visually\" id=\"sk-estimator-id-28\" type=\"checkbox\" ><label for=\"sk-estimator-id-28\" class=\"sk-toggleable__label sk-toggleable__label-arrow\">cat1</label><div class=\"sk-toggleable__content\"><pre>[&#x27;agePossession&#x27;]</pre></div></div></div><div class=\"sk-serial\"><div class=\"sk-item\"><div class=\"sk-estimator sk-toggleable\"><input class=\"sk-toggleable__control sk-hidden--visually\" id=\"sk-estimator-id-29\" type=\"checkbox\" ><label for=\"sk-estimator-id-29\" class=\"sk-toggleable__label sk-toggleable__label-arrow\">OneHotEncoder</label><div class=\"sk-toggleable__content\"><pre>OneHotEncoder(drop=&#x27;first&#x27;, sparse_output=False)</pre></div></div></div></div></div></div><div class=\"sk-parallel-item\"><div class=\"sk-item\"><div class=\"sk-label-container\"><div class=\"sk-label sk-toggleable\"><input class=\"sk-toggleable__control sk-hidden--visually\" id=\"sk-estimator-id-30\" type=\"checkbox\" ><label for=\"sk-estimator-id-30\" class=\"sk-toggleable__label sk-toggleable__label-arrow\">target_enc</label><div class=\"sk-toggleable__content\"><pre>[&#x27;sector&#x27;]</pre></div></div></div><div class=\"sk-serial\"><div class=\"sk-item\"><div class=\"sk-estimator sk-toggleable\"><input class=\"sk-toggleable__control sk-hidden--visually\" id=\"sk-estimator-id-31\" type=\"checkbox\" ><label for=\"sk-estimator-id-31\" class=\"sk-toggleable__label sk-toggleable__label-arrow\">TargetEncoder</label><div class=\"sk-toggleable__content\"><pre>TargetEncoder()</pre></div></div></div></div></div></div><div class=\"sk-parallel-item\"><div class=\"sk-item\"><div class=\"sk-label-container\"><div class=\"sk-label sk-toggleable\"><input class=\"sk-toggleable__control sk-hidden--visually\" id=\"sk-estimator-id-32\" type=\"checkbox\" ><label for=\"sk-estimator-id-32\" class=\"sk-toggleable__label sk-toggleable__label-arrow\">remainder</label><div class=\"sk-toggleable__content\"><pre></pre></div></div></div><div class=\"sk-serial\"><div class=\"sk-item\"><div class=\"sk-estimator sk-toggleable\"><input class=\"sk-toggleable__control sk-hidden--visually\" id=\"sk-estimator-id-33\" type=\"checkbox\" ><label for=\"sk-estimator-id-33\" class=\"sk-toggleable__label sk-toggleable__label-arrow\">passthrough</label><div class=\"sk-toggleable__content\"><pre>passthrough</pre></div></div></div></div></div></div></div></div><div class=\"sk-item\"><div class=\"sk-estimator sk-toggleable\"><input class=\"sk-toggleable__control sk-hidden--visually\" id=\"sk-estimator-id-34\" type=\"checkbox\" ><label for=\"sk-estimator-id-34\" class=\"sk-toggleable__label sk-toggleable__label-arrow\">RandomForestRegressor</label><div class=\"sk-toggleable__content\"><pre>RandomForestRegressor()</pre></div></div></div></div></div></div></div></div></div></div></div></div>"
      ],
      "text/plain": [
       "GridSearchCV(cv=KFold(n_splits=10, random_state=42, shuffle=True),\n",
       "             estimator=Pipeline(steps=[('preprocessor',\n",
       "                                        ColumnTransformer(remainder='passthrough',\n",
       "                                                          transformers=[('num',\n",
       "                                                                         StandardScaler(),\n",
       "                                                                         ['bedRoom',\n",
       "                                                                          'bathroom',\n",
       "                                                                          'built_up_area',\n",
       "                                                                          'servant '\n",
       "                                                                          'room',\n",
       "                                                                          'store '\n",
       "                                                                          'room']),\n",
       "                                                                        ('cat',\n",
       "                                                                         OrdinalEncoder(),\n",
       "                                                                         ['property_type',\n",
       "                                                                          'sector',\n",
       "                                                                          'balcony',\n",
       "                                                                          'agePossession',\n",
       "                                                                          'furnishing_type',...\n",
       "                                                                         OneHotEncoder(drop='first',\n",
       "                                                                                       sparse_output=False),\n",
       "                                                                         ['agePossession']),\n",
       "                                                                        ('target_enc',\n",
       "                                                                         TargetEncoder(),\n",
       "                                                                         ['sector'])])),\n",
       "                                       ('regressor', RandomForestRegressor())]),\n",
       "             n_jobs=-1,\n",
       "             param_grid={'regressor__max_depth': [None, 10, 20, 30],\n",
       "                         'regressor__max_features': ['auto', 'sqrt'],\n",
       "                         'regressor__max_samples': [0.1, 0.25, 0.5, 1.0],\n",
       "                         'regressor__n_estimators': [50, 100, 200, 300]},\n",
       "             scoring='r2', verbose=4)"
      ]
     },
     "execution_count": 68,
     "metadata": {},
     "output_type": "execute_result"
    }
   ],
   "source": [
    "search.fit(X, y_transformed)"
   ]
  },
  {
   "cell_type": "markdown",
   "id": "2e5f007f",
   "metadata": {},
   "source": [
    "     - can try with more number of parameters to try out"
   ]
  },
  {
   "cell_type": "code",
   "execution_count": 69,
   "id": "c1e6178b",
   "metadata": {},
   "outputs": [],
   "source": [
    "final_pipe = search.best_estimator_"
   ]
  },
  {
   "cell_type": "code",
   "execution_count": 70,
   "id": "76ec1ebc",
   "metadata": {},
   "outputs": [
    {
     "data": {
      "text/plain": [
       "{'regressor__max_depth': 30,\n",
       " 'regressor__max_features': 'sqrt',\n",
       " 'regressor__max_samples': 1.0,\n",
       " 'regressor__n_estimators': 300}"
      ]
     },
     "execution_count": 70,
     "metadata": {},
     "output_type": "execute_result"
    }
   ],
   "source": [
    "search.best_params_"
   ]
  },
  {
   "cell_type": "code",
   "execution_count": 71,
   "id": "95dfccee",
   "metadata": {},
   "outputs": [
    {
     "data": {
      "text/plain": [
       "0.9026024502990089"
      ]
     },
     "execution_count": 71,
     "metadata": {},
     "output_type": "execute_result"
    }
   ],
   "source": [
    "search.best_score_"
   ]
  },
  {
   "cell_type": "code",
   "execution_count": 72,
   "id": "6144c01d",
   "metadata": {},
   "outputs": [
    {
     "data": {
      "text/html": [
       "<style>#sk-container-id-4 {color: black;}#sk-container-id-4 pre{padding: 0;}#sk-container-id-4 div.sk-toggleable {background-color: white;}#sk-container-id-4 label.sk-toggleable__label {cursor: pointer;display: block;width: 100%;margin-bottom: 0;padding: 0.3em;box-sizing: border-box;text-align: center;}#sk-container-id-4 label.sk-toggleable__label-arrow:before {content: \"▸\";float: left;margin-right: 0.25em;color: #696969;}#sk-container-id-4 label.sk-toggleable__label-arrow:hover:before {color: black;}#sk-container-id-4 div.sk-estimator:hover label.sk-toggleable__label-arrow:before {color: black;}#sk-container-id-4 div.sk-toggleable__content {max-height: 0;max-width: 0;overflow: hidden;text-align: left;background-color: #f0f8ff;}#sk-container-id-4 div.sk-toggleable__content pre {margin: 0.2em;color: black;border-radius: 0.25em;background-color: #f0f8ff;}#sk-container-id-4 input.sk-toggleable__control:checked~div.sk-toggleable__content {max-height: 200px;max-width: 100%;overflow: auto;}#sk-container-id-4 input.sk-toggleable__control:checked~label.sk-toggleable__label-arrow:before {content: \"▾\";}#sk-container-id-4 div.sk-estimator input.sk-toggleable__control:checked~label.sk-toggleable__label {background-color: #d4ebff;}#sk-container-id-4 div.sk-label input.sk-toggleable__control:checked~label.sk-toggleable__label {background-color: #d4ebff;}#sk-container-id-4 input.sk-hidden--visually {border: 0;clip: rect(1px 1px 1px 1px);clip: rect(1px, 1px, 1px, 1px);height: 1px;margin: -1px;overflow: hidden;padding: 0;position: absolute;width: 1px;}#sk-container-id-4 div.sk-estimator {font-family: monospace;background-color: #f0f8ff;border: 1px dotted black;border-radius: 0.25em;box-sizing: border-box;margin-bottom: 0.5em;}#sk-container-id-4 div.sk-estimator:hover {background-color: #d4ebff;}#sk-container-id-4 div.sk-parallel-item::after {content: \"\";width: 100%;border-bottom: 1px solid gray;flex-grow: 1;}#sk-container-id-4 div.sk-label:hover label.sk-toggleable__label {background-color: #d4ebff;}#sk-container-id-4 div.sk-serial::before {content: \"\";position: absolute;border-left: 1px solid gray;box-sizing: border-box;top: 0;bottom: 0;left: 50%;z-index: 0;}#sk-container-id-4 div.sk-serial {display: flex;flex-direction: column;align-items: center;background-color: white;padding-right: 0.2em;padding-left: 0.2em;position: relative;}#sk-container-id-4 div.sk-item {position: relative;z-index: 1;}#sk-container-id-4 div.sk-parallel {display: flex;align-items: stretch;justify-content: center;background-color: white;position: relative;}#sk-container-id-4 div.sk-item::before, #sk-container-id-4 div.sk-parallel-item::before {content: \"\";position: absolute;border-left: 1px solid gray;box-sizing: border-box;top: 0;bottom: 0;left: 50%;z-index: -1;}#sk-container-id-4 div.sk-parallel-item {display: flex;flex-direction: column;z-index: 1;position: relative;background-color: white;}#sk-container-id-4 div.sk-parallel-item:first-child::after {align-self: flex-end;width: 50%;}#sk-container-id-4 div.sk-parallel-item:last-child::after {align-self: flex-start;width: 50%;}#sk-container-id-4 div.sk-parallel-item:only-child::after {width: 0;}#sk-container-id-4 div.sk-dashed-wrapped {border: 1px dashed gray;margin: 0 0.4em 0.5em 0.4em;box-sizing: border-box;padding-bottom: 0.4em;background-color: white;}#sk-container-id-4 div.sk-label label {font-family: monospace;font-weight: bold;display: inline-block;line-height: 1.2em;}#sk-container-id-4 div.sk-label-container {text-align: center;}#sk-container-id-4 div.sk-container {/* jupyter's `normalize.less` sets `[hidden] { display: none; }` but bootstrap.min.css set `[hidden] { display: none !important; }` so we also need the `!important` here to be able to override the default hidden behavior on the sphinx rendered scikit-learn.org. See: https://github.com/scikit-learn/scikit-learn/issues/21755 */display: inline-block !important;position: relative;}#sk-container-id-4 div.sk-text-repr-fallback {display: none;}</style><div id=\"sk-container-id-4\" class=\"sk-top-container\"><div class=\"sk-text-repr-fallback\"><pre>Pipeline(steps=[(&#x27;preprocessor&#x27;,\n",
       "                 ColumnTransformer(remainder=&#x27;passthrough&#x27;,\n",
       "                                   transformers=[(&#x27;num&#x27;, StandardScaler(),\n",
       "                                                  [&#x27;bedRoom&#x27;, &#x27;bathroom&#x27;,\n",
       "                                                   &#x27;built_up_area&#x27;,\n",
       "                                                   &#x27;servant room&#x27;,\n",
       "                                                   &#x27;store room&#x27;]),\n",
       "                                                 (&#x27;cat&#x27;, OrdinalEncoder(),\n",
       "                                                  [&#x27;property_type&#x27;, &#x27;sector&#x27;,\n",
       "                                                   &#x27;balcony&#x27;, &#x27;agePossession&#x27;,\n",
       "                                                   &#x27;furnishing_type&#x27;,\n",
       "                                                   &#x27;luxury_category&#x27;,\n",
       "                                                   &#x27;floor_category&#x27;]),\n",
       "                                                 (&#x27;cat1&#x27;,\n",
       "                                                  OneHotEncoder(drop=&#x27;first&#x27;,\n",
       "                                                                sparse_output=False),\n",
       "                                                  [&#x27;agePossession&#x27;]),\n",
       "                                                 (&#x27;target_enc&#x27;, TargetEncoder(),\n",
       "                                                  [&#x27;sector&#x27;])])),\n",
       "                (&#x27;regressor&#x27;,\n",
       "                 RandomForestRegressor(max_depth=30, max_features=&#x27;sqrt&#x27;,\n",
       "                                       max_samples=1.0, n_estimators=300))])</pre><b>In a Jupyter environment, please rerun this cell to show the HTML representation or trust the notebook. <br />On GitHub, the HTML representation is unable to render, please try loading this page with nbviewer.org.</b></div><div class=\"sk-container\" hidden><div class=\"sk-item sk-dashed-wrapped\"><div class=\"sk-label-container\"><div class=\"sk-label sk-toggleable\"><input class=\"sk-toggleable__control sk-hidden--visually\" id=\"sk-estimator-id-35\" type=\"checkbox\" ><label for=\"sk-estimator-id-35\" class=\"sk-toggleable__label sk-toggleable__label-arrow\">Pipeline</label><div class=\"sk-toggleable__content\"><pre>Pipeline(steps=[(&#x27;preprocessor&#x27;,\n",
       "                 ColumnTransformer(remainder=&#x27;passthrough&#x27;,\n",
       "                                   transformers=[(&#x27;num&#x27;, StandardScaler(),\n",
       "                                                  [&#x27;bedRoom&#x27;, &#x27;bathroom&#x27;,\n",
       "                                                   &#x27;built_up_area&#x27;,\n",
       "                                                   &#x27;servant room&#x27;,\n",
       "                                                   &#x27;store room&#x27;]),\n",
       "                                                 (&#x27;cat&#x27;, OrdinalEncoder(),\n",
       "                                                  [&#x27;property_type&#x27;, &#x27;sector&#x27;,\n",
       "                                                   &#x27;balcony&#x27;, &#x27;agePossession&#x27;,\n",
       "                                                   &#x27;furnishing_type&#x27;,\n",
       "                                                   &#x27;luxury_category&#x27;,\n",
       "                                                   &#x27;floor_category&#x27;]),\n",
       "                                                 (&#x27;cat1&#x27;,\n",
       "                                                  OneHotEncoder(drop=&#x27;first&#x27;,\n",
       "                                                                sparse_output=False),\n",
       "                                                  [&#x27;agePossession&#x27;]),\n",
       "                                                 (&#x27;target_enc&#x27;, TargetEncoder(),\n",
       "                                                  [&#x27;sector&#x27;])])),\n",
       "                (&#x27;regressor&#x27;,\n",
       "                 RandomForestRegressor(max_depth=30, max_features=&#x27;sqrt&#x27;,\n",
       "                                       max_samples=1.0, n_estimators=300))])</pre></div></div></div><div class=\"sk-serial\"><div class=\"sk-item sk-dashed-wrapped\"><div class=\"sk-label-container\"><div class=\"sk-label sk-toggleable\"><input class=\"sk-toggleable__control sk-hidden--visually\" id=\"sk-estimator-id-36\" type=\"checkbox\" ><label for=\"sk-estimator-id-36\" class=\"sk-toggleable__label sk-toggleable__label-arrow\">preprocessor: ColumnTransformer</label><div class=\"sk-toggleable__content\"><pre>ColumnTransformer(remainder=&#x27;passthrough&#x27;,\n",
       "                  transformers=[(&#x27;num&#x27;, StandardScaler(),\n",
       "                                 [&#x27;bedRoom&#x27;, &#x27;bathroom&#x27;, &#x27;built_up_area&#x27;,\n",
       "                                  &#x27;servant room&#x27;, &#x27;store room&#x27;]),\n",
       "                                (&#x27;cat&#x27;, OrdinalEncoder(),\n",
       "                                 [&#x27;property_type&#x27;, &#x27;sector&#x27;, &#x27;balcony&#x27;,\n",
       "                                  &#x27;agePossession&#x27;, &#x27;furnishing_type&#x27;,\n",
       "                                  &#x27;luxury_category&#x27;, &#x27;floor_category&#x27;]),\n",
       "                                (&#x27;cat1&#x27;,\n",
       "                                 OneHotEncoder(drop=&#x27;first&#x27;,\n",
       "                                               sparse_output=False),\n",
       "                                 [&#x27;agePossession&#x27;]),\n",
       "                                (&#x27;target_enc&#x27;, TargetEncoder(), [&#x27;sector&#x27;])])</pre></div></div></div><div class=\"sk-parallel\"><div class=\"sk-parallel-item\"><div class=\"sk-item\"><div class=\"sk-label-container\"><div class=\"sk-label sk-toggleable\"><input class=\"sk-toggleable__control sk-hidden--visually\" id=\"sk-estimator-id-37\" type=\"checkbox\" ><label for=\"sk-estimator-id-37\" class=\"sk-toggleable__label sk-toggleable__label-arrow\">num</label><div class=\"sk-toggleable__content\"><pre>[&#x27;bedRoom&#x27;, &#x27;bathroom&#x27;, &#x27;built_up_area&#x27;, &#x27;servant room&#x27;, &#x27;store room&#x27;]</pre></div></div></div><div class=\"sk-serial\"><div class=\"sk-item\"><div class=\"sk-estimator sk-toggleable\"><input class=\"sk-toggleable__control sk-hidden--visually\" id=\"sk-estimator-id-38\" type=\"checkbox\" ><label for=\"sk-estimator-id-38\" class=\"sk-toggleable__label sk-toggleable__label-arrow\">StandardScaler</label><div class=\"sk-toggleable__content\"><pre>StandardScaler()</pre></div></div></div></div></div></div><div class=\"sk-parallel-item\"><div class=\"sk-item\"><div class=\"sk-label-container\"><div class=\"sk-label sk-toggleable\"><input class=\"sk-toggleable__control sk-hidden--visually\" id=\"sk-estimator-id-39\" type=\"checkbox\" ><label for=\"sk-estimator-id-39\" class=\"sk-toggleable__label sk-toggleable__label-arrow\">cat</label><div class=\"sk-toggleable__content\"><pre>[&#x27;property_type&#x27;, &#x27;sector&#x27;, &#x27;balcony&#x27;, &#x27;agePossession&#x27;, &#x27;furnishing_type&#x27;, &#x27;luxury_category&#x27;, &#x27;floor_category&#x27;]</pre></div></div></div><div class=\"sk-serial\"><div class=\"sk-item\"><div class=\"sk-estimator sk-toggleable\"><input class=\"sk-toggleable__control sk-hidden--visually\" id=\"sk-estimator-id-40\" type=\"checkbox\" ><label for=\"sk-estimator-id-40\" class=\"sk-toggleable__label sk-toggleable__label-arrow\">OrdinalEncoder</label><div class=\"sk-toggleable__content\"><pre>OrdinalEncoder()</pre></div></div></div></div></div></div><div class=\"sk-parallel-item\"><div class=\"sk-item\"><div class=\"sk-label-container\"><div class=\"sk-label sk-toggleable\"><input class=\"sk-toggleable__control sk-hidden--visually\" id=\"sk-estimator-id-41\" type=\"checkbox\" ><label for=\"sk-estimator-id-41\" class=\"sk-toggleable__label sk-toggleable__label-arrow\">cat1</label><div class=\"sk-toggleable__content\"><pre>[&#x27;agePossession&#x27;]</pre></div></div></div><div class=\"sk-serial\"><div class=\"sk-item\"><div class=\"sk-estimator sk-toggleable\"><input class=\"sk-toggleable__control sk-hidden--visually\" id=\"sk-estimator-id-42\" type=\"checkbox\" ><label for=\"sk-estimator-id-42\" class=\"sk-toggleable__label sk-toggleable__label-arrow\">OneHotEncoder</label><div class=\"sk-toggleable__content\"><pre>OneHotEncoder(drop=&#x27;first&#x27;, sparse_output=False)</pre></div></div></div></div></div></div><div class=\"sk-parallel-item\"><div class=\"sk-item\"><div class=\"sk-label-container\"><div class=\"sk-label sk-toggleable\"><input class=\"sk-toggleable__control sk-hidden--visually\" id=\"sk-estimator-id-43\" type=\"checkbox\" ><label for=\"sk-estimator-id-43\" class=\"sk-toggleable__label sk-toggleable__label-arrow\">target_enc</label><div class=\"sk-toggleable__content\"><pre>[&#x27;sector&#x27;]</pre></div></div></div><div class=\"sk-serial\"><div class=\"sk-item\"><div class=\"sk-estimator sk-toggleable\"><input class=\"sk-toggleable__control sk-hidden--visually\" id=\"sk-estimator-id-44\" type=\"checkbox\" ><label for=\"sk-estimator-id-44\" class=\"sk-toggleable__label sk-toggleable__label-arrow\">TargetEncoder</label><div class=\"sk-toggleable__content\"><pre>TargetEncoder()</pre></div></div></div></div></div></div><div class=\"sk-parallel-item\"><div class=\"sk-item\"><div class=\"sk-label-container\"><div class=\"sk-label sk-toggleable\"><input class=\"sk-toggleable__control sk-hidden--visually\" id=\"sk-estimator-id-45\" type=\"checkbox\" ><label for=\"sk-estimator-id-45\" class=\"sk-toggleable__label sk-toggleable__label-arrow\">remainder</label><div class=\"sk-toggleable__content\"><pre>[]</pre></div></div></div><div class=\"sk-serial\"><div class=\"sk-item\"><div class=\"sk-estimator sk-toggleable\"><input class=\"sk-toggleable__control sk-hidden--visually\" id=\"sk-estimator-id-46\" type=\"checkbox\" ><label for=\"sk-estimator-id-46\" class=\"sk-toggleable__label sk-toggleable__label-arrow\">passthrough</label><div class=\"sk-toggleable__content\"><pre>passthrough</pre></div></div></div></div></div></div></div></div><div class=\"sk-item\"><div class=\"sk-estimator sk-toggleable\"><input class=\"sk-toggleable__control sk-hidden--visually\" id=\"sk-estimator-id-47\" type=\"checkbox\" ><label for=\"sk-estimator-id-47\" class=\"sk-toggleable__label sk-toggleable__label-arrow\">RandomForestRegressor</label><div class=\"sk-toggleable__content\"><pre>RandomForestRegressor(max_depth=30, max_features=&#x27;sqrt&#x27;, max_samples=1.0,\n",
       "                      n_estimators=300)</pre></div></div></div></div></div></div></div>"
      ],
      "text/plain": [
       "Pipeline(steps=[('preprocessor',\n",
       "                 ColumnTransformer(remainder='passthrough',\n",
       "                                   transformers=[('num', StandardScaler(),\n",
       "                                                  ['bedRoom', 'bathroom',\n",
       "                                                   'built_up_area',\n",
       "                                                   'servant room',\n",
       "                                                   'store room']),\n",
       "                                                 ('cat', OrdinalEncoder(),\n",
       "                                                  ['property_type', 'sector',\n",
       "                                                   'balcony', 'agePossession',\n",
       "                                                   'furnishing_type',\n",
       "                                                   'luxury_category',\n",
       "                                                   'floor_category']),\n",
       "                                                 ('cat1',\n",
       "                                                  OneHotEncoder(drop='first',\n",
       "                                                                sparse_output=False),\n",
       "                                                  ['agePossession']),\n",
       "                                                 ('target_enc', TargetEncoder(),\n",
       "                                                  ['sector'])])),\n",
       "                ('regressor',\n",
       "                 RandomForestRegressor(max_depth=30, max_features='sqrt',\n",
       "                                       max_samples=1.0, n_estimators=300))])"
      ]
     },
     "execution_count": 72,
     "metadata": {},
     "output_type": "execute_result"
    }
   ],
   "source": [
    "final_pipe.fit(X,y_transformed)"
   ]
  },
  {
   "cell_type": "markdown",
   "id": "fbf98781",
   "metadata": {},
   "source": [
    "### Exporting the model\n",
    "    - Exporting the random forest pipeline to use it further"
   ]
  },
  {
   "cell_type": "code",
   "execution_count": 73,
   "id": "042d9738",
   "metadata": {},
   "outputs": [],
   "source": [
    "preprocessor = ColumnTransformer(\n",
    "    transformers=[\n",
    "        ('num', StandardScaler(), ['bedRoom', 'bathroom', 'built_up_area', 'servant room', 'store room']),\n",
    "        ('cat', OrdinalEncoder(), columns_to_encode),\n",
    "        ('cat1',OneHotEncoder(drop='first',sparse_output=False),['sector','agePossession'])\n",
    "    ], \n",
    "    remainder='passthrough'\n",
    ")"
   ]
  },
  {
   "cell_type": "code",
   "execution_count": 74,
   "id": "c4b5c7cd",
   "metadata": {},
   "outputs": [],
   "source": [
    "pipeline = Pipeline([\n",
    "    ('preprocessor', preprocessor),\n",
    "    ('regressor', RandomForestRegressor(n_estimators=500))\n",
    "])"
   ]
  },
  {
   "cell_type": "code",
   "execution_count": 75,
   "id": "b19d656f",
   "metadata": {},
   "outputs": [
    {
     "data": {
      "text/html": [
       "<style>#sk-container-id-5 {color: black;}#sk-container-id-5 pre{padding: 0;}#sk-container-id-5 div.sk-toggleable {background-color: white;}#sk-container-id-5 label.sk-toggleable__label {cursor: pointer;display: block;width: 100%;margin-bottom: 0;padding: 0.3em;box-sizing: border-box;text-align: center;}#sk-container-id-5 label.sk-toggleable__label-arrow:before {content: \"▸\";float: left;margin-right: 0.25em;color: #696969;}#sk-container-id-5 label.sk-toggleable__label-arrow:hover:before {color: black;}#sk-container-id-5 div.sk-estimator:hover label.sk-toggleable__label-arrow:before {color: black;}#sk-container-id-5 div.sk-toggleable__content {max-height: 0;max-width: 0;overflow: hidden;text-align: left;background-color: #f0f8ff;}#sk-container-id-5 div.sk-toggleable__content pre {margin: 0.2em;color: black;border-radius: 0.25em;background-color: #f0f8ff;}#sk-container-id-5 input.sk-toggleable__control:checked~div.sk-toggleable__content {max-height: 200px;max-width: 100%;overflow: auto;}#sk-container-id-5 input.sk-toggleable__control:checked~label.sk-toggleable__label-arrow:before {content: \"▾\";}#sk-container-id-5 div.sk-estimator input.sk-toggleable__control:checked~label.sk-toggleable__label {background-color: #d4ebff;}#sk-container-id-5 div.sk-label input.sk-toggleable__control:checked~label.sk-toggleable__label {background-color: #d4ebff;}#sk-container-id-5 input.sk-hidden--visually {border: 0;clip: rect(1px 1px 1px 1px);clip: rect(1px, 1px, 1px, 1px);height: 1px;margin: -1px;overflow: hidden;padding: 0;position: absolute;width: 1px;}#sk-container-id-5 div.sk-estimator {font-family: monospace;background-color: #f0f8ff;border: 1px dotted black;border-radius: 0.25em;box-sizing: border-box;margin-bottom: 0.5em;}#sk-container-id-5 div.sk-estimator:hover {background-color: #d4ebff;}#sk-container-id-5 div.sk-parallel-item::after {content: \"\";width: 100%;border-bottom: 1px solid gray;flex-grow: 1;}#sk-container-id-5 div.sk-label:hover label.sk-toggleable__label {background-color: #d4ebff;}#sk-container-id-5 div.sk-serial::before {content: \"\";position: absolute;border-left: 1px solid gray;box-sizing: border-box;top: 0;bottom: 0;left: 50%;z-index: 0;}#sk-container-id-5 div.sk-serial {display: flex;flex-direction: column;align-items: center;background-color: white;padding-right: 0.2em;padding-left: 0.2em;position: relative;}#sk-container-id-5 div.sk-item {position: relative;z-index: 1;}#sk-container-id-5 div.sk-parallel {display: flex;align-items: stretch;justify-content: center;background-color: white;position: relative;}#sk-container-id-5 div.sk-item::before, #sk-container-id-5 div.sk-parallel-item::before {content: \"\";position: absolute;border-left: 1px solid gray;box-sizing: border-box;top: 0;bottom: 0;left: 50%;z-index: -1;}#sk-container-id-5 div.sk-parallel-item {display: flex;flex-direction: column;z-index: 1;position: relative;background-color: white;}#sk-container-id-5 div.sk-parallel-item:first-child::after {align-self: flex-end;width: 50%;}#sk-container-id-5 div.sk-parallel-item:last-child::after {align-self: flex-start;width: 50%;}#sk-container-id-5 div.sk-parallel-item:only-child::after {width: 0;}#sk-container-id-5 div.sk-dashed-wrapped {border: 1px dashed gray;margin: 0 0.4em 0.5em 0.4em;box-sizing: border-box;padding-bottom: 0.4em;background-color: white;}#sk-container-id-5 div.sk-label label {font-family: monospace;font-weight: bold;display: inline-block;line-height: 1.2em;}#sk-container-id-5 div.sk-label-container {text-align: center;}#sk-container-id-5 div.sk-container {/* jupyter's `normalize.less` sets `[hidden] { display: none; }` but bootstrap.min.css set `[hidden] { display: none !important; }` so we also need the `!important` here to be able to override the default hidden behavior on the sphinx rendered scikit-learn.org. See: https://github.com/scikit-learn/scikit-learn/issues/21755 */display: inline-block !important;position: relative;}#sk-container-id-5 div.sk-text-repr-fallback {display: none;}</style><div id=\"sk-container-id-5\" class=\"sk-top-container\"><div class=\"sk-text-repr-fallback\"><pre>Pipeline(steps=[(&#x27;preprocessor&#x27;,\n",
       "                 ColumnTransformer(remainder=&#x27;passthrough&#x27;,\n",
       "                                   transformers=[(&#x27;num&#x27;, StandardScaler(),\n",
       "                                                  [&#x27;bedRoom&#x27;, &#x27;bathroom&#x27;,\n",
       "                                                   &#x27;built_up_area&#x27;,\n",
       "                                                   &#x27;servant room&#x27;,\n",
       "                                                   &#x27;store room&#x27;]),\n",
       "                                                 (&#x27;cat&#x27;, OrdinalEncoder(),\n",
       "                                                  [&#x27;property_type&#x27;, &#x27;sector&#x27;,\n",
       "                                                   &#x27;balcony&#x27;, &#x27;agePossession&#x27;,\n",
       "                                                   &#x27;furnishing_type&#x27;,\n",
       "                                                   &#x27;luxury_category&#x27;,\n",
       "                                                   &#x27;floor_category&#x27;]),\n",
       "                                                 (&#x27;cat1&#x27;,\n",
       "                                                  OneHotEncoder(drop=&#x27;first&#x27;,\n",
       "                                                                sparse_output=False),\n",
       "                                                  [&#x27;sector&#x27;,\n",
       "                                                   &#x27;agePossession&#x27;])])),\n",
       "                (&#x27;regressor&#x27;, RandomForestRegressor(n_estimators=500))])</pre><b>In a Jupyter environment, please rerun this cell to show the HTML representation or trust the notebook. <br />On GitHub, the HTML representation is unable to render, please try loading this page with nbviewer.org.</b></div><div class=\"sk-container\" hidden><div class=\"sk-item sk-dashed-wrapped\"><div class=\"sk-label-container\"><div class=\"sk-label sk-toggleable\"><input class=\"sk-toggleable__control sk-hidden--visually\" id=\"sk-estimator-id-48\" type=\"checkbox\" ><label for=\"sk-estimator-id-48\" class=\"sk-toggleable__label sk-toggleable__label-arrow\">Pipeline</label><div class=\"sk-toggleable__content\"><pre>Pipeline(steps=[(&#x27;preprocessor&#x27;,\n",
       "                 ColumnTransformer(remainder=&#x27;passthrough&#x27;,\n",
       "                                   transformers=[(&#x27;num&#x27;, StandardScaler(),\n",
       "                                                  [&#x27;bedRoom&#x27;, &#x27;bathroom&#x27;,\n",
       "                                                   &#x27;built_up_area&#x27;,\n",
       "                                                   &#x27;servant room&#x27;,\n",
       "                                                   &#x27;store room&#x27;]),\n",
       "                                                 (&#x27;cat&#x27;, OrdinalEncoder(),\n",
       "                                                  [&#x27;property_type&#x27;, &#x27;sector&#x27;,\n",
       "                                                   &#x27;balcony&#x27;, &#x27;agePossession&#x27;,\n",
       "                                                   &#x27;furnishing_type&#x27;,\n",
       "                                                   &#x27;luxury_category&#x27;,\n",
       "                                                   &#x27;floor_category&#x27;]),\n",
       "                                                 (&#x27;cat1&#x27;,\n",
       "                                                  OneHotEncoder(drop=&#x27;first&#x27;,\n",
       "                                                                sparse_output=False),\n",
       "                                                  [&#x27;sector&#x27;,\n",
       "                                                   &#x27;agePossession&#x27;])])),\n",
       "                (&#x27;regressor&#x27;, RandomForestRegressor(n_estimators=500))])</pre></div></div></div><div class=\"sk-serial\"><div class=\"sk-item sk-dashed-wrapped\"><div class=\"sk-label-container\"><div class=\"sk-label sk-toggleable\"><input class=\"sk-toggleable__control sk-hidden--visually\" id=\"sk-estimator-id-49\" type=\"checkbox\" ><label for=\"sk-estimator-id-49\" class=\"sk-toggleable__label sk-toggleable__label-arrow\">preprocessor: ColumnTransformer</label><div class=\"sk-toggleable__content\"><pre>ColumnTransformer(remainder=&#x27;passthrough&#x27;,\n",
       "                  transformers=[(&#x27;num&#x27;, StandardScaler(),\n",
       "                                 [&#x27;bedRoom&#x27;, &#x27;bathroom&#x27;, &#x27;built_up_area&#x27;,\n",
       "                                  &#x27;servant room&#x27;, &#x27;store room&#x27;]),\n",
       "                                (&#x27;cat&#x27;, OrdinalEncoder(),\n",
       "                                 [&#x27;property_type&#x27;, &#x27;sector&#x27;, &#x27;balcony&#x27;,\n",
       "                                  &#x27;agePossession&#x27;, &#x27;furnishing_type&#x27;,\n",
       "                                  &#x27;luxury_category&#x27;, &#x27;floor_category&#x27;]),\n",
       "                                (&#x27;cat1&#x27;,\n",
       "                                 OneHotEncoder(drop=&#x27;first&#x27;,\n",
       "                                               sparse_output=False),\n",
       "                                 [&#x27;sector&#x27;, &#x27;agePossession&#x27;])])</pre></div></div></div><div class=\"sk-parallel\"><div class=\"sk-parallel-item\"><div class=\"sk-item\"><div class=\"sk-label-container\"><div class=\"sk-label sk-toggleable\"><input class=\"sk-toggleable__control sk-hidden--visually\" id=\"sk-estimator-id-50\" type=\"checkbox\" ><label for=\"sk-estimator-id-50\" class=\"sk-toggleable__label sk-toggleable__label-arrow\">num</label><div class=\"sk-toggleable__content\"><pre>[&#x27;bedRoom&#x27;, &#x27;bathroom&#x27;, &#x27;built_up_area&#x27;, &#x27;servant room&#x27;, &#x27;store room&#x27;]</pre></div></div></div><div class=\"sk-serial\"><div class=\"sk-item\"><div class=\"sk-estimator sk-toggleable\"><input class=\"sk-toggleable__control sk-hidden--visually\" id=\"sk-estimator-id-51\" type=\"checkbox\" ><label for=\"sk-estimator-id-51\" class=\"sk-toggleable__label sk-toggleable__label-arrow\">StandardScaler</label><div class=\"sk-toggleable__content\"><pre>StandardScaler()</pre></div></div></div></div></div></div><div class=\"sk-parallel-item\"><div class=\"sk-item\"><div class=\"sk-label-container\"><div class=\"sk-label sk-toggleable\"><input class=\"sk-toggleable__control sk-hidden--visually\" id=\"sk-estimator-id-52\" type=\"checkbox\" ><label for=\"sk-estimator-id-52\" class=\"sk-toggleable__label sk-toggleable__label-arrow\">cat</label><div class=\"sk-toggleable__content\"><pre>[&#x27;property_type&#x27;, &#x27;sector&#x27;, &#x27;balcony&#x27;, &#x27;agePossession&#x27;, &#x27;furnishing_type&#x27;, &#x27;luxury_category&#x27;, &#x27;floor_category&#x27;]</pre></div></div></div><div class=\"sk-serial\"><div class=\"sk-item\"><div class=\"sk-estimator sk-toggleable\"><input class=\"sk-toggleable__control sk-hidden--visually\" id=\"sk-estimator-id-53\" type=\"checkbox\" ><label for=\"sk-estimator-id-53\" class=\"sk-toggleable__label sk-toggleable__label-arrow\">OrdinalEncoder</label><div class=\"sk-toggleable__content\"><pre>OrdinalEncoder()</pre></div></div></div></div></div></div><div class=\"sk-parallel-item\"><div class=\"sk-item\"><div class=\"sk-label-container\"><div class=\"sk-label sk-toggleable\"><input class=\"sk-toggleable__control sk-hidden--visually\" id=\"sk-estimator-id-54\" type=\"checkbox\" ><label for=\"sk-estimator-id-54\" class=\"sk-toggleable__label sk-toggleable__label-arrow\">cat1</label><div class=\"sk-toggleable__content\"><pre>[&#x27;sector&#x27;, &#x27;agePossession&#x27;]</pre></div></div></div><div class=\"sk-serial\"><div class=\"sk-item\"><div class=\"sk-estimator sk-toggleable\"><input class=\"sk-toggleable__control sk-hidden--visually\" id=\"sk-estimator-id-55\" type=\"checkbox\" ><label for=\"sk-estimator-id-55\" class=\"sk-toggleable__label sk-toggleable__label-arrow\">OneHotEncoder</label><div class=\"sk-toggleable__content\"><pre>OneHotEncoder(drop=&#x27;first&#x27;, sparse_output=False)</pre></div></div></div></div></div></div><div class=\"sk-parallel-item\"><div class=\"sk-item\"><div class=\"sk-label-container\"><div class=\"sk-label sk-toggleable\"><input class=\"sk-toggleable__control sk-hidden--visually\" id=\"sk-estimator-id-56\" type=\"checkbox\" ><label for=\"sk-estimator-id-56\" class=\"sk-toggleable__label sk-toggleable__label-arrow\">remainder</label><div class=\"sk-toggleable__content\"><pre>[]</pre></div></div></div><div class=\"sk-serial\"><div class=\"sk-item\"><div class=\"sk-estimator sk-toggleable\"><input class=\"sk-toggleable__control sk-hidden--visually\" id=\"sk-estimator-id-57\" type=\"checkbox\" ><label for=\"sk-estimator-id-57\" class=\"sk-toggleable__label sk-toggleable__label-arrow\">passthrough</label><div class=\"sk-toggleable__content\"><pre>passthrough</pre></div></div></div></div></div></div></div></div><div class=\"sk-item\"><div class=\"sk-estimator sk-toggleable\"><input class=\"sk-toggleable__control sk-hidden--visually\" id=\"sk-estimator-id-58\" type=\"checkbox\" ><label for=\"sk-estimator-id-58\" class=\"sk-toggleable__label sk-toggleable__label-arrow\">RandomForestRegressor</label><div class=\"sk-toggleable__content\"><pre>RandomForestRegressor(n_estimators=500)</pre></div></div></div></div></div></div></div>"
      ],
      "text/plain": [
       "Pipeline(steps=[('preprocessor',\n",
       "                 ColumnTransformer(remainder='passthrough',\n",
       "                                   transformers=[('num', StandardScaler(),\n",
       "                                                  ['bedRoom', 'bathroom',\n",
       "                                                   'built_up_area',\n",
       "                                                   'servant room',\n",
       "                                                   'store room']),\n",
       "                                                 ('cat', OrdinalEncoder(),\n",
       "                                                  ['property_type', 'sector',\n",
       "                                                   'balcony', 'agePossession',\n",
       "                                                   'furnishing_type',\n",
       "                                                   'luxury_category',\n",
       "                                                   'floor_category']),\n",
       "                                                 ('cat1',\n",
       "                                                  OneHotEncoder(drop='first',\n",
       "                                                                sparse_output=False),\n",
       "                                                  ['sector',\n",
       "                                                   'agePossession'])])),\n",
       "                ('regressor', RandomForestRegressor(n_estimators=500))])"
      ]
     },
     "execution_count": 75,
     "metadata": {},
     "output_type": "execute_result"
    }
   ],
   "source": [
    "pipeline.fit(X,y_transformed)"
   ]
  },
  {
   "cell_type": "code",
   "execution_count": 76,
   "id": "1de3fdae",
   "metadata": {},
   "outputs": [],
   "source": [
    "import pickle\n",
    "\n",
    "with open('pipeline.pkl', 'wb') as file:\n",
    "    pickle.dump(pipeline, file)"
   ]
  },
  {
   "cell_type": "code",
   "execution_count": 77,
   "id": "9eacedc3",
   "metadata": {},
   "outputs": [],
   "source": [
    "with open('df.pkl', 'wb') as file:\n",
    "    pickle.dump(X, file)"
   ]
  },
  {
   "cell_type": "code",
   "execution_count": 78,
   "id": "d4d4ad2f",
   "metadata": {},
   "outputs": [
    {
     "data": {
      "text/html": [
       "<div>\n",
       "<style scoped>\n",
       "    .dataframe tbody tr th:only-of-type {\n",
       "        vertical-align: middle;\n",
       "    }\n",
       "\n",
       "    .dataframe tbody tr th {\n",
       "        vertical-align: top;\n",
       "    }\n",
       "\n",
       "    .dataframe thead th {\n",
       "        text-align: right;\n",
       "    }\n",
       "</style>\n",
       "<table border=\"1\" class=\"dataframe\">\n",
       "  <thead>\n",
       "    <tr style=\"text-align: right;\">\n",
       "      <th></th>\n",
       "      <th>property_type</th>\n",
       "      <th>sector</th>\n",
       "      <th>bedRoom</th>\n",
       "      <th>bathroom</th>\n",
       "      <th>balcony</th>\n",
       "      <th>agePossession</th>\n",
       "      <th>built_up_area</th>\n",
       "      <th>servant room</th>\n",
       "      <th>store room</th>\n",
       "      <th>furnishing_type</th>\n",
       "      <th>luxury_category</th>\n",
       "      <th>floor_category</th>\n",
       "    </tr>\n",
       "  </thead>\n",
       "  <tbody>\n",
       "    <tr>\n",
       "      <th>0</th>\n",
       "      <td>flat</td>\n",
       "      <td>sector 36</td>\n",
       "      <td>3.0</td>\n",
       "      <td>2.0</td>\n",
       "      <td>2</td>\n",
       "      <td>New Property</td>\n",
       "      <td>850.0</td>\n",
       "      <td>0.0</td>\n",
       "      <td>0.0</td>\n",
       "      <td>unfurnished</td>\n",
       "      <td>Low</td>\n",
       "      <td>Low Floor</td>\n",
       "    </tr>\n",
       "    <tr>\n",
       "      <th>1</th>\n",
       "      <td>flat</td>\n",
       "      <td>sector 89</td>\n",
       "      <td>2.0</td>\n",
       "      <td>2.0</td>\n",
       "      <td>2</td>\n",
       "      <td>New Property</td>\n",
       "      <td>1226.0</td>\n",
       "      <td>1.0</td>\n",
       "      <td>0.0</td>\n",
       "      <td>unfurnished</td>\n",
       "      <td>Low</td>\n",
       "      <td>Mid Floor</td>\n",
       "    </tr>\n",
       "    <tr>\n",
       "      <th>2</th>\n",
       "      <td>flat</td>\n",
       "      <td>sohna road</td>\n",
       "      <td>2.0</td>\n",
       "      <td>2.0</td>\n",
       "      <td>1</td>\n",
       "      <td>New Property</td>\n",
       "      <td>1000.0</td>\n",
       "      <td>0.0</td>\n",
       "      <td>0.0</td>\n",
       "      <td>unfurnished</td>\n",
       "      <td>Low</td>\n",
       "      <td>High Floor</td>\n",
       "    </tr>\n",
       "    <tr>\n",
       "      <th>3</th>\n",
       "      <td>flat</td>\n",
       "      <td>sector 92</td>\n",
       "      <td>3.0</td>\n",
       "      <td>4.0</td>\n",
       "      <td>3+</td>\n",
       "      <td>Relatively New</td>\n",
       "      <td>1615.0</td>\n",
       "      <td>1.0</td>\n",
       "      <td>0.0</td>\n",
       "      <td>semifurnished</td>\n",
       "      <td>High</td>\n",
       "      <td>Mid Floor</td>\n",
       "    </tr>\n",
       "    <tr>\n",
       "      <th>4</th>\n",
       "      <td>flat</td>\n",
       "      <td>sector 102</td>\n",
       "      <td>2.0</td>\n",
       "      <td>2.0</td>\n",
       "      <td>1</td>\n",
       "      <td>Relatively New</td>\n",
       "      <td>582.0</td>\n",
       "      <td>0.0</td>\n",
       "      <td>1.0</td>\n",
       "      <td>unfurnished</td>\n",
       "      <td>High</td>\n",
       "      <td>Mid Floor</td>\n",
       "    </tr>\n",
       "    <tr>\n",
       "      <th>...</th>\n",
       "      <td>...</td>\n",
       "      <td>...</td>\n",
       "      <td>...</td>\n",
       "      <td>...</td>\n",
       "      <td>...</td>\n",
       "      <td>...</td>\n",
       "      <td>...</td>\n",
       "      <td>...</td>\n",
       "      <td>...</td>\n",
       "      <td>...</td>\n",
       "      <td>...</td>\n",
       "      <td>...</td>\n",
       "    </tr>\n",
       "    <tr>\n",
       "      <th>3549</th>\n",
       "      <td>flat</td>\n",
       "      <td>sector 84</td>\n",
       "      <td>2.0</td>\n",
       "      <td>2.0</td>\n",
       "      <td>1</td>\n",
       "      <td>Relatively New</td>\n",
       "      <td>532.0</td>\n",
       "      <td>0.0</td>\n",
       "      <td>0.0</td>\n",
       "      <td>unfurnished</td>\n",
       "      <td>Medium</td>\n",
       "      <td>Mid Floor</td>\n",
       "    </tr>\n",
       "    <tr>\n",
       "      <th>3550</th>\n",
       "      <td>house</td>\n",
       "      <td>sector 109</td>\n",
       "      <td>5.0</td>\n",
       "      <td>5.0</td>\n",
       "      <td>3+</td>\n",
       "      <td>Relatively New</td>\n",
       "      <td>6228.0</td>\n",
       "      <td>1.0</td>\n",
       "      <td>1.0</td>\n",
       "      <td>unfurnished</td>\n",
       "      <td>High</td>\n",
       "      <td>Low Floor</td>\n",
       "    </tr>\n",
       "    <tr>\n",
       "      <th>3551</th>\n",
       "      <td>flat</td>\n",
       "      <td>sector 2</td>\n",
       "      <td>1.0</td>\n",
       "      <td>1.0</td>\n",
       "      <td>1</td>\n",
       "      <td>Moderately Old</td>\n",
       "      <td>665.0</td>\n",
       "      <td>0.0</td>\n",
       "      <td>0.0</td>\n",
       "      <td>semifurnished</td>\n",
       "      <td>Medium</td>\n",
       "      <td>Mid Floor</td>\n",
       "    </tr>\n",
       "    <tr>\n",
       "      <th>3552</th>\n",
       "      <td>house</td>\n",
       "      <td>sector 43</td>\n",
       "      <td>5.0</td>\n",
       "      <td>6.0</td>\n",
       "      <td>3</td>\n",
       "      <td>Moderately Old</td>\n",
       "      <td>5490.0</td>\n",
       "      <td>1.0</td>\n",
       "      <td>1.0</td>\n",
       "      <td>unfurnished</td>\n",
       "      <td>Medium</td>\n",
       "      <td>Mid Floor</td>\n",
       "    </tr>\n",
       "    <tr>\n",
       "      <th>3553</th>\n",
       "      <td>flat</td>\n",
       "      <td>sector 68</td>\n",
       "      <td>3.0</td>\n",
       "      <td>3.0</td>\n",
       "      <td>3+</td>\n",
       "      <td>Relatively New</td>\n",
       "      <td>1845.0</td>\n",
       "      <td>0.0</td>\n",
       "      <td>0.0</td>\n",
       "      <td>semifurnished</td>\n",
       "      <td>Medium</td>\n",
       "      <td>High Floor</td>\n",
       "    </tr>\n",
       "  </tbody>\n",
       "</table>\n",
       "<p>3554 rows × 12 columns</p>\n",
       "</div>"
      ],
      "text/plain": [
       "     property_type      sector  bedRoom  bathroom balcony   agePossession  \\\n",
       "0             flat   sector 36      3.0       2.0       2    New Property   \n",
       "1             flat   sector 89      2.0       2.0       2    New Property   \n",
       "2             flat  sohna road      2.0       2.0       1    New Property   \n",
       "3             flat   sector 92      3.0       4.0      3+  Relatively New   \n",
       "4             flat  sector 102      2.0       2.0       1  Relatively New   \n",
       "...            ...         ...      ...       ...     ...             ...   \n",
       "3549          flat   sector 84      2.0       2.0       1  Relatively New   \n",
       "3550         house  sector 109      5.0       5.0      3+  Relatively New   \n",
       "3551          flat    sector 2      1.0       1.0       1  Moderately Old   \n",
       "3552         house   sector 43      5.0       6.0       3  Moderately Old   \n",
       "3553          flat   sector 68      3.0       3.0      3+  Relatively New   \n",
       "\n",
       "      built_up_area  servant room  store room furnishing_type luxury_category  \\\n",
       "0             850.0           0.0         0.0     unfurnished             Low   \n",
       "1            1226.0           1.0         0.0     unfurnished             Low   \n",
       "2            1000.0           0.0         0.0     unfurnished             Low   \n",
       "3            1615.0           1.0         0.0   semifurnished            High   \n",
       "4             582.0           0.0         1.0     unfurnished            High   \n",
       "...             ...           ...         ...             ...             ...   \n",
       "3549          532.0           0.0         0.0     unfurnished          Medium   \n",
       "3550         6228.0           1.0         1.0     unfurnished            High   \n",
       "3551          665.0           0.0         0.0   semifurnished          Medium   \n",
       "3552         5490.0           1.0         1.0     unfurnished          Medium   \n",
       "3553         1845.0           0.0         0.0   semifurnished          Medium   \n",
       "\n",
       "     floor_category  \n",
       "0         Low Floor  \n",
       "1         Mid Floor  \n",
       "2        High Floor  \n",
       "3         Mid Floor  \n",
       "4         Mid Floor  \n",
       "...             ...  \n",
       "3549      Mid Floor  \n",
       "3550      Low Floor  \n",
       "3551      Mid Floor  \n",
       "3552      Mid Floor  \n",
       "3553     High Floor  \n",
       "\n",
       "[3554 rows x 12 columns]"
      ]
     },
     "execution_count": 78,
     "metadata": {},
     "output_type": "execute_result"
    }
   ],
   "source": [
    "X"
   ]
  },
  {
   "cell_type": "markdown",
   "id": "a627e25e",
   "metadata": {},
   "source": [
    "### Trying out the predictions"
   ]
  },
  {
   "cell_type": "code",
   "execution_count": 79,
   "id": "74524975",
   "metadata": {},
   "outputs": [
    {
     "data": {
      "text/plain": [
       "Index(['property_type', 'sector', 'bedRoom', 'bathroom', 'balcony',\n",
       "       'agePossession', 'built_up_area', 'servant room', 'store room',\n",
       "       'furnishing_type', 'luxury_category', 'floor_category'],\n",
       "      dtype='object')"
      ]
     },
     "execution_count": 79,
     "metadata": {},
     "output_type": "execute_result"
    }
   ],
   "source": [
    "X.columns"
   ]
  },
  {
   "cell_type": "code",
   "execution_count": 80,
   "id": "02c770d7",
   "metadata": {},
   "outputs": [
    {
     "data": {
      "text/plain": [
       "array(['flat', 'sector 36', 3.0, 2.0, '2', 'New Property', 850.0, 0.0,\n",
       "       0.0, 'unfurnished', 'Low', 'Low Floor'], dtype=object)"
      ]
     },
     "execution_count": 80,
     "metadata": {},
     "output_type": "execute_result"
    }
   ],
   "source": [
    "X.iloc[0].values"
   ]
  },
  {
   "cell_type": "code",
   "execution_count": 85,
   "id": "8562f722",
   "metadata": {},
   "outputs": [
    {
     "data": {
      "text/html": [
       "<div>\n",
       "<style scoped>\n",
       "    .dataframe tbody tr th:only-of-type {\n",
       "        vertical-align: middle;\n",
       "    }\n",
       "\n",
       "    .dataframe tbody tr th {\n",
       "        vertical-align: top;\n",
       "    }\n",
       "\n",
       "    .dataframe thead th {\n",
       "        text-align: right;\n",
       "    }\n",
       "</style>\n",
       "<table border=\"1\" class=\"dataframe\">\n",
       "  <thead>\n",
       "    <tr style=\"text-align: right;\">\n",
       "      <th></th>\n",
       "      <th>property_type</th>\n",
       "      <th>sector</th>\n",
       "      <th>bedRoom</th>\n",
       "      <th>bathroom</th>\n",
       "      <th>balcony</th>\n",
       "      <th>agePossession</th>\n",
       "      <th>built_up_area</th>\n",
       "      <th>servant room</th>\n",
       "      <th>store room</th>\n",
       "      <th>furnishing_type</th>\n",
       "      <th>luxury_category</th>\n",
       "      <th>floor_category</th>\n",
       "    </tr>\n",
       "  </thead>\n",
       "  <tbody>\n",
       "    <tr>\n",
       "      <th>0</th>\n",
       "      <td>house</td>\n",
       "      <td>sector 102</td>\n",
       "      <td>4</td>\n",
       "      <td>3</td>\n",
       "      <td>3+</td>\n",
       "      <td>New Property</td>\n",
       "      <td>1750</td>\n",
       "      <td>0</td>\n",
       "      <td>0</td>\n",
       "      <td>unfurnished</td>\n",
       "      <td>Low</td>\n",
       "      <td>Low Floor</td>\n",
       "    </tr>\n",
       "  </tbody>\n",
       "</table>\n",
       "</div>"
      ],
      "text/plain": [
       "  property_type      sector  bedRoom  bathroom balcony agePossession  \\\n",
       "0         house  sector 102        4         3      3+  New Property   \n",
       "\n",
       "   built_up_area  servant room  store room furnishing_type luxury_category  \\\n",
       "0           1750             0           0     unfurnished             Low   \n",
       "\n",
       "  floor_category  \n",
       "0      Low Floor  "
      ]
     },
     "execution_count": 85,
     "metadata": {},
     "output_type": "execute_result"
    }
   ],
   "source": [
    "data = [['house', 'sector 102', 4, 3, '3+', 'New Property', 1750, 0, 0, 'unfurnished', 'Low', 'Low Floor']]\n",
    "columns = ['property_type', 'sector', 'bedRoom', 'bathroom', 'balcony',\n",
    "       'agePossession', 'built_up_area', 'servant room', 'store room',\n",
    "       'furnishing_type', 'luxury_category', 'floor_category']\n",
    "\n",
    "# Convert to DataFrame\n",
    "one_df = pd.DataFrame(data, columns=columns)\n",
    "\n",
    "one_df # this df will be used with the pkl file to predict the price of the house\n"
   ]
  },
  {
   "cell_type": "code",
   "execution_count": 86,
   "id": "b51e7e8b",
   "metadata": {},
   "outputs": [
    {
     "data": {
      "text/plain": [
       "array([2.70105415])"
      ]
     },
     "execution_count": 86,
     "metadata": {},
     "output_type": "execute_result"
    }
   ],
   "source": [
    "np.expm1(pipeline.predict(one_df))"
   ]
  },
  {
   "cell_type": "markdown",
   "id": "0255d15a",
   "metadata": {},
   "source": [
    "    - Try out\n",
    "        - More data (3k)\n",
    "        - Xgboost -> hyperopt\n",
    "        - revisit the entire process\n",
    "        - to divide the error,we can give the price in a range"
   ]
  }
 ],
 "metadata": {
  "kernelspec": {
   "display_name": "Python 3 (ipykernel)",
   "language": "python",
   "name": "python3"
  },
  "language_info": {
   "codemirror_mode": {
    "name": "ipython",
    "version": 3
   },
   "file_extension": ".py",
   "mimetype": "text/x-python",
   "name": "python",
   "nbconvert_exporter": "python",
   "pygments_lexer": "ipython3",
   "version": "3.9.16"
  }
 },
 "nbformat": 4,
 "nbformat_minor": 5
}
