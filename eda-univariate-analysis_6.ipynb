{
 "cells": [
  {
   "cell_type": "code",
   "execution_count": 10,
   "metadata": {},
   "outputs": [],
   "source": [
    "import pandas as pd\n",
    "import numpy as np\n",
    "import matplotlib.pyplot as plt\n",
    "import seaborn as sns"
   ]
  },
  {
   "cell_type": "code",
   "execution_count": 11,
   "metadata": {},
   "outputs": [],
   "source": [
    "df = pd.read_csv('gurgaon_properties_cleaned_v2.csv')"
   ]
  },
  {
   "cell_type": "code",
   "execution_count": 12,
   "metadata": {},
   "outputs": [
    {
     "data": {
      "text/html": [
       "<div>\n",
       "<style scoped>\n",
       "    .dataframe tbody tr th:only-of-type {\n",
       "        vertical-align: middle;\n",
       "    }\n",
       "\n",
       "    .dataframe tbody tr th {\n",
       "        vertical-align: top;\n",
       "    }\n",
       "\n",
       "    .dataframe thead th {\n",
       "        text-align: right;\n",
       "    }\n",
       "</style>\n",
       "<table border=\"1\" class=\"dataframe\">\n",
       "  <thead>\n",
       "    <tr style=\"text-align: right;\">\n",
       "      <th></th>\n",
       "      <th>property_type</th>\n",
       "      <th>society</th>\n",
       "      <th>sector</th>\n",
       "      <th>price</th>\n",
       "      <th>price_per_sqft</th>\n",
       "      <th>area</th>\n",
       "      <th>areaWithType</th>\n",
       "      <th>bedRoom</th>\n",
       "      <th>bathroom</th>\n",
       "      <th>balcony</th>\n",
       "      <th>...</th>\n",
       "      <th>super_built_up_area</th>\n",
       "      <th>built_up_area</th>\n",
       "      <th>carpet_area</th>\n",
       "      <th>study room</th>\n",
       "      <th>servant room</th>\n",
       "      <th>store room</th>\n",
       "      <th>pooja room</th>\n",
       "      <th>others</th>\n",
       "      <th>furnishing_type</th>\n",
       "      <th>luxury_score</th>\n",
       "    </tr>\n",
       "  </thead>\n",
       "  <tbody>\n",
       "    <tr>\n",
       "      <th>0</th>\n",
       "      <td>flat</td>\n",
       "      <td>umang winter hills</td>\n",
       "      <td>sector 77</td>\n",
       "      <td>0.86</td>\n",
       "      <td>6408.0</td>\n",
       "      <td>1342.0</td>\n",
       "      <td>Super Built up area 1342(124.68 sq.m.)</td>\n",
       "      <td>2</td>\n",
       "      <td>2</td>\n",
       "      <td>2</td>\n",
       "      <td>...</td>\n",
       "      <td>1342.0</td>\n",
       "      <td>NaN</td>\n",
       "      <td>NaN</td>\n",
       "      <td>0</td>\n",
       "      <td>0</td>\n",
       "      <td>0</td>\n",
       "      <td>0</td>\n",
       "      <td>0</td>\n",
       "      <td>1</td>\n",
       "      <td>79</td>\n",
       "    </tr>\n",
       "    <tr>\n",
       "      <th>1</th>\n",
       "      <td>flat</td>\n",
       "      <td>pivotal devaan</td>\n",
       "      <td>sector 84</td>\n",
       "      <td>0.41</td>\n",
       "      <td>7032.0</td>\n",
       "      <td>583.0</td>\n",
       "      <td>Super Built up area 583(54.16 sq.m.)Built Up a...</td>\n",
       "      <td>2</td>\n",
       "      <td>2</td>\n",
       "      <td>2</td>\n",
       "      <td>...</td>\n",
       "      <td>583.0</td>\n",
       "      <td>565.0</td>\n",
       "      <td>483.0</td>\n",
       "      <td>0</td>\n",
       "      <td>0</td>\n",
       "      <td>0</td>\n",
       "      <td>0</td>\n",
       "      <td>0</td>\n",
       "      <td>1</td>\n",
       "      <td>23</td>\n",
       "    </tr>\n",
       "    <tr>\n",
       "      <th>2</th>\n",
       "      <td>house</td>\n",
       "      <td>dlf city plots</td>\n",
       "      <td>sector 26</td>\n",
       "      <td>17.30</td>\n",
       "      <td>38734.0</td>\n",
       "      <td>4466.0</td>\n",
       "      <td>Plot area 502(419.74 sq.m.)</td>\n",
       "      <td>6</td>\n",
       "      <td>7</td>\n",
       "      <td>3+</td>\n",
       "      <td>...</td>\n",
       "      <td>NaN</td>\n",
       "      <td>4518.0</td>\n",
       "      <td>NaN</td>\n",
       "      <td>1</td>\n",
       "      <td>1</td>\n",
       "      <td>1</td>\n",
       "      <td>1</td>\n",
       "      <td>0</td>\n",
       "      <td>1</td>\n",
       "      <td>124</td>\n",
       "    </tr>\n",
       "    <tr>\n",
       "      <th>3</th>\n",
       "      <td>house</td>\n",
       "      <td>sector 38 rwa</td>\n",
       "      <td>sector 38</td>\n",
       "      <td>4.30</td>\n",
       "      <td>28782.0</td>\n",
       "      <td>1494.0</td>\n",
       "      <td>Plot area 166(138.8 sq.m.)Built Up area: 165 s...</td>\n",
       "      <td>9</td>\n",
       "      <td>9</td>\n",
       "      <td>3+</td>\n",
       "      <td>...</td>\n",
       "      <td>NaN</td>\n",
       "      <td>165.0</td>\n",
       "      <td>164.0</td>\n",
       "      <td>0</td>\n",
       "      <td>0</td>\n",
       "      <td>0</td>\n",
       "      <td>1</td>\n",
       "      <td>1</td>\n",
       "      <td>1</td>\n",
       "      <td>41</td>\n",
       "    </tr>\n",
       "    <tr>\n",
       "      <th>4</th>\n",
       "      <td>house</td>\n",
       "      <td>independent</td>\n",
       "      <td>sector 92</td>\n",
       "      <td>1.80</td>\n",
       "      <td>7627.0</td>\n",
       "      <td>2360.0</td>\n",
       "      <td>Built Up area: 2360 (219.25 sq.m.)</td>\n",
       "      <td>4</td>\n",
       "      <td>5</td>\n",
       "      <td>0</td>\n",
       "      <td>...</td>\n",
       "      <td>NaN</td>\n",
       "      <td>2360.0</td>\n",
       "      <td>NaN</td>\n",
       "      <td>0</td>\n",
       "      <td>0</td>\n",
       "      <td>0</td>\n",
       "      <td>0</td>\n",
       "      <td>0</td>\n",
       "      <td>2</td>\n",
       "      <td>0</td>\n",
       "    </tr>\n",
       "  </tbody>\n",
       "</table>\n",
       "<p>5 rows × 23 columns</p>\n",
       "</div>"
      ],
      "text/plain": [
       "  property_type             society     sector  price  price_per_sqft    area  \\\n",
       "0          flat  umang winter hills  sector 77   0.86          6408.0  1342.0   \n",
       "1          flat      pivotal devaan  sector 84   0.41          7032.0   583.0   \n",
       "2         house      dlf city plots  sector 26  17.30         38734.0  4466.0   \n",
       "3         house       sector 38 rwa  sector 38   4.30         28782.0  1494.0   \n",
       "4         house         independent  sector 92   1.80          7627.0  2360.0   \n",
       "\n",
       "                                        areaWithType  bedRoom  bathroom  \\\n",
       "0             Super Built up area 1342(124.68 sq.m.)        2         2   \n",
       "1  Super Built up area 583(54.16 sq.m.)Built Up a...        2         2   \n",
       "2                        Plot area 502(419.74 sq.m.)        6         7   \n",
       "3  Plot area 166(138.8 sq.m.)Built Up area: 165 s...        9         9   \n",
       "4                 Built Up area: 2360 (219.25 sq.m.)        4         5   \n",
       "\n",
       "  balcony  ...  super_built_up_area built_up_area carpet_area  study room  \\\n",
       "0       2  ...               1342.0           NaN         NaN           0   \n",
       "1       2  ...                583.0         565.0       483.0           0   \n",
       "2      3+  ...                  NaN        4518.0         NaN           1   \n",
       "3      3+  ...                  NaN         165.0       164.0           0   \n",
       "4       0  ...                  NaN        2360.0         NaN           0   \n",
       "\n",
       "   servant room  store room  pooja room  others  furnishing_type  luxury_score  \n",
       "0             0           0           0       0                1            79  \n",
       "1             0           0           0       0                1            23  \n",
       "2             1           1           1       0                1           124  \n",
       "3             0           0           1       1                1            41  \n",
       "4             0           0           0       0                2             0  \n",
       "\n",
       "[5 rows x 23 columns]"
      ]
     },
     "execution_count": 12,
     "metadata": {},
     "output_type": "execute_result"
    }
   ],
   "source": [
    "df.head()"
   ]
  },
  {
   "cell_type": "code",
   "execution_count": 13,
   "metadata": {},
   "outputs": [
    {
     "data": {
      "text/plain": [
       "(3803, 23)"
      ]
     },
     "execution_count": 13,
     "metadata": {},
     "output_type": "execute_result"
    }
   ],
   "source": [
    "df.shape"
   ]
  },
  {
   "cell_type": "code",
   "execution_count": 14,
   "metadata": {},
   "outputs": [
    {
     "name": "stdout",
     "output_type": "stream",
     "text": [
      "<class 'pandas.core.frame.DataFrame'>\n",
      "RangeIndex: 3803 entries, 0 to 3802\n",
      "Data columns (total 23 columns):\n",
      " #   Column               Non-Null Count  Dtype  \n",
      "---  ------               --------------  -----  \n",
      " 0   property_type        3803 non-null   object \n",
      " 1   society              3802 non-null   object \n",
      " 2   sector               3803 non-null   object \n",
      " 3   price                3785 non-null   float64\n",
      " 4   price_per_sqft       3785 non-null   float64\n",
      " 5   area                 3785 non-null   float64\n",
      " 6   areaWithType         3803 non-null   object \n",
      " 7   bedRoom              3803 non-null   int64  \n",
      " 8   bathroom             3803 non-null   int64  \n",
      " 9   balcony              3803 non-null   object \n",
      " 10  floorNum             3784 non-null   float64\n",
      " 11  facing               2698 non-null   object \n",
      " 12  agePossession        3803 non-null   object \n",
      " 13  super_built_up_area  1915 non-null   float64\n",
      " 14  built_up_area        1733 non-null   float64\n",
      " 15  carpet_area          1944 non-null   float64\n",
      " 16  study room           3803 non-null   int64  \n",
      " 17  servant room         3803 non-null   int64  \n",
      " 18  store room           3803 non-null   int64  \n",
      " 19  pooja room           3803 non-null   int64  \n",
      " 20  others               3803 non-null   int64  \n",
      " 21  furnishing_type      3803 non-null   int64  \n",
      " 22  luxury_score         3803 non-null   int64  \n",
      "dtypes: float64(7), int64(9), object(7)\n",
      "memory usage: 683.5+ KB\n"
     ]
    }
   ],
   "source": [
    "df.info()"
   ]
  },
  {
   "cell_type": "code",
   "execution_count": 15,
   "metadata": {},
   "outputs": [
    {
     "data": {
      "text/plain": [
       "126"
      ]
     },
     "execution_count": 15,
     "metadata": {},
     "output_type": "execute_result"
    }
   ],
   "source": [
    "df.duplicated().sum()"
   ]
  },
  {
   "cell_type": "code",
   "execution_count": 16,
   "metadata": {},
   "outputs": [],
   "source": [
    "df.drop_duplicates(inplace=True)"
   ]
  },
  {
   "cell_type": "code",
   "execution_count": 17,
   "metadata": {},
   "outputs": [
    {
     "data": {
      "text/html": [
       "<div>\n",
       "<style scoped>\n",
       "    .dataframe tbody tr th:only-of-type {\n",
       "        vertical-align: middle;\n",
       "    }\n",
       "\n",
       "    .dataframe tbody tr th {\n",
       "        vertical-align: top;\n",
       "    }\n",
       "\n",
       "    .dataframe thead th {\n",
       "        text-align: right;\n",
       "    }\n",
       "</style>\n",
       "<table border=\"1\" class=\"dataframe\">\n",
       "  <thead>\n",
       "    <tr style=\"text-align: right;\">\n",
       "      <th></th>\n",
       "      <th>property_type</th>\n",
       "      <th>society</th>\n",
       "      <th>sector</th>\n",
       "      <th>price</th>\n",
       "      <th>price_per_sqft</th>\n",
       "      <th>area</th>\n",
       "      <th>areaWithType</th>\n",
       "      <th>bedRoom</th>\n",
       "      <th>bathroom</th>\n",
       "      <th>balcony</th>\n",
       "      <th>...</th>\n",
       "      <th>super_built_up_area</th>\n",
       "      <th>built_up_area</th>\n",
       "      <th>carpet_area</th>\n",
       "      <th>study room</th>\n",
       "      <th>servant room</th>\n",
       "      <th>store room</th>\n",
       "      <th>pooja room</th>\n",
       "      <th>others</th>\n",
       "      <th>furnishing_type</th>\n",
       "      <th>luxury_score</th>\n",
       "    </tr>\n",
       "  </thead>\n",
       "  <tbody>\n",
       "    <tr>\n",
       "      <th>0</th>\n",
       "      <td>flat</td>\n",
       "      <td>umang winter hills</td>\n",
       "      <td>sector 77</td>\n",
       "      <td>0.86</td>\n",
       "      <td>6408.0</td>\n",
       "      <td>1342.0</td>\n",
       "      <td>Super Built up area 1342(124.68 sq.m.)</td>\n",
       "      <td>2</td>\n",
       "      <td>2</td>\n",
       "      <td>2</td>\n",
       "      <td>...</td>\n",
       "      <td>1342.0</td>\n",
       "      <td>NaN</td>\n",
       "      <td>NaN</td>\n",
       "      <td>0</td>\n",
       "      <td>0</td>\n",
       "      <td>0</td>\n",
       "      <td>0</td>\n",
       "      <td>0</td>\n",
       "      <td>1</td>\n",
       "      <td>79</td>\n",
       "    </tr>\n",
       "    <tr>\n",
       "      <th>1</th>\n",
       "      <td>flat</td>\n",
       "      <td>pivotal devaan</td>\n",
       "      <td>sector 84</td>\n",
       "      <td>0.41</td>\n",
       "      <td>7032.0</td>\n",
       "      <td>583.0</td>\n",
       "      <td>Super Built up area 583(54.16 sq.m.)Built Up a...</td>\n",
       "      <td>2</td>\n",
       "      <td>2</td>\n",
       "      <td>2</td>\n",
       "      <td>...</td>\n",
       "      <td>583.0</td>\n",
       "      <td>565.0</td>\n",
       "      <td>483.0</td>\n",
       "      <td>0</td>\n",
       "      <td>0</td>\n",
       "      <td>0</td>\n",
       "      <td>0</td>\n",
       "      <td>0</td>\n",
       "      <td>1</td>\n",
       "      <td>23</td>\n",
       "    </tr>\n",
       "    <tr>\n",
       "      <th>2</th>\n",
       "      <td>house</td>\n",
       "      <td>dlf city plots</td>\n",
       "      <td>sector 26</td>\n",
       "      <td>17.30</td>\n",
       "      <td>38734.0</td>\n",
       "      <td>4466.0</td>\n",
       "      <td>Plot area 502(419.74 sq.m.)</td>\n",
       "      <td>6</td>\n",
       "      <td>7</td>\n",
       "      <td>3+</td>\n",
       "      <td>...</td>\n",
       "      <td>NaN</td>\n",
       "      <td>4518.0</td>\n",
       "      <td>NaN</td>\n",
       "      <td>1</td>\n",
       "      <td>1</td>\n",
       "      <td>1</td>\n",
       "      <td>1</td>\n",
       "      <td>0</td>\n",
       "      <td>1</td>\n",
       "      <td>124</td>\n",
       "    </tr>\n",
       "    <tr>\n",
       "      <th>3</th>\n",
       "      <td>house</td>\n",
       "      <td>sector 38 rwa</td>\n",
       "      <td>sector 38</td>\n",
       "      <td>4.30</td>\n",
       "      <td>28782.0</td>\n",
       "      <td>1494.0</td>\n",
       "      <td>Plot area 166(138.8 sq.m.)Built Up area: 165 s...</td>\n",
       "      <td>9</td>\n",
       "      <td>9</td>\n",
       "      <td>3+</td>\n",
       "      <td>...</td>\n",
       "      <td>NaN</td>\n",
       "      <td>165.0</td>\n",
       "      <td>164.0</td>\n",
       "      <td>0</td>\n",
       "      <td>0</td>\n",
       "      <td>0</td>\n",
       "      <td>1</td>\n",
       "      <td>1</td>\n",
       "      <td>1</td>\n",
       "      <td>41</td>\n",
       "    </tr>\n",
       "    <tr>\n",
       "      <th>4</th>\n",
       "      <td>house</td>\n",
       "      <td>independent</td>\n",
       "      <td>sector 92</td>\n",
       "      <td>1.80</td>\n",
       "      <td>7627.0</td>\n",
       "      <td>2360.0</td>\n",
       "      <td>Built Up area: 2360 (219.25 sq.m.)</td>\n",
       "      <td>4</td>\n",
       "      <td>5</td>\n",
       "      <td>0</td>\n",
       "      <td>...</td>\n",
       "      <td>NaN</td>\n",
       "      <td>2360.0</td>\n",
       "      <td>NaN</td>\n",
       "      <td>0</td>\n",
       "      <td>0</td>\n",
       "      <td>0</td>\n",
       "      <td>0</td>\n",
       "      <td>0</td>\n",
       "      <td>2</td>\n",
       "      <td>0</td>\n",
       "    </tr>\n",
       "  </tbody>\n",
       "</table>\n",
       "<p>5 rows × 23 columns</p>\n",
       "</div>"
      ],
      "text/plain": [
       "  property_type             society     sector  price  price_per_sqft    area  \\\n",
       "0          flat  umang winter hills  sector 77   0.86          6408.0  1342.0   \n",
       "1          flat      pivotal devaan  sector 84   0.41          7032.0   583.0   \n",
       "2         house      dlf city plots  sector 26  17.30         38734.0  4466.0   \n",
       "3         house       sector 38 rwa  sector 38   4.30         28782.0  1494.0   \n",
       "4         house         independent  sector 92   1.80          7627.0  2360.0   \n",
       "\n",
       "                                        areaWithType  bedRoom  bathroom  \\\n",
       "0             Super Built up area 1342(124.68 sq.m.)        2         2   \n",
       "1  Super Built up area 583(54.16 sq.m.)Built Up a...        2         2   \n",
       "2                        Plot area 502(419.74 sq.m.)        6         7   \n",
       "3  Plot area 166(138.8 sq.m.)Built Up area: 165 s...        9         9   \n",
       "4                 Built Up area: 2360 (219.25 sq.m.)        4         5   \n",
       "\n",
       "  balcony  ...  super_built_up_area built_up_area carpet_area  study room  \\\n",
       "0       2  ...               1342.0           NaN         NaN           0   \n",
       "1       2  ...                583.0         565.0       483.0           0   \n",
       "2      3+  ...                  NaN        4518.0         NaN           1   \n",
       "3      3+  ...                  NaN         165.0       164.0           0   \n",
       "4       0  ...                  NaN        2360.0         NaN           0   \n",
       "\n",
       "   servant room  store room  pooja room  others  furnishing_type  luxury_score  \n",
       "0             0           0           0       0                1            79  \n",
       "1             0           0           0       0                1            23  \n",
       "2             1           1           1       0                1           124  \n",
       "3             0           0           1       1                1            41  \n",
       "4             0           0           0       0                2             0  \n",
       "\n",
       "[5 rows x 23 columns]"
      ]
     },
     "execution_count": 17,
     "metadata": {},
     "output_type": "execute_result"
    }
   ],
   "source": [
    "df.head()"
   ]
  },
  {
   "cell_type": "markdown",
   "metadata": {},
   "source": [
    "## Property Type"
   ]
  },
  {
   "cell_type": "code",
   "execution_count": 19,
   "metadata": {},
   "outputs": [
    {
     "data": {
      "text/plain": [
       "'Observation :'"
      ]
     },
     "execution_count": 19,
     "metadata": {},
     "output_type": "execute_result"
    },
    {
     "data": {
      "image/png": "[encoded data removed]",
      "text/plain": [
       "<Figure size 640x480 with 1 Axes>"
      ]
     },
     "metadata": {},
     "output_type": "display_data"
    }
   ],
   "source": [
    "df['property_type'].value_counts().plot(kind = 'bar')\n",
    "\n",
    "\"\"\"Observation :\n",
    "> Majority are flats (75 %) and less number of houses (~25%)\n",
    "> \"\"\""
   ]
  },
  {
   "cell_type": "markdown",
   "metadata": {},
   "source": [
    "### Society"
   ]
  },
  {
   "cell_type": "code",
   "execution_count": 20,
   "metadata": {},
   "outputs": [
    {
     "data": {
      "text/plain": [
       "(676,)"
      ]
     },
     "execution_count": 20,
     "metadata": {},
     "output_type": "execute_result"
    }
   ],
   "source": [
    "df['society'].value_counts().shape"
   ]
  },
  {
   "cell_type": "code",
   "execution_count": 21,
   "metadata": {},
   "outputs": [
    {
     "data": {
      "text/plain": [
       "independent                             486\n",
       "tulip violet                             75\n",
       "ss the leaf                              73\n",
       "dlf new town heights                     42\n",
       "shapoorji pallonji joyville gurugram     42\n",
       "                                       ... \n",
       "ramson kshitij sec-95 gurugram            1\n",
       "city heights                              1\n",
       "ashok vihar phase 2                       1\n",
       "landmark the residency                    1\n",
       "signature signum 95a                      1\n",
       "Name: society, Length: 676, dtype: int64"
      ]
     },
     "execution_count": 21,
     "metadata": {},
     "output_type": "execute_result"
    }
   ],
   "source": [
    "df['society'].value_counts()"
   ]
  },
  {
   "cell_type": "code",
   "execution_count": 22,
   "metadata": {},
   "outputs": [
    {
     "data": {
      "text/plain": [
       "tulip violet                            0.023511\n",
       "ss the leaf                             0.046395\n",
       "dlf new town heights                    0.059561\n",
       "shapoorji pallonji joyville gurugram    0.072727\n",
       "signature global park                   0.083699\n",
       "                                          ...   \n",
       "ats kocoon                              0.490282\n",
       "umang monsoon breeze                    0.494357\n",
       "the close north                         0.498433\n",
       "unitech uniworld resorts                0.502194\n",
       "ireo the corridors                      0.505956\n",
       "Name: society, Length: 75, dtype: float64"
      ]
     },
     "execution_count": 22,
     "metadata": {},
     "output_type": "execute_result"
    }
   ],
   "source": [
    "df[df['society'] != 'independent']['society'].value_counts(normalize = True).cumsum().head(75)"
   ]
  },
  {
   "cell_type": "code",
   "execution_count": 23,
   "metadata": {},
   "outputs": [
    {
     "data": {
      "text/plain": [
       "{'Very High (>100)': 1,\n",
       " 'High (50 -100)': 2,\n",
       " 'Average (10-49)': 92,\n",
       " 'Low (2-9)': 279,\n",
       " 'Very Low (1)': 308}"
      ]
     },
     "execution_count": 23,
     "metadata": {},
     "output_type": "execute_result"
    }
   ],
   "source": [
    "society_counts = df['society'].value_counts()\n",
    "\n",
    "# Frequency distribution for socities\n",
    "frequency_bins = {\n",
    "    \"Very High (>100)\" : (society_counts > 100).sum(),\n",
    "    \"High (50 -100)\" : ((society_counts >=50) & (society_counts <= 100)).sum(),\n",
    "    \"Average (10-49)\" : ((society_counts >=10) & (society_counts <= 50)).sum(),\n",
    "    \"Low (2-9)\": ((society_counts > 1) & (society_counts <= 10)).sum(),\n",
    "    \"Very Low (1)\": (society_counts == 1).sum()\n",
    "}\n",
    "frequency_bins"
   ]
  },
  {
   "cell_type": "code",
   "execution_count": 25,
   "metadata": {},
   "outputs": [
    {
     "data": {
      "text/plain": [
       "<Axes: >"
      ]
     },
     "execution_count": 25,
     "metadata": {},
     "output_type": "execute_result"
    },
    {
     "data": {
      "image/png": "[encoded data removed]",
      "text/plain": [
       "<Figure size 640x480 with 1 Axes>"
      ]
     },
     "metadata": {},
     "output_type": "display_data"
    }
   ],
   "source": [
    "# Plotting the top 10 socities\n",
    "df[df['society'] != 'independent']['society'].value_counts().head(10).plot(kind = 'bar')"
   ]
  },
  {
   "cell_type": "code",
   "execution_count": 26,
   "metadata": {},
   "outputs": [
    {
     "data": {
      "text/plain": [
       "1"
      ]
     },
     "execution_count": 26,
     "metadata": {},
     "output_type": "execute_result"
    }
   ],
   "source": [
    "df['society'].isnull().sum()"
   ]
  },
  {
   "cell_type": "code",
   "execution_count": 29,
   "metadata": {},
   "outputs": [
    {
     "data": {
      "text/html": [
       "<div>\n",
       "<style scoped>\n",
       "    .dataframe tbody tr th:only-of-type {\n",
       "        vertical-align: middle;\n",
       "    }\n",
       "\n",
       "    .dataframe tbody tr th {\n",
       "        vertical-align: top;\n",
       "    }\n",
       "\n",
       "    .dataframe thead th {\n",
       "        text-align: right;\n",
       "    }\n",
       "</style>\n",
       "<table border=\"1\" class=\"dataframe\">\n",
       "  <thead>\n",
       "    <tr style=\"text-align: right;\">\n",
       "      <th></th>\n",
       "      <th>property_type</th>\n",
       "      <th>society</th>\n",
       "      <th>sector</th>\n",
       "      <th>price</th>\n",
       "      <th>price_per_sqft</th>\n",
       "      <th>area</th>\n",
       "      <th>areaWithType</th>\n",
       "      <th>bedRoom</th>\n",
       "      <th>bathroom</th>\n",
       "      <th>balcony</th>\n",
       "      <th>...</th>\n",
       "      <th>super_built_up_area</th>\n",
       "      <th>built_up_area</th>\n",
       "      <th>carpet_area</th>\n",
       "      <th>study room</th>\n",
       "      <th>servant room</th>\n",
       "      <th>store room</th>\n",
       "      <th>pooja room</th>\n",
       "      <th>others</th>\n",
       "      <th>furnishing_type</th>\n",
       "      <th>luxury_score</th>\n",
       "    </tr>\n",
       "  </thead>\n",
       "  <tbody>\n",
       "    <tr>\n",
       "      <th>1626</th>\n",
       "      <td>flat</td>\n",
       "      <td>NaN</td>\n",
       "      <td>sector 78</td>\n",
       "      <td>0.6</td>\n",
       "      <td>3692.0</td>\n",
       "      <td>1625.0</td>\n",
       "      <td>Built Up area: 1625 (150.97 sq.m.)</td>\n",
       "      <td>2</td>\n",
       "      <td>2</td>\n",
       "      <td>0</td>\n",
       "      <td>...</td>\n",
       "      <td>NaN</td>\n",
       "      <td>1625.0</td>\n",
       "      <td>NaN</td>\n",
       "      <td>0</td>\n",
       "      <td>0</td>\n",
       "      <td>0</td>\n",
       "      <td>0</td>\n",
       "      <td>0</td>\n",
       "      <td>2</td>\n",
       "      <td>0</td>\n",
       "    </tr>\n",
       "  </tbody>\n",
       "</table>\n",
       "<p>1 rows × 23 columns</p>\n",
       "</div>"
      ],
      "text/plain": [
       "     property_type society     sector  price  price_per_sqft    area  \\\n",
       "1626          flat     NaN  sector 78    0.6          3692.0  1625.0   \n",
       "\n",
       "                            areaWithType  bedRoom  bathroom balcony  ...  \\\n",
       "1626  Built Up area: 1625 (150.97 sq.m.)        2         2       0  ...   \n",
       "\n",
       "      super_built_up_area built_up_area carpet_area  study room  servant room  \\\n",
       "1626                  NaN        1625.0         NaN           0             0   \n",
       "\n",
       "      store room  pooja room  others  furnishing_type  luxury_score  \n",
       "1626           0           0       0                2             0  \n",
       "\n",
       "[1 rows x 23 columns]"
      ]
     },
     "execution_count": 29,
     "metadata": {},
     "output_type": "execute_result"
    }
   ],
   "source": [
    "df[df['society'].isnull()]"
   ]
  },
  {
   "cell_type": "code",
   "execution_count": 30,
   "metadata": {},
   "outputs": [
    {
     "data": {
      "text/plain": [
       "'Very High (>100): Only 1 society has more than 100 listings.\\nHigh (50-100): 2 societies have between 50 to 100 listings.\\nAverage (10-49): 92 societies fall in this range with 10 to 49 listings each.\\nLow (2-9): 273 societies have between 2 to 9 listings.\\nVery Low (1): A significant number, 308 societies, have only 1 listing.'"
      ]
     },
     "execution_count": 30,
     "metadata": {},
     "output_type": "execute_result"
    }
   ],
   "source": [
    "## Observations\n",
    "# 1. Around 13% properties comes under independent tag\n",
    "# 2. In total there aere 675 societies.\n",
    "# 3. The top 75 societies have 50 percent of the preperties and the rest 50 percent of the properties come under the remaining 600 societies\n",
    "\"\"\"Very High (>100): Only 1 society has more than 100 listings.\n",
    "High (50-100): 2 societies have between 50 to 100 listings.\n",
    "Average (10-49): 92 societies fall in this range with 10 to 49 listings each.\n",
    "Low (2-9): 273 societies have between 2 to 9 listings.\n",
    "Very Low (1): A significant number, 308 societies, have only 1 listing.\"\"\"\n",
    "# 4. 1 missing value"
   ]
  },
  {
   "cell_type": "markdown",
   "metadata": {},
   "source": [
    "## sector"
   ]
  },
  {
   "cell_type": "code",
   "execution_count": 31,
   "metadata": {},
   "outputs": [
    {
     "data": {
      "text/plain": [
       "(113,)"
      ]
     },
     "execution_count": 31,
     "metadata": {},
     "output_type": "execute_result"
    }
   ],
   "source": [
    "df['sector'].value_counts().shape  # unique sector"
   ]
  },
  {
   "cell_type": "code",
   "execution_count": 32,
   "metadata": {},
   "outputs": [
    {
     "data": {
      "text/plain": [
       "<Axes: >"
      ]
     },
     "execution_count": 32,
     "metadata": {},
     "output_type": "execute_result"
    },
    {
     "data": {
      "image/png": "[encoded data removed]",
      "text/plain": [
       "<Figure size 640x480 with 1 Axes>"
      ]
     },
     "metadata": {},
     "output_type": "display_data"
    }
   ],
   "source": [
    "# Plotting the top 10 sectors\n",
    "df['sector'].value_counts().head(10).plot(kind='bar')"
   ]
  },
  {
   "cell_type": "code",
   "execution_count": 33,
   "metadata": {},
   "outputs": [
    {
     "data": {
      "text/plain": [
       "{'Very High (>100)': 3,\n",
       " 'High (50-100)': 25,\n",
       " 'Average (10-49)': 63,\n",
       " 'Low (2-9)': 21,\n",
       " 'Very Low (1)': 1}"
      ]
     },
     "execution_count": 33,
     "metadata": {},
     "output_type": "execute_result"
    }
   ],
   "source": [
    "# Frequency distribution for sectors\n",
    "sector_counts = df['sector'].value_counts()\n",
    "\n",
    "sector_frequency_bins = {\n",
    "    \"Very High (>100)\": (sector_counts > 100).sum(),\n",
    "    \"High (50-100)\": ((sector_counts >= 50) & (sector_counts <= 100)).sum(),\n",
    "    \"Average (10-49)\": ((sector_counts >= 10) & (sector_counts < 50)).sum(),\n",
    "    \"Low (2-9)\": ((sector_counts > 1) & (sector_counts < 10)).sum(),\n",
    "    \"Very Low (1)\": (sector_counts == 1).sum()\n",
    "}\n",
    "\n",
    "sector_frequency_bins"
   ]
  },
  {
   "cell_type": "code",
   "execution_count": 34,
   "metadata": {},
   "outputs": [
    {
     "data": {
      "text/plain": [
       "'Total 113 unique sectors in the dataset\\n    Frequency distribution of sectors:\\n        Very High (>100): 3 sectors have more than 100 listings.\\n        High (50-100): 25 sectors have between 50 to 100 listings.\\n        Average (10-49): A majority, 63 sectors, fall in this range with 10 to 49 listings each.\\n        Low (2-9): 21 sectors have between 2 to 9 listings.\\n        Very Low (1): Interestingly, there are no sectors with only 1 listing.'"
      ]
     },
     "execution_count": 34,
     "metadata": {},
     "output_type": "execute_result"
    }
   ],
   "source": [
    "# Observations\n",
    "\"\"\"Total 113 unique sectors in the dataset\n",
    "    Frequency distribution of sectors:\n",
    "        Very High (>100): 3 sectors have more than 100 listings.\n",
    "        High (50-100): 25 sectors have between 50 to 100 listings.\n",
    "        Average (10-49): A majority, 63 sectors, fall in this range with 10 to 49 listings each.\n",
    "        Low (2-9): 21 sectors have between 2 to 9 listings.\n",
    "        Very Low (1): Interestingly, there are no sectors with only 1 listing.\"\"\""
   ]
  },
  {
   "cell_type": "markdown",
   "metadata": {},
   "source": [
    "## Price"
   ]
  },
  {
   "cell_type": "code",
   "execution_count": 35,
   "metadata": {},
   "outputs": [
    {
     "data": {
      "text/plain": [
       "17"
      ]
     },
     "execution_count": 35,
     "metadata": {},
     "output_type": "execute_result"
    }
   ],
   "source": [
    "df['price'].isnull().sum()"
   ]
  },
  {
   "cell_type": "code",
   "execution_count": 36,
   "metadata": {},
   "outputs": [
    {
     "data": {
      "text/plain": [
       "count    3660.000000\n",
       "mean        2.533664\n",
       "std         2.980623\n",
       "min         0.070000\n",
       "25%         0.950000\n",
       "50%         1.520000\n",
       "75%         2.750000\n",
       "max        31.500000\n",
       "Name: price, dtype: float64"
      ]
     },
     "execution_count": 36,
     "metadata": {},
     "output_type": "execute_result"
    }
   ],
   "source": [
    "df['price'].describe()"
   ]
  },
  {
   "cell_type": "code",
   "execution_count": 37,
   "metadata": {},
   "outputs": [
    {
     "data": {
      "text/plain": [
       "<Axes: xlabel='price', ylabel='Count'>"
      ]
     },
     "execution_count": 37,
     "metadata": {},
     "output_type": "execute_result"
    },
    {
     "data": {
      "image/png": "[encoded data removed]",
      "text/plain": [
       "<Figure size 640x480 with 1 Axes>"
      ]
     },
     "metadata": {},
     "output_type": "display_data"
    }
   ],
   "source": [
    "sns.histplot(df['price'], kde=True, bins=50)"
   ]
  },
  {
   "cell_type": "code",
   "execution_count": 41,
   "metadata": {},
   "outputs": [
    {
     "data": {
      "image/png": "[encoded data removed]",
      "text/plain": [
       "<Figure size 640x480 with 1 Axes>"
      ]
     },
     "metadata": {},
     "output_type": "display_data"
    }
   ],
   "source": [
    "sns.boxplot(x=df['price'], color = 'blue')\n",
    "plt.grid()"
   ]
  },
  {
   "cell_type": "code",
   "execution_count": 42,
   "metadata": {},
   "outputs": [
    {
     "data": {
      "text/plain": [
       "'\\n    Distribution: The histogram indicates that most properties are priced in the lower range (below 5 crores), with a few properties going beyond 10 crores.\\n    Box Plot: The box plot showcases the spread of the data and potential outliers. Properties priced above approximately 10 crores might be considered outliers as they lie beyond the upper whisker of the box plot.\\n    Missing Values: There are 17 missing values in the price column.\\n'"
      ]
     },
     "execution_count": 42,
     "metadata": {},
     "output_type": "execute_result"
    }
   ],
   "source": [
    "## Descriptive Statistics:\n",
    "\"\"\"\n",
    "    Count: There are 3,660 non-missing price entries.\n",
    "    Mean Price: The average price is approximately 2.53 crores.\n",
    "    Median Price: The median (or 50th percentile) price is 1.52 crores.\n",
    "    Standard Deviation: The prices have a standard deviation of 2.98, indicating variability in the prices.\n",
    "    Range: Prices range from a minimum of 0.07 crores to a maximum of 31.5 crores.\n",
    "    IQR: The interquartile range (difference between 75th and 25th percentile) is from 0.95 crores to 2.75 crores.\n",
    "\"\"\"\n",
    "##Visualizations:\n",
    "\"\"\"\n",
    "    Distribution: The histogram indicates that most properties are priced in the lower range (below 5 crores), with a few properties going beyond 10 crores.\n",
    "    Box Plot: The box plot showcases the spread of the data and potential outliers. Properties priced above approximately 10 crores might be considered outliers as they lie beyond the upper whisker of the box plot.\n",
    "    Missing Values: There are 17 missing values in the price column.\n",
    "\"\"\""
   ]
  },
  {
   "cell_type": "code",
   "execution_count": 43,
   "metadata": {},
   "outputs": [
    {
     "name": "stdout",
     "output_type": "stream",
     "text": [
      "Skewness: 3.279170\n",
      "Kurtosis: 14.933373\n"
     ]
    }
   ],
   "source": [
    "# Skewness and Kurtosis\n",
    "print(\"Skewness: %f\" % df['price'].skew())\n",
    "print(\"Kurtosis: %f\" % df['price'].kurt())"
   ]
  },
  {
   "cell_type": "code",
   "execution_count": null,
   "metadata": {},
   "outputs": [],
   "source": [
    "# Observations"
   ]
  }
 ],
 "metadata": {
  "kernelspec": {
   "display_name": "Research_env",
   "language": "python",
   "name": "python3"
  },
  "language_info": {
   "codemirror_mode": {
    "name": "ipython",
    "version": 3
   },
   "file_extension": ".py",
   "mimetype": "text/x-python",
   "name": "python",
   "nbconvert_exporter": "python",
   "pygments_lexer": "ipython3",
   "version": "3.9.16"
  }
 },
 "nbformat": 4,
 "nbformat_minor": 2
}
