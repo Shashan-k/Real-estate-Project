{
 "cells": [
  {
   "cell_type": "code",
   "execution_count": 1,
   "metadata": {},
   "outputs": [],
   "source": [
    "import numpy as np\n",
    "import pandas as pd\n",
    "import re"
   ]
  },
  {
   "cell_type": "code",
   "execution_count": 2,
   "metadata": {},
   "outputs": [],
   "source": [
    "pd.set_option('display.max_colwidth', None)\n",
    "pd.set_option('display.max_rows', None)\n",
    "pd.set_option('display.max_colwidth', None)\n"
   ]
  },
  {
   "cell_type": "code",
   "execution_count": 3,
   "metadata": {},
   "outputs": [],
   "source": [
    "df = pd.read_csv('D:\\Projects\\Research\\CapstoneCampusX\\gurgaon_properties_cleaned_v1')"
   ]
  },
  {
   "cell_type": "code",
   "execution_count": 6,
   "metadata": {},
   "outputs": [
    {
     "data": {
      "text/plain": [
       "122"
      ]
     },
     "execution_count": 6,
     "metadata": {},
     "output_type": "execute_result"
    }
   ],
   "source": [
    "df.duplicated().sum()"
   ]
  },
  {
   "cell_type": "code",
   "execution_count": 8,
   "metadata": {},
   "outputs": [
    {
     "data": {
      "text/html": [
       "<div>\n",
       "<style scoped>\n",
       "    .dataframe tbody tr th:only-of-type {\n",
       "        vertical-align: middle;\n",
       "    }\n",
       "\n",
       "    .dataframe tbody tr th {\n",
       "        vertical-align: top;\n",
       "    }\n",
       "\n",
       "    .dataframe thead th {\n",
       "        text-align: right;\n",
       "    }\n",
       "</style>\n",
       "<table border=\"1\" class=\"dataframe\">\n",
       "  <thead>\n",
       "    <tr style=\"text-align: right;\">\n",
       "      <th></th>\n",
       "      <th>property_type</th>\n",
       "      <th>society</th>\n",
       "      <th>sector</th>\n",
       "      <th>price</th>\n",
       "      <th>price_per_sqft</th>\n",
       "      <th>area</th>\n",
       "      <th>areaWithType</th>\n",
       "      <th>bedRoom</th>\n",
       "      <th>bathroom</th>\n",
       "      <th>balcony</th>\n",
       "      <th>additionalRoom</th>\n",
       "      <th>floorNum</th>\n",
       "      <th>facing</th>\n",
       "      <th>agePossession</th>\n",
       "      <th>nearbyLocations</th>\n",
       "      <th>furnishDetails</th>\n",
       "      <th>features</th>\n",
       "    </tr>\n",
       "  </thead>\n",
       "  <tbody>\n",
       "    <tr>\n",
       "      <th>0</th>\n",
       "      <td>flat</td>\n",
       "      <td>umang winter hills</td>\n",
       "      <td>sector 77</td>\n",
       "      <td>0.86</td>\n",
       "      <td>6408.0</td>\n",
       "      <td>1342.0</td>\n",
       "      <td>Super Built up area 1342(124.68 sq.m.)</td>\n",
       "      <td>2</td>\n",
       "      <td>2</td>\n",
       "      <td>2</td>\n",
       "      <td>not available</td>\n",
       "      <td>16.0</td>\n",
       "      <td>NaN</td>\n",
       "      <td>0 to 1 Year Old</td>\n",
       "      <td>['Entertainland Mall', 'Delhi Jaipur Expressway', 'Jhankar Senior Secondary School', 'Singhania University, Manesar', 'Miracles Apollo Hospital', 'Indira Gandhi International Airport', 'Garhi Harsaru Junction', 'Eros Corporate Park', 'Hyatt Regency Gurgaon', 'Aravalli Hills']</td>\n",
       "      <td>['1 Water Purifier', '5 Fan', '3 Geyser', '1 Stove', '20 Light', '3 AC', '1 Chimney', '1 Modular Kitchen', '2 Wardrobe', 'No Bed', 'No Curtains', 'No Dining Table', 'No Exhaust Fan', 'No Microwave', 'No Fridge', 'No Sofa', 'No TV', 'No Washing Machine']</td>\n",
       "      <td>['Security / Fire Alarm', 'Feng Shui / Vaastu Compliant', 'Intercom Facility', 'Lift(s)', 'Water purifier', 'Maintenance Staff', 'Visitor Parking', 'Swimming Pool', 'Park', 'Internet/wi-fi connectivity', 'Fitness Centre / GYM', 'Rain Water Harvesting', 'Club house / Community Center']</td>\n",
       "    </tr>\n",
       "    <tr>\n",
       "      <th>1</th>\n",
       "      <td>flat</td>\n",
       "      <td>pivotal devaan</td>\n",
       "      <td>sector 84</td>\n",
       "      <td>0.41</td>\n",
       "      <td>7032.0</td>\n",
       "      <td>583.0</td>\n",
       "      <td>Super Built up area 583(54.16 sq.m.)Built Up area: 565 sq.ft. (52.49 sq.m.)Carpet area: 483 sq.ft. (44.87 sq.m.)</td>\n",
       "      <td>2</td>\n",
       "      <td>2</td>\n",
       "      <td>2</td>\n",
       "      <td>not available</td>\n",
       "      <td>10.0</td>\n",
       "      <td>East</td>\n",
       "      <td>0 to 1 Year Old</td>\n",
       "      <td>['Dwarka Expressway', 'RPS International School', 'Shree Shyam Public School', 'The Millenium School', 'GD Goenka Public School', 'Genesis Hospital', 'Yashlok Medical Centre', 'Sarup Multispeciality Hospital', 'IGI Airport', 'State Bank of India', 'Holiday Inn', 'Hyatt Regency', 'Footprints', 'Saheed Bhagat Singh Sports Academy', 'Bharat Petroleum']</td>\n",
       "      <td>['3 Fan', '1 Exhaust Fan', '1 Geyser', '8 Light', '1 Modular Kitchen', '2 Wardrobe', 'No AC', 'No Bed', 'No Chimney', 'No Curtains', 'No Dining Table', 'No Microwave', 'No Fridge', 'No Sofa', 'No Stove', 'No TV', 'No Washing Machine', 'No Water Purifier']</td>\n",
       "      <td>['Security / Fire Alarm', 'Lift(s)', 'Maintenance Staff', 'Park']</td>\n",
       "    </tr>\n",
       "  </tbody>\n",
       "</table>\n",
       "</div>"
      ],
      "text/plain": [
       "  property_type             society     sector  price  price_per_sqft    area  \\\n",
       "0          flat  umang winter hills  sector 77   0.86          6408.0  1342.0   \n",
       "1          flat      pivotal devaan  sector 84   0.41          7032.0   583.0   \n",
       "\n",
       "                                                                                                       areaWithType  \\\n",
       "0                                                                            Super Built up area 1342(124.68 sq.m.)   \n",
       "1  Super Built up area 583(54.16 sq.m.)Built Up area: 565 sq.ft. (52.49 sq.m.)Carpet area: 483 sq.ft. (44.87 sq.m.)   \n",
       "\n",
       "   bedRoom  bathroom balcony additionalRoom  floorNum facing    agePossession  \\\n",
       "0        2         2       2  not available      16.0    NaN  0 to 1 Year Old   \n",
       "1        2         2       2  not available      10.0   East  0 to 1 Year Old   \n",
       "\n",
       "                                                                                                                                                                                                                                                                                                                                                   nearbyLocations  \\\n",
       "0                                                                             ['Entertainland Mall', 'Delhi Jaipur Expressway', 'Jhankar Senior Secondary School', 'Singhania University, Manesar', 'Miracles Apollo Hospital', 'Indira Gandhi International Airport', 'Garhi Harsaru Junction', 'Eros Corporate Park', 'Hyatt Regency Gurgaon', 'Aravalli Hills']   \n",
       "1  ['Dwarka Expressway', 'RPS International School', 'Shree Shyam Public School', 'The Millenium School', 'GD Goenka Public School', 'Genesis Hospital', 'Yashlok Medical Centre', 'Sarup Multispeciality Hospital', 'IGI Airport', 'State Bank of India', 'Holiday Inn', 'Hyatt Regency', 'Footprints', 'Saheed Bhagat Singh Sports Academy', 'Bharat Petroleum']   \n",
       "\n",
       "                                                                                                                                                                                                                                                    furnishDetails  \\\n",
       "0    ['1 Water Purifier', '5 Fan', '3 Geyser', '1 Stove', '20 Light', '3 AC', '1 Chimney', '1 Modular Kitchen', '2 Wardrobe', 'No Bed', 'No Curtains', 'No Dining Table', 'No Exhaust Fan', 'No Microwave', 'No Fridge', 'No Sofa', 'No TV', 'No Washing Machine']   \n",
       "1  ['3 Fan', '1 Exhaust Fan', '1 Geyser', '8 Light', '1 Modular Kitchen', '2 Wardrobe', 'No AC', 'No Bed', 'No Chimney', 'No Curtains', 'No Dining Table', 'No Microwave', 'No Fridge', 'No Sofa', 'No Stove', 'No TV', 'No Washing Machine', 'No Water Purifier']   \n",
       "\n",
       "                                                                                                                                                                                                                                                                                        features  \n",
       "0  ['Security / Fire Alarm', 'Feng Shui / Vaastu Compliant', 'Intercom Facility', 'Lift(s)', 'Water purifier', 'Maintenance Staff', 'Visitor Parking', 'Swimming Pool', 'Park', 'Internet/wi-fi connectivity', 'Fitness Centre / GYM', 'Rain Water Harvesting', 'Club house / Community Center']  \n",
       "1                                                                                                                                                                                                                              ['Security / Fire Alarm', 'Lift(s)', 'Maintenance Staff', 'Park']  "
      ]
     },
     "execution_count": 8,
     "metadata": {},
     "output_type": "execute_result"
    }
   ],
   "source": [
    "df.head(2) # need to focus on areaWithType, additionalRoom, agePossession, furnishDetails, features"
   ]
  },
  {
   "cell_type": "markdown",
   "metadata": {},
   "source": [
    "### 1. areaWithType "
   ]
  },
  {
   "cell_type": "code",
   "execution_count": 9,
   "metadata": {},
   "outputs": [],
   "source": [
    "# Function to extract super built up area \n",
    "def get_super_built_up_area(text):\n",
    "    match = re.search(r'Super Built up area (\\d+\\d.?\\d*)',text)\n",
    "    if match:\n",
    "        return float(match.group(1))\n",
    "    return None"
   ]
  },
  {
   "cell_type": "code",
   "execution_count": 10,
   "metadata": {},
   "outputs": [],
   "source": [
    "# Function to extract Built up area or Carpet area\n",
    "def get_area(text, area_type):\n",
    "    match = re.search(area_type + r'\\s*:\\s*(\\d+\\.?\\d*)',text)\n",
    "    if match:\n",
    "        return float(match.group(1))\n",
    "    return None"
   ]
  },
  {
   "cell_type": "code",
   "execution_count": 11,
   "metadata": {},
   "outputs": [],
   "source": [
    "# Function to check if area is given in sq.m. and convert in sq.ft. wherever needed\n",
    "def convert_to_sqft(text,area_value):\n",
    "    if area_value is None:\n",
    "        return None\n",
    "    match = re.search(r'{} \\((\\d+\\.?\\d*) sq.m.\\)'.format(area_value), text)\n",
    "    if match:\n",
    "        sq_m_value = float(match.group(1)) * 10.7639 # factor to convert sqm to sqft\n",
    "        return sq_m_value\n",
    "    return area_value"
   ]
  },
  {
   "cell_type": "code",
   "execution_count": null,
   "metadata": {},
   "outputs": [],
   "source": [
    "# Extracting super Built up area and converting to sqft whereever needed\n",
    "\n",
    "df['super_built_up_area'] = df['areaWithType'].apply(get_super_built_up_area)\n",
    "df['super_built_up_area'] = df.apply(lambda x: convert_to_sqft(x['areaWithType'], x['super_built_up_area']), axis=1)"
   ]
  }
 ],
 "metadata": {
  "kernelspec": {
   "display_name": "Research_env",
   "language": "python",
   "name": "python3"
  },
  "language_info": {
   "codemirror_mode": {
    "name": "ipython",
    "version": 3
   },
   "file_extension": ".py",
   "mimetype": "text/x-python",
   "name": "python",
   "nbconvert_exporter": "python",
   "pygments_lexer": "ipython3",
   "version": "3.9.16"
  },
  "orig_nbformat": 4
 },
 "nbformat": 4,
 "nbformat_minor": 2
}
